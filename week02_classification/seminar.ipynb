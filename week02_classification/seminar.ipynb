{
 "cells": [
  {
   "cell_type": "markdown",
   "metadata": {},
   "source": [
    "# Large scale text analysis with deep learning (3 points)\n",
    "\n",
    "Today we're gonna apply the newly learned tools for the task of predicting job salary.\n",
    "\n",
    "<img src=\"https://storage.googleapis.com/kaggle-competitions/kaggle/3342/media/salary%20prediction%20engine%20v2.png\" width=400px>\n",
    "\n",
    "_Special thanks to [Oleg Vasilev](https://github.com/Omrigan/) for the core assignment idea._"
   ]
  },
  {
   "cell_type": "code",
   "execution_count": 1,
   "metadata": {},
   "outputs": [],
   "source": [
    "import numpy as np\n",
    "import pandas as pd\n",
    "import matplotlib.pyplot as plt\n",
    "%matplotlib inline"
   ]
  },
  {
   "cell_type": "markdown",
   "metadata": {},
   "source": [
    "### About the challenge\n",
    "For starters, let's download and unpack the data from [here]. \n",
    "\n",
    "You can also get it from [yadisk url](https://yadi.sk/d/vVEOWPFY3NruT7) the competition [page](https://www.kaggle.com/c/job-salary-prediction/data) (pick `Train_rev1.*`)."
   ]
  },
  {
   "cell_type": "code",
   "execution_count": 2,
   "metadata": {},
   "outputs": [
    {
     "data": {
      "text/plain": [
       "(244768, 12)"
      ]
     },
     "execution_count": 2,
     "metadata": {},
     "output_type": "execute_result"
    }
   ],
   "source": [
    "#!wget https://ysda-seminars.s3.eu-central-1.amazonaws.com/Train_rev1.zip\n",
    "data = pd.read_csv(\"./Train_rev1.zip\", compression='zip', index_col=None)\n",
    "data.shape"
   ]
  },
  {
   "cell_type": "code",
   "execution_count": 3,
   "metadata": {},
   "outputs": [
    {
     "data": {
      "text/html": [
       "<div>\n",
       "<style scoped>\n",
       "    .dataframe tbody tr th:only-of-type {\n",
       "        vertical-align: middle;\n",
       "    }\n",
       "\n",
       "    .dataframe tbody tr th {\n",
       "        vertical-align: top;\n",
       "    }\n",
       "\n",
       "    .dataframe thead th {\n",
       "        text-align: right;\n",
       "    }\n",
       "</style>\n",
       "<table border=\"1\" class=\"dataframe\">\n",
       "  <thead>\n",
       "    <tr style=\"text-align: right;\">\n",
       "      <th></th>\n",
       "      <th>Id</th>\n",
       "      <th>Title</th>\n",
       "      <th>FullDescription</th>\n",
       "      <th>LocationRaw</th>\n",
       "      <th>LocationNormalized</th>\n",
       "      <th>ContractType</th>\n",
       "      <th>ContractTime</th>\n",
       "      <th>Company</th>\n",
       "      <th>Category</th>\n",
       "      <th>SalaryRaw</th>\n",
       "      <th>SalaryNormalized</th>\n",
       "      <th>SourceName</th>\n",
       "    </tr>\n",
       "  </thead>\n",
       "  <tbody>\n",
       "    <tr>\n",
       "      <th>0</th>\n",
       "      <td>12612628</td>\n",
       "      <td>Engineering Systems Analyst</td>\n",
       "      <td>Engineering Systems Analyst Dorking Surrey Sal...</td>\n",
       "      <td>Dorking, Surrey, Surrey</td>\n",
       "      <td>Dorking</td>\n",
       "      <td>NaN</td>\n",
       "      <td>permanent</td>\n",
       "      <td>Gregory Martin International</td>\n",
       "      <td>Engineering Jobs</td>\n",
       "      <td>20000 - 30000/annum 20-30K</td>\n",
       "      <td>25000</td>\n",
       "      <td>cv-library.co.uk</td>\n",
       "    </tr>\n",
       "    <tr>\n",
       "      <th>1</th>\n",
       "      <td>12612830</td>\n",
       "      <td>Stress Engineer Glasgow</td>\n",
       "      <td>Stress Engineer Glasgow Salary **** to **** We...</td>\n",
       "      <td>Glasgow, Scotland, Scotland</td>\n",
       "      <td>Glasgow</td>\n",
       "      <td>NaN</td>\n",
       "      <td>permanent</td>\n",
       "      <td>Gregory Martin International</td>\n",
       "      <td>Engineering Jobs</td>\n",
       "      <td>25000 - 35000/annum 25-35K</td>\n",
       "      <td>30000</td>\n",
       "      <td>cv-library.co.uk</td>\n",
       "    </tr>\n",
       "    <tr>\n",
       "      <th>2</th>\n",
       "      <td>12612844</td>\n",
       "      <td>Modelling and simulation analyst</td>\n",
       "      <td>Mathematical Modeller / Simulation Analyst / O...</td>\n",
       "      <td>Hampshire, South East, South East</td>\n",
       "      <td>Hampshire</td>\n",
       "      <td>NaN</td>\n",
       "      <td>permanent</td>\n",
       "      <td>Gregory Martin International</td>\n",
       "      <td>Engineering Jobs</td>\n",
       "      <td>20000 - 40000/annum 20-40K</td>\n",
       "      <td>30000</td>\n",
       "      <td>cv-library.co.uk</td>\n",
       "    </tr>\n",
       "    <tr>\n",
       "      <th>3</th>\n",
       "      <td>12613049</td>\n",
       "      <td>Engineering Systems Analyst / Mathematical Mod...</td>\n",
       "      <td>Engineering Systems Analyst / Mathematical Mod...</td>\n",
       "      <td>Surrey, South East, South East</td>\n",
       "      <td>Surrey</td>\n",
       "      <td>NaN</td>\n",
       "      <td>permanent</td>\n",
       "      <td>Gregory Martin International</td>\n",
       "      <td>Engineering Jobs</td>\n",
       "      <td>25000 - 30000/annum 25K-30K negotiable</td>\n",
       "      <td>27500</td>\n",
       "      <td>cv-library.co.uk</td>\n",
       "    </tr>\n",
       "    <tr>\n",
       "      <th>4</th>\n",
       "      <td>12613647</td>\n",
       "      <td>Pioneer, Miser Engineering Systems Analyst</td>\n",
       "      <td>Pioneer, Miser  Engineering Systems Analyst Do...</td>\n",
       "      <td>Surrey, South East, South East</td>\n",
       "      <td>Surrey</td>\n",
       "      <td>NaN</td>\n",
       "      <td>permanent</td>\n",
       "      <td>Gregory Martin International</td>\n",
       "      <td>Engineering Jobs</td>\n",
       "      <td>20000 - 30000/annum 20-30K</td>\n",
       "      <td>25000</td>\n",
       "      <td>cv-library.co.uk</td>\n",
       "    </tr>\n",
       "  </tbody>\n",
       "</table>\n",
       "</div>"
      ],
      "text/plain": [
       "         Id                                              Title  \\\n",
       "0  12612628                        Engineering Systems Analyst   \n",
       "1  12612830                            Stress Engineer Glasgow   \n",
       "2  12612844                   Modelling and simulation analyst   \n",
       "3  12613049  Engineering Systems Analyst / Mathematical Mod...   \n",
       "4  12613647         Pioneer, Miser Engineering Systems Analyst   \n",
       "\n",
       "                                     FullDescription  \\\n",
       "0  Engineering Systems Analyst Dorking Surrey Sal...   \n",
       "1  Stress Engineer Glasgow Salary **** to **** We...   \n",
       "2  Mathematical Modeller / Simulation Analyst / O...   \n",
       "3  Engineering Systems Analyst / Mathematical Mod...   \n",
       "4  Pioneer, Miser  Engineering Systems Analyst Do...   \n",
       "\n",
       "                         LocationRaw LocationNormalized ContractType  \\\n",
       "0            Dorking, Surrey, Surrey            Dorking          NaN   \n",
       "1        Glasgow, Scotland, Scotland            Glasgow          NaN   \n",
       "2  Hampshire, South East, South East          Hampshire          NaN   \n",
       "3     Surrey, South East, South East             Surrey          NaN   \n",
       "4     Surrey, South East, South East             Surrey          NaN   \n",
       "\n",
       "  ContractTime                       Company          Category  \\\n",
       "0    permanent  Gregory Martin International  Engineering Jobs   \n",
       "1    permanent  Gregory Martin International  Engineering Jobs   \n",
       "2    permanent  Gregory Martin International  Engineering Jobs   \n",
       "3    permanent  Gregory Martin International  Engineering Jobs   \n",
       "4    permanent  Gregory Martin International  Engineering Jobs   \n",
       "\n",
       "                                SalaryRaw  SalaryNormalized        SourceName  \n",
       "0              20000 - 30000/annum 20-30K             25000  cv-library.co.uk  \n",
       "1              25000 - 35000/annum 25-35K             30000  cv-library.co.uk  \n",
       "2              20000 - 40000/annum 20-40K             30000  cv-library.co.uk  \n",
       "3  25000 - 30000/annum 25K-30K negotiable             27500  cv-library.co.uk  \n",
       "4              20000 - 30000/annum 20-30K             25000  cv-library.co.uk  "
      ]
     },
     "execution_count": 3,
     "metadata": {},
     "output_type": "execute_result"
    }
   ],
   "source": [
    "data.head()"
   ]
  },
  {
   "cell_type": "markdown",
   "metadata": {},
   "source": [
    "One problem with salary prediction is that it's oddly distributed: there are many people who are paid standard salaries and a few that get tons o money. The distribution is fat-tailed on the right side, which is inconvenient for MSE minimization.\n",
    "\n",
    "There are several techniques to combat this: using a different loss function, predicting log-target instead of raw target or even replacing targets with their percentiles among all salaries in the training set. We gonna use logarithm for now.\n",
    "\n",
    "_You can read more [in the official description](https://www.kaggle.com/c/job-salary-prediction#description)._"
   ]
  },
  {
   "cell_type": "code",
   "execution_count": 4,
   "metadata": {},
   "outputs": [
    {
     "data": {
      "image/png": "[encoded data removed]",
      "text/plain": [
       "<Figure size 576x288 with 2 Axes>"
      ]
     },
     "metadata": {
      "needs_background": "light"
     },
     "output_type": "display_data"
    }
   ],
   "source": [
    "data['Log1pSalary'] = np.log1p(data['SalaryNormalized']).astype('float32')\n",
    "\n",
    "plt.figure(figsize=[8, 4])\n",
    "plt.subplot(1, 2, 1)\n",
    "plt.hist(data[\"SalaryNormalized\"], bins=20);\n",
    "\n",
    "plt.subplot(1, 2, 2)\n",
    "plt.hist(data['Log1pSalary'], bins=20);"
   ]
  },
  {
   "cell_type": "markdown",
   "metadata": {},
   "source": [
    "Our task is to predict one number, __Log1pSalary__.\n",
    "\n",
    "To do so, our model can access a number of features:\n",
    "* Free text: __`Title`__ and  __`FullDescription`__\n",
    "* Categorical: __`Category`__, __`Company`__, __`LocationNormalized`__, __`ContractType`__, and __`ContractTime`__."
   ]
  },
  {
   "cell_type": "code",
   "execution_count": 5,
   "metadata": {},
   "outputs": [
    {
     "data": {
      "text/html": [
       "<div>\n",
       "<style scoped>\n",
       "    .dataframe tbody tr th:only-of-type {\n",
       "        vertical-align: middle;\n",
       "    }\n",
       "\n",
       "    .dataframe tbody tr th {\n",
       "        vertical-align: top;\n",
       "    }\n",
       "\n",
       "    .dataframe thead th {\n",
       "        text-align: right;\n",
       "    }\n",
       "</style>\n",
       "<table border=\"1\" class=\"dataframe\">\n",
       "  <thead>\n",
       "    <tr style=\"text-align: right;\">\n",
       "      <th></th>\n",
       "      <th>Id</th>\n",
       "      <th>Title</th>\n",
       "      <th>FullDescription</th>\n",
       "      <th>LocationRaw</th>\n",
       "      <th>LocationNormalized</th>\n",
       "      <th>ContractType</th>\n",
       "      <th>ContractTime</th>\n",
       "      <th>Company</th>\n",
       "      <th>Category</th>\n",
       "      <th>SalaryRaw</th>\n",
       "      <th>SalaryNormalized</th>\n",
       "      <th>SourceName</th>\n",
       "      <th>Log1pSalary</th>\n",
       "    </tr>\n",
       "  </thead>\n",
       "  <tbody>\n",
       "    <tr>\n",
       "      <th>96049</th>\n",
       "      <td>69230323</td>\n",
       "      <td>Business Analyst, Retail Ecommerce, Reading, B...</td>\n",
       "      <td>Business Analyst, Tester, Retail and ecommerce...</td>\n",
       "      <td>READING</td>\n",
       "      <td>Reading</td>\n",
       "      <td>full_time</td>\n",
       "      <td>permanent</td>\n",
       "      <td>The People Network</td>\n",
       "      <td>IT Jobs</td>\n",
       "      <td>From 30,000 to 65,000 per year</td>\n",
       "      <td>47500</td>\n",
       "      <td>fish4.co.uk</td>\n",
       "      <td>10.768506</td>\n",
       "    </tr>\n",
       "    <tr>\n",
       "      <th>226430</th>\n",
       "      <td>72441800</td>\n",
       "      <td>Senior Contracts Manager</td>\n",
       "      <td>Senior Contracts Manager, Construction, Care h...</td>\n",
       "      <td>West Midlands</td>\n",
       "      <td>West Midlands</td>\n",
       "      <td>NaN</td>\n",
       "      <td>permanent</td>\n",
       "      <td>Think Recruitment</td>\n",
       "      <td>Trade &amp; Construction Jobs</td>\n",
       "      <td>60000 - 72000 per annum + Package</td>\n",
       "      <td>66000</td>\n",
       "      <td>totaljobs.com</td>\n",
       "      <td>11.097425</td>\n",
       "    </tr>\n",
       "    <tr>\n",
       "      <th>165640</th>\n",
       "      <td>71293851</td>\n",
       "      <td>Welder</td>\n",
       "      <td>Rullion Engineering have a long term position ...</td>\n",
       "      <td>Nottingham, Nottinghamshire</td>\n",
       "      <td>Nottingham</td>\n",
       "      <td>NaN</td>\n",
       "      <td>contract</td>\n",
       "      <td>Rullion Engineering Ltd</td>\n",
       "      <td>Other/General Jobs</td>\n",
       "      <td>14 - 20/hour</td>\n",
       "      <td>32640</td>\n",
       "      <td>cv-library.co.uk</td>\n",
       "      <td>10.393325</td>\n",
       "    </tr>\n",
       "  </tbody>\n",
       "</table>\n",
       "</div>"
      ],
      "text/plain": [
       "              Id                                              Title  \\\n",
       "96049   69230323  Business Analyst, Retail Ecommerce, Reading, B...   \n",
       "226430  72441800                           Senior Contracts Manager   \n",
       "165640  71293851                                             Welder   \n",
       "\n",
       "                                          FullDescription  \\\n",
       "96049   Business Analyst, Tester, Retail and ecommerce...   \n",
       "226430  Senior Contracts Manager, Construction, Care h...   \n",
       "165640  Rullion Engineering have a long term position ...   \n",
       "\n",
       "                        LocationRaw LocationNormalized ContractType  \\\n",
       "96049                       READING            Reading    full_time   \n",
       "226430                West Midlands      West Midlands          NaN   \n",
       "165640  Nottingham, Nottinghamshire         Nottingham          NaN   \n",
       "\n",
       "       ContractTime                  Company                   Category  \\\n",
       "96049     permanent       The People Network                    IT Jobs   \n",
       "226430    permanent        Think Recruitment  Trade & Construction Jobs   \n",
       "165640     contract  Rullion Engineering Ltd         Other/General Jobs   \n",
       "\n",
       "                                SalaryRaw  SalaryNormalized        SourceName  \\\n",
       "96049      From 30,000 to 65,000 per year             47500       fish4.co.uk   \n",
       "226430  60000 - 72000 per annum + Package             66000     totaljobs.com   \n",
       "165640                       14 - 20/hour             32640  cv-library.co.uk   \n",
       "\n",
       "        Log1pSalary  \n",
       "96049     10.768506  \n",
       "226430    11.097425  \n",
       "165640    10.393325  "
      ]
     },
     "execution_count": 5,
     "metadata": {},
     "output_type": "execute_result"
    }
   ],
   "source": [
    "text_columns = [\"Title\", \"FullDescription\"]\n",
    "categorical_columns = [\"Category\", \"Company\", \"LocationNormalized\", \"ContractType\", \"ContractTime\"]\n",
    "TARGET_COLUMN = \"Log1pSalary\"\n",
    "\n",
    "data[categorical_columns] = data[categorical_columns].fillna('NaN') # cast missing values to string \"NaN\"\n",
    "\n",
    "data.sample(3)"
   ]
  },
  {
   "cell_type": "markdown",
   "metadata": {},
   "source": [
    "### Preprocessing text data\n",
    "\n",
    "Just like last week, applying NLP to a problem begins from tokenization: splitting raw text into sequences of tokens (words, punctuation, etc).\n",
    "\n",
    "__Your task__ is to lowercase and tokenize all texts under `Title` and `FullDescription` columns. Store the tokenized data as a __space-separated__ string of tokens for performance reasons.\n",
    "\n",
    "It's okay to use nltk tokenizers. Assertions were designed for WordPunctTokenizer, slight deviations are okay."
   ]
  },
  {
   "cell_type": "code",
   "execution_count": 6,
   "metadata": {
    "scrolled": true
   },
   "outputs": [
    {
     "name": "stdout",
     "output_type": "stream",
     "text": [
      "Raw text:\n",
      "2         Mathematical Modeller / Simulation Analyst / O...\n",
      "100002    A successful and high achieving specialist sch...\n",
      "200002    Web Designer  HTML, CSS, JavaScript, Photoshop...\n",
      "Name: FullDescription, dtype: object\n"
     ]
    }
   ],
   "source": [
    "print(\"Raw text:\")\n",
    "print(data[\"FullDescription\"][2::100000])"
   ]
  },
  {
   "cell_type": "code",
   "execution_count": 7,
   "metadata": {},
   "outputs": [],
   "source": [
    "import nltk\n",
    "#TODO YOUR CODE HERE\n",
    "\n",
    "\n",
    "tokenizer = nltk.tokenize.WordPunctTokenizer()\n",
    "data['FullDescription'] = data['FullDescription'].apply(lambda x: ' '.join(tokenizer.tokenize(x.lower())))\n",
    "data['Title'] = data['Title'].apply(lambda x: ' '.join(tokenizer.tokenize(str(x).lower())))"
   ]
  },
  {
   "cell_type": "code",
   "execution_count": 9,
   "metadata": {},
   "outputs": [
    {
     "data": {
      "text/html": [
       "<div>\n",
       "<style scoped>\n",
       "    .dataframe tbody tr th:only-of-type {\n",
       "        vertical-align: middle;\n",
       "    }\n",
       "\n",
       "    .dataframe tbody tr th {\n",
       "        vertical-align: top;\n",
       "    }\n",
       "\n",
       "    .dataframe thead th {\n",
       "        text-align: right;\n",
       "    }\n",
       "</style>\n",
       "<table border=\"1\" class=\"dataframe\">\n",
       "  <thead>\n",
       "    <tr style=\"text-align: right;\">\n",
       "      <th></th>\n",
       "      <th>Id</th>\n",
       "      <th>Title</th>\n",
       "      <th>FullDescription</th>\n",
       "      <th>LocationRaw</th>\n",
       "      <th>LocationNormalized</th>\n",
       "      <th>ContractType</th>\n",
       "      <th>ContractTime</th>\n",
       "      <th>Company</th>\n",
       "      <th>Category</th>\n",
       "      <th>SalaryRaw</th>\n",
       "      <th>SalaryNormalized</th>\n",
       "      <th>SourceName</th>\n",
       "      <th>Log1pSalary</th>\n",
       "    </tr>\n",
       "  </thead>\n",
       "  <tbody>\n",
       "    <tr>\n",
       "      <th>0</th>\n",
       "      <td>12612628</td>\n",
       "      <td>engineering systems analyst</td>\n",
       "      <td>engineering systems analyst dorking surrey sal...</td>\n",
       "      <td>Dorking, Surrey, Surrey</td>\n",
       "      <td>Dorking</td>\n",
       "      <td>NaN</td>\n",
       "      <td>permanent</td>\n",
       "      <td>Gregory Martin International</td>\n",
       "      <td>Engineering Jobs</td>\n",
       "      <td>20000 - 30000/annum 20-30K</td>\n",
       "      <td>25000</td>\n",
       "      <td>cv-library.co.uk</td>\n",
       "      <td>10.126671</td>\n",
       "    </tr>\n",
       "    <tr>\n",
       "      <th>1</th>\n",
       "      <td>12612830</td>\n",
       "      <td>stress engineer glasgow</td>\n",
       "      <td>stress engineer glasgow salary **** to **** we...</td>\n",
       "      <td>Glasgow, Scotland, Scotland</td>\n",
       "      <td>Glasgow</td>\n",
       "      <td>NaN</td>\n",
       "      <td>permanent</td>\n",
       "      <td>Gregory Martin International</td>\n",
       "      <td>Engineering Jobs</td>\n",
       "      <td>25000 - 35000/annum 25-35K</td>\n",
       "      <td>30000</td>\n",
       "      <td>cv-library.co.uk</td>\n",
       "      <td>10.308986</td>\n",
       "    </tr>\n",
       "    <tr>\n",
       "      <th>2</th>\n",
       "      <td>12612844</td>\n",
       "      <td>modelling and simulation analyst</td>\n",
       "      <td>mathematical modeller / simulation analyst / o...</td>\n",
       "      <td>Hampshire, South East, South East</td>\n",
       "      <td>Hampshire</td>\n",
       "      <td>NaN</td>\n",
       "      <td>permanent</td>\n",
       "      <td>Gregory Martin International</td>\n",
       "      <td>Engineering Jobs</td>\n",
       "      <td>20000 - 40000/annum 20-40K</td>\n",
       "      <td>30000</td>\n",
       "      <td>cv-library.co.uk</td>\n",
       "      <td>10.308986</td>\n",
       "    </tr>\n",
       "    <tr>\n",
       "      <th>3</th>\n",
       "      <td>12613049</td>\n",
       "      <td>engineering systems analyst / mathematical mod...</td>\n",
       "      <td>engineering systems analyst / mathematical mod...</td>\n",
       "      <td>Surrey, South East, South East</td>\n",
       "      <td>Surrey</td>\n",
       "      <td>NaN</td>\n",
       "      <td>permanent</td>\n",
       "      <td>Gregory Martin International</td>\n",
       "      <td>Engineering Jobs</td>\n",
       "      <td>25000 - 30000/annum 25K-30K negotiable</td>\n",
       "      <td>27500</td>\n",
       "      <td>cv-library.co.uk</td>\n",
       "      <td>10.221977</td>\n",
       "    </tr>\n",
       "    <tr>\n",
       "      <th>4</th>\n",
       "      <td>12613647</td>\n",
       "      <td>pioneer , miser engineering systems analyst</td>\n",
       "      <td>pioneer , miser engineering systems analyst do...</td>\n",
       "      <td>Surrey, South East, South East</td>\n",
       "      <td>Surrey</td>\n",
       "      <td>NaN</td>\n",
       "      <td>permanent</td>\n",
       "      <td>Gregory Martin International</td>\n",
       "      <td>Engineering Jobs</td>\n",
       "      <td>20000 - 30000/annum 20-30K</td>\n",
       "      <td>25000</td>\n",
       "      <td>cv-library.co.uk</td>\n",
       "      <td>10.126671</td>\n",
       "    </tr>\n",
       "  </tbody>\n",
       "</table>\n",
       "</div>"
      ],
      "text/plain": [
       "         Id                                              Title  \\\n",
       "0  12612628                        engineering systems analyst   \n",
       "1  12612830                            stress engineer glasgow   \n",
       "2  12612844                   modelling and simulation analyst   \n",
       "3  12613049  engineering systems analyst / mathematical mod...   \n",
       "4  12613647        pioneer , miser engineering systems analyst   \n",
       "\n",
       "                                     FullDescription  \\\n",
       "0  engineering systems analyst dorking surrey sal...   \n",
       "1  stress engineer glasgow salary **** to **** we...   \n",
       "2  mathematical modeller / simulation analyst / o...   \n",
       "3  engineering systems analyst / mathematical mod...   \n",
       "4  pioneer , miser engineering systems analyst do...   \n",
       "\n",
       "                         LocationRaw LocationNormalized ContractType  \\\n",
       "0            Dorking, Surrey, Surrey            Dorking          NaN   \n",
       "1        Glasgow, Scotland, Scotland            Glasgow          NaN   \n",
       "2  Hampshire, South East, South East          Hampshire          NaN   \n",
       "3     Surrey, South East, South East             Surrey          NaN   \n",
       "4     Surrey, South East, South East             Surrey          NaN   \n",
       "\n",
       "  ContractTime                       Company          Category  \\\n",
       "0    permanent  Gregory Martin International  Engineering Jobs   \n",
       "1    permanent  Gregory Martin International  Engineering Jobs   \n",
       "2    permanent  Gregory Martin International  Engineering Jobs   \n",
       "3    permanent  Gregory Martin International  Engineering Jobs   \n",
       "4    permanent  Gregory Martin International  Engineering Jobs   \n",
       "\n",
       "                                SalaryRaw  SalaryNormalized        SourceName  \\\n",
       "0              20000 - 30000/annum 20-30K             25000  cv-library.co.uk   \n",
       "1              25000 - 35000/annum 25-35K             30000  cv-library.co.uk   \n",
       "2              20000 - 40000/annum 20-40K             30000  cv-library.co.uk   \n",
       "3  25000 - 30000/annum 25K-30K negotiable             27500  cv-library.co.uk   \n",
       "4              20000 - 30000/annum 20-30K             25000  cv-library.co.uk   \n",
       "\n",
       "   Log1pSalary  \n",
       "0    10.126671  \n",
       "1    10.308986  \n",
       "2    10.308986  \n",
       "3    10.221977  \n",
       "4    10.126671  "
      ]
     },
     "execution_count": 9,
     "metadata": {},
     "output_type": "execute_result"
    }
   ],
   "source": [
    "data.head()"
   ]
  },
  {
   "cell_type": "markdown",
   "metadata": {},
   "source": [
    "Now we can assume that our text is a space-separated list of tokens:"
   ]
  },
  {
   "cell_type": "code",
   "execution_count": 8,
   "metadata": {},
   "outputs": [
    {
     "name": "stdout",
     "output_type": "stream",
     "text": [
      "Tokenized:\n",
      "2         mathematical modeller / simulation analyst / o...\n",
      "100002    a successful and high achieving specialist sch...\n",
      "200002    web designer html , css , javascript , photosh...\n",
      "Name: FullDescription, dtype: object\n"
     ]
    }
   ],
   "source": [
    "print(\"Tokenized:\")\n",
    "print(data[\"FullDescription\"][2::100000])\n",
    "assert data[\"FullDescription\"][2][:50] == 'mathematical modeller / simulation analyst / opera'\n",
    "assert data[\"Title\"][54321] == 'international digital account manager ( german )'"
   ]
  },
  {
   "cell_type": "markdown",
   "metadata": {},
   "source": [
    "Not all words are equally useful. Some of them are typos or rare words that are only present a few times. \n",
    "\n",
    "Let's count how many times is each word present in the data so that we can build a \"white list\" of known words."
   ]
  },
  {
   "cell_type": "code",
   "execution_count": 9,
   "metadata": {},
   "outputs": [],
   "source": [
    "vals = data['FullDescription'].apply(lambda x: x.split(' ')).values"
   ]
  },
  {
   "cell_type": "code",
   "execution_count": 10,
   "metadata": {},
   "outputs": [],
   "source": [
    "flat_vals = vals.flatten()"
   ]
  },
  {
   "cell_type": "code",
   "execution_count": 11,
   "metadata": {},
   "outputs": [],
   "source": [
    "flat_list = [item for sublist in list(vals) for item in sublist]"
   ]
  },
  {
   "cell_type": "code",
   "execution_count": 12,
   "metadata": {},
   "outputs": [],
   "source": [
    "flat_list_title =  [item for sublist in list(data['Title'].apply(lambda x: x.split(' ')).values) for item in sublist]"
   ]
  },
  {
   "cell_type": "code",
   "execution_count": 13,
   "metadata": {},
   "outputs": [],
   "source": [
    "all_words = flat_list_title + flat_list"
   ]
  },
  {
   "cell_type": "code",
   "execution_count": 14,
   "metadata": {},
   "outputs": [],
   "source": [
    "from collections import Counter\n",
    "token_counts = Counter(all_words)\n"
   ]
  },
  {
   "cell_type": "code",
   "execution_count": 15,
   "metadata": {},
   "outputs": [
    {
     "name": "stdout",
     "output_type": "stream",
     "text": [
      "Total unique tokens : 202704\n",
      "('and', 2657388)\n",
      "('.', 2523216)\n",
      "(',', 2318606)\n",
      "('the', 2080994)\n",
      "('to', 2019884)\n",
      "...\n",
      "('stephanietraveltraderecruitmnt', 1)\n",
      "('ruabon', 1)\n",
      "('lowehays', 1)\n",
      "Correct!\n"
     ]
    }
   ],
   "source": [
    "print(\"Total unique tokens :\", len(token_counts))\n",
    "print('\\n'.join(map(str, token_counts.most_common(n=5))))\n",
    "print('...')\n",
    "print('\\n'.join(map(str, token_counts.most_common()[-3:])))\n",
    "\n",
    "assert token_counts.most_common(1)[0][1] in  range(2600000, 2700000)\n",
    "assert len(token_counts) in range(200000, 210000)\n",
    "print('Correct!')"
   ]
  },
  {
   "cell_type": "code",
   "execution_count": 16,
   "metadata": {},
   "outputs": [
    {
     "data": {
      "image/png": "[encoded data removed]",
      "text/plain": [
       "<Figure size 432x288 with 1 Axes>"
      ]
     },
     "metadata": {
      "needs_background": "light"
     },
     "output_type": "display_data"
    }
   ],
   "source": [
    "# Let's see how many words are there for each count\n",
    "plt.hist(list(token_counts.values()), range=[0, 10**4], bins=50, log=True)\n",
    "plt.xlabel(\"Word counts\");"
   ]
  },
  {
   "cell_type": "markdown",
   "metadata": {},
   "source": [
    "__Task 1.1__ Get a list of all tokens that occur at least 10 times."
   ]
  },
  {
   "cell_type": "code",
   "execution_count": 17,
   "metadata": {},
   "outputs": [],
   "source": [
    "min_count = 10\n",
    "\n",
    "# tokens from token_counts keys that had at least min_count occurrences throughout the dataset\n",
    "tokens = sorted(t for t, c in token_counts.items() if c >= min_count)#TODO<YOUR CODE HERE>\n",
    "\n",
    "# Add a special tokens for unknown and empty words\n",
    "UNK, PAD = \"UNK\", \"PAD\"\n",
    "tokens = [UNK, PAD] + tokens"
   ]
  },
  {
   "cell_type": "code",
   "execution_count": 18,
   "metadata": {},
   "outputs": [
    {
     "name": "stdout",
     "output_type": "stream",
     "text": [
      "Vocabulary size: 34158\n",
      "Correct!\n"
     ]
    }
   ],
   "source": [
    "print(\"Vocabulary size:\", len(tokens))\n",
    "assert type(tokens) == list\n",
    "assert len(tokens) in range(32000, 35000)\n",
    "assert 'me' in tokens\n",
    "assert UNK in tokens\n",
    "print(\"Correct!\")"
   ]
  },
  {
   "cell_type": "markdown",
   "metadata": {},
   "source": [
    "__Task 1.2__ Build an inverse token index: a dictionary from token(string) to it's index in `tokens` (int)"
   ]
  },
  {
   "cell_type": "code",
   "execution_count": 19,
   "metadata": {},
   "outputs": [],
   "source": [
    "token_to_id = {token : ind for ind, token in enumerate(tokens)}"
   ]
  },
  {
   "cell_type": "code",
   "execution_count": 20,
   "metadata": {},
   "outputs": [
    {
     "name": "stdout",
     "output_type": "stream",
     "text": [
      "Correct!\n"
     ]
    }
   ],
   "source": [
    "assert isinstance(token_to_id, dict)\n",
    "assert len(token_to_id) == len(tokens)\n",
    "for tok in tokens:\n",
    "    assert tokens[token_to_id[tok]] == tok\n",
    "\n",
    "print(\"Correct!\")"
   ]
  },
  {
   "cell_type": "markdown",
   "metadata": {},
   "source": [
    "And finally, let's use the vocabulary you've built to map text lines into neural network-digestible matrices."
   ]
  },
  {
   "cell_type": "code",
   "execution_count": 21,
   "metadata": {},
   "outputs": [],
   "source": [
    "UNK_IX, PAD_IX = map(token_to_id.get, [UNK, PAD])\n",
    "\n",
    "def as_matrix(sequences, max_len=None):\n",
    "    \"\"\" Convert a list of tokens into a matrix with padding \"\"\"\n",
    "    if isinstance(sequences[0], str):\n",
    "        sequences = list(map(str.split, sequences))\n",
    "        \n",
    "    if max_len is None:\n",
    "        max_len = min(max(map(len, sequences)), float('inf'))\n",
    "        \n",
    "   # max_len = min(max(map(len, sequences)), max_len or float('inf'))\n",
    "    \n",
    "    matrix = np.full((len(sequences), max_len), np.int32(PAD_IX))\n",
    "    for i,seq in enumerate(sequences):\n",
    "        row_ix = [token_to_id.get(word, UNK_IX) for word in seq[:max_len]]\n",
    "        matrix[i, :len(row_ix)] = row_ix\n",
    "    \n",
    "    return matrix"
   ]
  },
  {
   "cell_type": "code",
   "execution_count": 22,
   "metadata": {},
   "outputs": [
    {
     "name": "stdout",
     "output_type": "stream",
     "text": [
      "Lines:\n",
      "engineering systems analyst\n",
      "hr assistant\n",
      "senior ec & i engineer\n",
      "\n",
      "Matrix:\n",
      "[[10807 30161  2166     1     1]\n",
      " [15020  2844     1     1     1]\n",
      " [27645 10201    16 15215 10804]]\n"
     ]
    }
   ],
   "source": [
    "print(\"Lines:\")\n",
    "print('\\n'.join(data[\"Title\"][::100000].values), end='\\n\\n')\n",
    "print(\"Matrix:\")\n",
    "print(as_matrix(data[\"Title\"][::100000]))"
   ]
  },
  {
   "cell_type": "markdown",
   "metadata": {},
   "source": [
    "Now let's  encode the categirical data we have.\n",
    "\n",
    "As usual, we shall use one-hot encoding for simplicity. Kudos if you implement more advanced encodings: tf-idf, pseudo-time-series, etc."
   ]
  },
  {
   "cell_type": "code",
   "execution_count": 23,
   "metadata": {},
   "outputs": [],
   "source": [
    "top_companies, top_counts = zip(*Counter(data['Company']).most_common(1000))"
   ]
  },
  {
   "cell_type": "code",
   "execution_count": 24,
   "metadata": {},
   "outputs": [
    {
     "data": {
      "text/plain": [
       "DictVectorizer(dtype=<class 'numpy.float32'>, separator='=', sort=True,\n",
       "               sparse=False)"
      ]
     },
     "execution_count": 24,
     "metadata": {},
     "output_type": "execute_result"
    }
   ],
   "source": [
    "from sklearn.feature_extraction import DictVectorizer\n",
    "\n",
    "# we only consider top-1k most frequent companies to minimize memory usage\n",
    "top_companies, top_counts = zip(*Counter(data['Company']).most_common(1000))\n",
    "recognized_companies = set(top_companies)\n",
    "data[\"Company\"] = data[\"Company\"].apply(lambda comp: comp if comp in recognized_companies else \"Other\")\n",
    "\n",
    "categorical_vectorizer = DictVectorizer(dtype=np.float32, sparse=False)\n",
    "categorical_vectorizer.fit(data[categorical_columns].apply(dict, axis=1))"
   ]
  },
  {
   "cell_type": "markdown",
   "metadata": {},
   "source": [
    "### The deep learning part\n",
    "\n",
    "Once we've learned to tokenize the data, let's design a machine learning experiment.\n",
    "\n",
    "As before, we won't focus too much on validation, opting for a simple train-test split.\n",
    "\n",
    "__To be completely rigorous,__ we've comitted a small crime here: we used the whole data for tokenization and vocabulary building. A more strict way would be to do that part on training set only. You may want to do that and measure the magnitude of changes."
   ]
  },
  {
   "cell_type": "code",
   "execution_count": 25,
   "metadata": {},
   "outputs": [
    {
     "name": "stdout",
     "output_type": "stream",
     "text": [
      "Train size =  195814\n",
      "Validation size =  48954\n"
     ]
    }
   ],
   "source": [
    "from sklearn.model_selection import train_test_split\n",
    "\n",
    "data_train, data_val = train_test_split(data, test_size=0.2, random_state=42)\n",
    "data_train.index = range(len(data_train))\n",
    "data_val.index = range(len(data_val))\n",
    "\n",
    "print(\"Train size = \", len(data_train))\n",
    "print(\"Validation size = \", len(data_val))"
   ]
  },
  {
   "cell_type": "code",
   "execution_count": 26,
   "metadata": {},
   "outputs": [
    {
     "data": {
      "text/html": [
       "<div>\n",
       "<style scoped>\n",
       "    .dataframe tbody tr th:only-of-type {\n",
       "        vertical-align: middle;\n",
       "    }\n",
       "\n",
       "    .dataframe tbody tr th {\n",
       "        vertical-align: top;\n",
       "    }\n",
       "\n",
       "    .dataframe thead th {\n",
       "        text-align: right;\n",
       "    }\n",
       "</style>\n",
       "<table border=\"1\" class=\"dataframe\">\n",
       "  <thead>\n",
       "    <tr style=\"text-align: right;\">\n",
       "      <th></th>\n",
       "      <th>Id</th>\n",
       "      <th>Title</th>\n",
       "      <th>FullDescription</th>\n",
       "      <th>LocationRaw</th>\n",
       "      <th>LocationNormalized</th>\n",
       "      <th>ContractType</th>\n",
       "      <th>ContractTime</th>\n",
       "      <th>Company</th>\n",
       "      <th>Category</th>\n",
       "      <th>SalaryRaw</th>\n",
       "      <th>SalaryNormalized</th>\n",
       "      <th>SourceName</th>\n",
       "      <th>Log1pSalary</th>\n",
       "    </tr>\n",
       "  </thead>\n",
       "  <tbody>\n",
       "    <tr>\n",
       "      <th>0</th>\n",
       "      <td>69173058</td>\n",
       "      <td>senior support worker</td>\n",
       "      <td>senior support worker wanted a senior support ...</td>\n",
       "      <td>Taunton, Somerset Somerset South West</td>\n",
       "      <td>Taunton</td>\n",
       "      <td>NaN</td>\n",
       "      <td>permanent</td>\n",
       "      <td>Other</td>\n",
       "      <td>Healthcare &amp; Nursing Jobs</td>\n",
       "      <td>15931 - 17082 per annum</td>\n",
       "      <td>16506</td>\n",
       "      <td>totaljobs.com</td>\n",
       "      <td>9.711540</td>\n",
       "    </tr>\n",
       "    <tr>\n",
       "      <th>1</th>\n",
       "      <td>72450873</td>\n",
       "      <td>statistical / mathematical modeller in pharmac...</td>\n",
       "      <td>statistical / mathematical modeller in pharmac...</td>\n",
       "      <td>North West</td>\n",
       "      <td>North West London</td>\n",
       "      <td>NaN</td>\n",
       "      <td>permanent</td>\n",
       "      <td>Other</td>\n",
       "      <td>Scientific &amp; QA Jobs</td>\n",
       "      <td>From 30,000 to 40,000 per annum 30-40K</td>\n",
       "      <td>35000</td>\n",
       "      <td>totaljobs.com</td>\n",
       "      <td>10.463132</td>\n",
       "    </tr>\n",
       "    <tr>\n",
       "      <th>2</th>\n",
       "      <td>68364211</td>\n",
       "      <td>emc team leader ( def stan )</td>\n",
       "      <td>the opportunity my client is currently seeking...</td>\n",
       "      <td>Surrey</td>\n",
       "      <td>Surrey</td>\n",
       "      <td>NaN</td>\n",
       "      <td>permanent</td>\n",
       "      <td>Other</td>\n",
       "      <td>Engineering Jobs</td>\n",
       "      <td>45k + Bonus + Pension</td>\n",
       "      <td>45000</td>\n",
       "      <td>justengineers.net</td>\n",
       "      <td>10.714440</td>\n",
       "    </tr>\n",
       "  </tbody>\n",
       "</table>\n",
       "</div>"
      ],
      "text/plain": [
       "         Id                                              Title  \\\n",
       "0  69173058                              senior support worker   \n",
       "1  72450873  statistical / mathematical modeller in pharmac...   \n",
       "2  68364211                       emc team leader ( def stan )   \n",
       "\n",
       "                                     FullDescription  \\\n",
       "0  senior support worker wanted a senior support ...   \n",
       "1  statistical / mathematical modeller in pharmac...   \n",
       "2  the opportunity my client is currently seeking...   \n",
       "\n",
       "                             LocationRaw LocationNormalized ContractType  \\\n",
       "0  Taunton, Somerset Somerset South West            Taunton          NaN   \n",
       "1                             North West  North West London          NaN   \n",
       "2                                 Surrey             Surrey          NaN   \n",
       "\n",
       "  ContractTime Company                   Category  \\\n",
       "0    permanent   Other  Healthcare & Nursing Jobs   \n",
       "1    permanent   Other       Scientific & QA Jobs   \n",
       "2    permanent   Other           Engineering Jobs   \n",
       "\n",
       "                                SalaryRaw  SalaryNormalized  \\\n",
       "0                 15931 - 17082 per annum             16506   \n",
       "1  From 30,000 to 40,000 per annum 30-40K             35000   \n",
       "2                   45k + Bonus + Pension             45000   \n",
       "\n",
       "          SourceName  Log1pSalary  \n",
       "0      totaljobs.com     9.711540  \n",
       "1      totaljobs.com    10.463132  \n",
       "2  justengineers.net    10.714440  "
      ]
     },
     "execution_count": 26,
     "metadata": {},
     "output_type": "execute_result"
    }
   ],
   "source": [
    "data_train[:3]"
   ]
  },
  {
   "cell_type": "code",
   "execution_count": 27,
   "metadata": {},
   "outputs": [],
   "source": [
    "import torch\n",
    "import torch.nn as nn\n",
    "import torch.functional as F\n",
    "\n",
    "\n",
    "device = 'cuda' if torch.cuda.is_available() else 'cpu'\n",
    "\n",
    "\n",
    "def to_tensors(batch, device):\n",
    "    batch_tensors = dict()\n",
    "    for key, arr in batch.items():\n",
    "        if key in [\"FullDescription\", \"Title\"]:\n",
    "            batch_tensors[key] = torch.tensor(arr, device=device, dtype=torch.int64)\n",
    "        else:\n",
    "            batch_tensors[key] = torch.tensor(arr, device=device)\n",
    "    return batch_tensors\n",
    "\n",
    "\n",
    "def make_batch(data, max_len=None, word_dropout=0, device=device):\n",
    "    \"\"\"\n",
    "    Creates a keras-friendly dict from the batch data.\n",
    "    :param word_dropout: replaces token index with UNK_IX with this probability\n",
    "    :returns: a dict with {'title' : int64[batch, title_max_len]\n",
    "    \"\"\"\n",
    "    batch = {}\n",
    "    batch[\"Title\"] = as_matrix(data[\"Title\"].values, max_len)\n",
    "    batch[\"FullDescription\"] = as_matrix(data[\"FullDescription\"].values, max_len)\n",
    "    batch['Categorical'] = categorical_vectorizer.transform(data[categorical_columns].apply(dict, axis=1))\n",
    "    \n",
    "    if word_dropout != 0:\n",
    "        batch[\"FullDescription\"] = apply_word_dropout(batch[\"FullDescription\"], 1. - word_dropout)\n",
    "    \n",
    "    if TARGET_COLUMN in data.columns:\n",
    "        batch[TARGET_COLUMN] = data[TARGET_COLUMN].values\n",
    "    \n",
    "    return to_tensors(batch, device)\n",
    "\n",
    "def apply_word_dropout(matrix, keep_prop, replace_with=UNK_IX, pad_ix=PAD_IX,):\n",
    "    dropout_mask = np.random.choice(2, np.shape(matrix), p=[keep_prop, 1 - keep_prop])\n",
    "    dropout_mask &= matrix != pad_ix\n",
    "    return np.choose(dropout_mask, [matrix, np.full_like(matrix, replace_with)])"
   ]
  },
  {
   "cell_type": "code",
   "execution_count": 28,
   "metadata": {
    "scrolled": true
   },
   "outputs": [],
   "source": [
    "bdata = make_batch(data_train[:3], max_len=500)"
   ]
  },
  {
   "cell_type": "code",
   "execution_count": 29,
   "metadata": {},
   "outputs": [
    {
     "data": {
      "text/plain": [
       "{'Title': tensor([[27645, 29893, 33674,  ...,     1,     1,     1],\n",
       "         [29239,   197, 19175,  ...,     1,     1,     1],\n",
       "         [10609, 30412, 17746,  ...,     1,     1,     1]]),\n",
       " 'FullDescription': tensor([[27645, 29893, 33674,  ...,     1,     1,     1],\n",
       "         [29239,   197, 19175,  ...,   169,  3750,   982],\n",
       "         [30746, 21956, 20601,  ...,     1,     1,     1]]),\n",
       " 'Categorical': tensor([[0., 0., 0.,  ..., 0., 0., 0.],\n",
       "         [0., 0., 0.,  ..., 0., 0., 0.],\n",
       "         [0., 0., 0.,  ..., 0., 0., 0.]]),\n",
       " 'Log1pSalary': tensor([ 9.7115, 10.4631, 10.7144])}"
      ]
     },
     "execution_count": 29,
     "metadata": {},
     "output_type": "execute_result"
    }
   ],
   "source": [
    "bdata"
   ]
  },
  {
   "cell_type": "markdown",
   "metadata": {},
   "source": [
    "#### Architecture\n",
    "\n",
    "Our basic model consists of three branches:\n",
    "* Title encoder\n",
    "* Description encoder\n",
    "* Categorical features encoder\n",
    "\n",
    "We will then feed all 3 branches into one common network that predicts salary.\n",
    "\n",
    "![scheme](https://github.com/yandexdataschool/nlp_course/raw/master/resources/w2_conv_arch.png)"
   ]
  },
  {
   "cell_type": "markdown",
   "metadata": {},
   "source": [
    "This clearly doesn't fit into keras' __Sequential__ interface. To build such a network, one will have to use PyTorch."
   ]
  },
  {
   "cell_type": "code",
   "execution_count": 30,
   "metadata": {},
   "outputs": [
    {
     "data": {
      "text/plain": [
       "tensor([[27645, 29893, 33674,  ...,     1,     1,     1],\n",
       "        [29239,   197, 19175,  ...,   169,  3750,   982],\n",
       "        [30746, 21956, 20601,  ...,     1,     1,     1]])"
      ]
     },
     "execution_count": 30,
     "metadata": {},
     "output_type": "execute_result"
    }
   ],
   "source": [
    "bdata['FullDescription']"
   ]
  },
  {
   "cell_type": "code",
   "execution_count": 37,
   "metadata": {},
   "outputs": [],
   "source": [
    "class SalaryPredictor(nn.Module):\n",
    "    def __init__(self, n_tokens=len(tokens), n_cat_features=len(categorical_vectorizer.vocabulary_), hid_size=64, max_len = 500):\n",
    "        super().__init__()\n",
    "        self.title_embedding = torch.nn.Embedding(n_tokens, 32)\n",
    "        self.title_convolution = torch.nn.Conv1d(32, hid_size, kernel_size=2, padding=1)\n",
    "        self.title_pooling = torch.nn.MaxPool1d(kernel_size=max_len)\n",
    "        \n",
    "        self.description_embedding = torch.nn.Embedding(n_tokens, 32)\n",
    "        self.description_convolution = torch.nn.Conv1d(32, hid_size, kernel_size=2, padding=1)\n",
    "        self.description_pooling = torch.nn.MaxPool1d(kernel_size=max_len)\n",
    "        \n",
    "        self.cat_layer = torch.nn.Linear(n_cat_features, hid_size)\n",
    "        self.cat_relu = torch.nn.ReLU()\n",
    "        self.cat_bn = torch.nn.BatchNorm1d(hid_size)\n",
    "        \n",
    "        self.hid_size = hid_size\n",
    "        \n",
    "        self.final_fc_1 = torch.nn.Linear(64, 1)\n",
    "        self.final_fc_2 = torch.nn.Linear(3, 1)\n",
    "        \n",
    "    def forward(self, batch):\n",
    "        title_data = batch['Title']\n",
    "        desc_data = batch['FullDescription']\n",
    "        cat_data = batch['Categorical']\n",
    "        N = title_data.shape[0]\n",
    "        \n",
    "        print(title_data.shape)\n",
    "        print(title_data)\n",
    "        \n",
    "        embedded_title = self.title_embedding(title_data)\n",
    "        print(embedded_title.shape)\n",
    "        embedded_title = torch.transpose(embedded_title, 1, 2)\n",
    "        \n",
    "        embedded_desc = self.description_embedding(desc_data)\n",
    "        embedded_desc = torch.transpose(embedded_desc, 1, 2)\n",
    "        \n",
    "        print(embedded_title.shape)\n",
    "        conv = self.title_convolution(embedded_title)\n",
    "        print(conv.shape)\n",
    "        \n",
    "        title_processed = self.title_pooling(self.title_convolution(embedded_title))\n",
    "        desc_processed = self.description_pooling(self.description_convolution(embedded_desc))\n",
    "        cat_processed = self.cat_bn(self.cat_relu(self.cat_layer(cat_data))).view(N, self.hid_size, 1)\n",
    "        \n",
    "        \n",
    "        concated = torch.cat((title_processed, desc_processed, cat_processed), dim=2)\n",
    "        concated = torch.transpose(concated, 1, 2)\n",
    "        processed = self.final_fc_2(self.final_fc_1(concated).view(N, 3, )).view(N, )\n",
    "        return processed\n",
    "        \n",
    "        \n",
    "        \n",
    "        \n",
    "        "
   ]
  },
  {
   "cell_type": "code",
   "execution_count": 38,
   "metadata": {},
   "outputs": [
    {
     "name": "stdout",
     "output_type": "stream",
     "text": [
      "torch.Size([3, 500])\n",
      "tensor([[27645, 29893, 33674,  ...,     1,     1,     1],\n",
      "        [29239,   197, 19175,  ...,     1,     1,     1],\n",
      "        [10609, 30412, 17746,  ...,     1,     1,     1]])\n",
      "torch.Size([3, 500, 32])\n",
      "torch.Size([3, 32, 500])\n",
      "torch.Size([3, 64, 501])\n"
     ]
    },
    {
     "data": {
      "text/plain": [
       "tensor([-0.1338, -0.3347, -0.2507], grad_fn=<ViewBackward>)"
      ]
     },
     "execution_count": 38,
     "metadata": {},
     "output_type": "execute_result"
    }
   ],
   "source": [
    "model = SalaryPredictor()\n",
    "model(bdata)"
   ]
  },
  {
   "cell_type": "code",
   "execution_count": 35,
   "metadata": {},
   "outputs": [],
   "source": [
    "model = SalaryPredictor()\n",
    "batch = make_batch(data_train[:100], max_len=500)\n",
    "criterion = nn.MSELoss()\n",
    "\n",
    "dummy_pred = model(batch)\n",
    "dummy_loss = criterion(dummy_pred, batch[TARGET_COLUMN])\n",
    "assert dummy_pred.shape == torch.Size([100])\n",
    "assert len(torch.unique(dummy_pred)) > 20, \"model returns suspiciously few unique outputs. Check your initialization\"\n",
    "assert dummy_loss.ndim == 0 and 0. <= dummy_loss <= 250., \"make sure you minimize MSE\""
   ]
  },
  {
   "cell_type": "markdown",
   "metadata": {},
   "source": [
    "#### Training and evaluation\n",
    "\n",
    "As usual, we gonna feed our monster with random minibatches of data. \n",
    "\n",
    "As we train, we want to monitor not only loss function, which is computed in log-space, but also the actual error measured in dollars."
   ]
  },
  {
   "cell_type": "code",
   "execution_count": 36,
   "metadata": {},
   "outputs": [],
   "source": [
    "def iterate_minibatches(data, batch_size=256, shuffle=True, cycle=False, device=device, **kwargs):\n",
    "    \"\"\" iterates minibatches of data in random order \"\"\"\n",
    "    while True:\n",
    "        indices = np.arange(len(data))\n",
    "        if shuffle:\n",
    "            indices = np.random.permutation(indices)\n",
    "\n",
    "        for start in range(0, len(indices), batch_size):\n",
    "            batch = make_batch(data.iloc[indices[start : start + batch_size]], device=device, **kwargs)\n",
    "            yield batch\n",
    "        \n",
    "        if not cycle: break"
   ]
  },
  {
   "cell_type": "markdown",
   "metadata": {},
   "source": [
    "### Model training\n",
    "\n",
    "We can now fit our model the usual minibatch way. The interesting part is that we train on an infinite stream of minibatches, produced by `iterate_minibatches` function."
   ]
  },
  {
   "cell_type": "code",
   "execution_count": 37,
   "metadata": {},
   "outputs": [],
   "source": [
    "from tqdm.auto import tqdm\n",
    "\n",
    "BATCH_SIZE = 16\n",
    "EPOCHS = 5"
   ]
  },
  {
   "cell_type": "code",
   "execution_count": 38,
   "metadata": {},
   "outputs": [],
   "source": [
    "def print_metrics(model, data, batch_size=BATCH_SIZE, name=\"\", device=torch.device('cpu'), **kw):\n",
    "    squared_error = abs_error = num_samples = 0.0\n",
    "    model.eval()\n",
    "    with torch.no_grad():\n",
    "        for batch in iterate_minibatches(data, batch_size=batch_size, shuffle=False, device=device, **kw):\n",
    "            batch_pred = model(batch)\n",
    "            squared_error += torch.sum((batch_pred - batch[TARGET_COLUMN]).pow(2))\n",
    "            abs_error += torch.sum(torch.abs(batch_pred - batch[TARGET_COLUMN]))\n",
    "            num_samples += len(batch_pred)\n",
    "    mse = squared_error.detach().cpu().numpy() / num_samples\n",
    "    mae = abs_error.detach().cpu().numpy() / num_samples\n",
    "    print(\"%s results:\" % (name or \"\"))\n",
    "    print(\"Mean square error: %.5f\" % mse)\n",
    "    print(\"Mean absolute error: %.5f\" % mae)\n",
    "    return mse, mae\n"
   ]
  },
  {
   "cell_type": "code",
   "execution_count": 39,
   "metadata": {},
   "outputs": [
    {
     "name": "stdout",
     "output_type": "stream",
     "text": [
      "epoch: 0\n"
     ]
    },
    {
     "data": {
      "application/vnd.jupyter.widget-view+json": {
       "model_id": "afcb91ed09904505ac2efb5e67d8b81b",
       "version_major": 2,
       "version_minor": 0
      },
      "text/plain": [
       "HBox(children=(FloatProgress(value=0.0, max=12238.0), HTML(value='')))"
      ]
     },
     "metadata": {},
     "output_type": "display_data"
    },
    {
     "name": "stdout",
     "output_type": "stream",
     "text": [
      "\n",
      " results:\n",
      "Mean square error: 0.13439\n",
      "Mean absolute error: 0.28247\n",
      "epoch: 1\n"
     ]
    },
    {
     "data": {
      "application/vnd.jupyter.widget-view+json": {
       "model_id": "7f225695bc5f4287b8e7cea446071fdf",
       "version_major": 2,
       "version_minor": 0
      },
      "text/plain": [
       "HBox(children=(FloatProgress(value=0.0, max=12238.0), HTML(value='')))"
      ]
     },
     "metadata": {},
     "output_type": "display_data"
    },
    {
     "name": "stdout",
     "output_type": "stream",
     "text": [
      "\n",
      " results:\n",
      "Mean square error: 0.11260\n",
      "Mean absolute error: 0.25641\n",
      "epoch: 2\n"
     ]
    },
    {
     "data": {
      "application/vnd.jupyter.widget-view+json": {
       "model_id": "90858d3a85a0436c9315e40d71fadabd",
       "version_major": 2,
       "version_minor": 0
      },
      "text/plain": [
       "HBox(children=(FloatProgress(value=0.0, max=12238.0), HTML(value='')))"
      ]
     },
     "metadata": {},
     "output_type": "display_data"
    },
    {
     "name": "stdout",
     "output_type": "stream",
     "text": [
      "\n",
      " results:\n",
      "Mean square error: 0.10330\n",
      "Mean absolute error: 0.24395\n",
      "epoch: 3\n"
     ]
    },
    {
     "data": {
      "application/vnd.jupyter.widget-view+json": {
       "model_id": "ff152a972b3a4246941126122f049780",
       "version_major": 2,
       "version_minor": 0
      },
      "text/plain": [
       "HBox(children=(FloatProgress(value=0.0, max=12238.0), HTML(value='')))"
      ]
     },
     "metadata": {},
     "output_type": "display_data"
    },
    {
     "name": "stdout",
     "output_type": "stream",
     "text": [
      "\n",
      " results:\n",
      "Mean square error: 0.09811\n",
      "Mean absolute error: 0.23740\n",
      "epoch: 4\n"
     ]
    },
    {
     "data": {
      "application/vnd.jupyter.widget-view+json": {
       "model_id": "7d06322837944a76aaa8a563032c004f",
       "version_major": 2,
       "version_minor": 0
      },
      "text/plain": [
       "HBox(children=(FloatProgress(value=0.0, max=12238.0), HTML(value='')))"
      ]
     },
     "metadata": {},
     "output_type": "display_data"
    },
    {
     "name": "stdout",
     "output_type": "stream",
     "text": [
      "\n",
      " results:\n",
      "Mean square error: 0.09403\n",
      "Mean absolute error: 0.23124\n"
     ]
    }
   ],
   "source": [
    "model = SalaryPredictor().to(device)\n",
    "criterion = nn.MSELoss(reduction='sum')\n",
    "optimizer = torch.optim.SGD(model.parameters(), lr=1e-4)\n",
    "\n",
    "for epoch in range(EPOCHS):\n",
    "    print(f\"epoch: {epoch}\")\n",
    "    model.train()\n",
    "    for i, batch in tqdm(enumerate(\n",
    "            iterate_minibatches(data_train, batch_size=BATCH_SIZE, device=device, max_len=500)),\n",
    "            total=len(data_train) // BATCH_SIZE\n",
    "        ):\n",
    "        pred = model(batch)\n",
    "        loss = criterion(pred, batch[TARGET_COLUMN])\n",
    "        optimizer.zero_grad()\n",
    "        loss.backward()\n",
    "        optimizer.step()\n",
    "        \n",
    "    print_metrics(model, data_val, device=device, max_len=500)\n",
    "\n",
    "      "
   ]
  },
  {
   "cell_type": "code",
   "execution_count": 40,
   "metadata": {},
   "outputs": [
    {
     "name": "stdout",
     "output_type": "stream",
     "text": [
      " results:\n",
      "Mean square error: 0.09403\n",
      "Mean absolute error: 0.23124\n"
     ]
    },
    {
     "data": {
      "text/plain": [
       "(0.09402601844652633, 0.2312417373005781)"
      ]
     },
     "execution_count": 40,
     "metadata": {},
     "output_type": "execute_result"
    }
   ],
   "source": [
    "print_metrics(model, data_val, device=device, max_len=500)"
   ]
  },
  {
   "cell_type": "markdown",
   "metadata": {},
   "source": [
    "### Bonus part: explaining model predictions\n",
    "\n",
    "It's usually a good idea to understand how your model works before you let it make actual decisions. It's simple for linear models: just see which words learned positive or negative weights. However, its much harder for neural networks that learn complex nonlinear dependencies.\n",
    "\n",
    "There are, however, some ways to look inside the black box:\n",
    "* Seeing how model responds to input perturbations\n",
    "* Finding inputs that maximize/minimize activation of some chosen neurons (_read more [on distill.pub](https://distill.pub/2018/building-blocks/)_)\n",
    "* Building local linear approximations to your neural network: [article](https://arxiv.org/abs/1602.04938), [eli5 library](https://github.com/TeamHG-Memex/eli5/tree/master/eli5/formatters)\n",
    "\n",
    "Today we gonna try the first method just because it's the simplest one."
   ]
  },
  {
   "cell_type": "code",
   "execution_count": 44,
   "metadata": {},
   "outputs": [],
   "source": [
    "def explain(model, sample, col_name='Title'):\n",
    "    \"\"\" Computes the effect each word had on model predictions \"\"\"\n",
    "    sample = dict(sample)\n",
    "    sample_col_tokens = [tokens[token_to_id.get(tok, 0)] for tok in sample[col_name].split()]\n",
    "    data_drop_one_token = pd.DataFrame([sample] * (len(sample_col_tokens) + 1))\n",
    "\n",
    "    for drop_i in range(len(sample_col_tokens)):\n",
    "        data_drop_one_token.loc[drop_i, col_name] = ' '.join(UNK if i == drop_i else tok\n",
    "                                                   for i, tok in enumerate(sample_col_tokens)) \n",
    "\n",
    "    *predictions_drop_one_token, baseline_pred = model(make_batch(data_drop_one_token, device=device, max_len=500)).detach().cpu()\n",
    "    diffs = baseline_pred - torch.Tensor(predictions_drop_one_token)\n",
    "    return list(zip(sample_col_tokens, diffs))"
   ]
  },
  {
   "cell_type": "code",
   "execution_count": 45,
   "metadata": {},
   "outputs": [],
   "source": [
    "from IPython.display import HTML, display_html\n",
    "\n",
    "\n",
    "def draw_html(tokens_and_weights, cmap=plt.get_cmap(\"bwr\"), display=True,\n",
    "              token_template=\"\"\"<span style=\"background-color: {color_hex}\">{token}</span>\"\"\",\n",
    "              font_style=\"font-size:14px;\"\n",
    "             ):\n",
    "    \n",
    "    def get_color_hex(weight):\n",
    "        rgba = cmap(1. / (1 + np.exp(float(weight))), bytes=True)\n",
    "        return '#%02X%02X%02X' % rgba[:3]\n",
    "    \n",
    "    tokens_html = [\n",
    "        token_template.format(token=token, color_hex=get_color_hex(weight))\n",
    "        for token, weight in tokens_and_weights\n",
    "    ]\n",
    "    \n",
    "    \n",
    "    raw_html = \"\"\"<p style=\"{}\">{}</p>\"\"\".format(font_style, ' '.join(tokens_html))\n",
    "    if display:\n",
    "        display_html(HTML(raw_html))\n",
    "        \n",
    "    return raw_html\n",
    "    "
   ]
  },
  {
   "cell_type": "code",
   "execution_count": 46,
   "metadata": {},
   "outputs": [
    {
     "data": {
      "text/html": [
       "<p style=\"font-size:20px;\"><span style=\"background-color: #FFE4E4\">sales</span> <span style=\"background-color: #FFE4E4\">specialist</span> <span style=\"background-color: #FFE0E0\">iv</span> <span style=\"background-color: #BEBEFF\">access</span> <span style=\"background-color: #FFE0E0\">and</span> <span style=\"background-color: #FFF6F6\">infusion</span></p>"
      ]
     },
     "metadata": {},
     "output_type": "display_data"
    },
    {
     "data": {
      "text/html": [
       "<p style=\"font-size:14px;\"><span style=\"background-color: #FFFEFE\">sales</span> <span style=\"background-color: #FEFEFF\">representative</span> <span style=\"background-color: #F8F8FF\">medical</span> <span style=\"background-color: #FFFEFE\">sales</span> <span style=\"background-color: #FFFEFE\">iv</span> <span style=\"background-color: #FFFEFE\">access</span> <span style=\"background-color: #FFFEFE\">and</span> <span style=\"background-color: #FCFCFF\">infusion</span> <span style=\"background-color: #FFF8F8\">an</span> <span style=\"background-color: #FFDADA\">opportunity</span> <span style=\"background-color: #FFDEDE\">to</span> <span style=\"background-color: #FFFEFE\">work</span> <span style=\"background-color: #FCFCFF\">for</span> <span style=\"background-color: #FCFCFF\">the</span> <span style=\"background-color: #FFFEFE\">industry</span> <span style=\"background-color: #FFFEFE\">leading</span> <span style=\"background-color: #FFF0F0\">manufacturer</span> <span style=\"background-color: #FFFEFE\">of</span> <span style=\"background-color: #FFFEFE\">iv</span> <span style=\"background-color: #FFFEFE\">access</span> <span style=\"background-color: #FFFEFE\">and</span> <span style=\"background-color: #FFFEFE\">infusion</span> <span style=\"background-color: #FFFEFE\">solutions</span> <span style=\"background-color: #FFE8E8\">.</span> <span style=\"background-color: #FEFEFF\">formally</span> <span style=\"background-color: #FFFAFA\">recognised</span> <span style=\"background-color: #FAFAFF\">as</span> <span style=\"background-color: #FFECEC\">the</span> <span style=\"background-color: #F2F2FF\">number</span> <span style=\"background-color: #FEFEFF\">****</span> <span style=\"background-color: #FFFEFE\">company</span> <span style=\"background-color: #FFFEFE\">in</span> <span style=\"background-color: #FFF4F4\">this</span> <span style=\"background-color: #F8F8FF\">market</span> <span style=\"background-color: #FFFEFE\">space</span> <span style=\"background-color: #FFFEFE\">,</span> <span style=\"background-color: #FEFEFF\">our</span> <span style=\"background-color: #FEFEFF\">client</span> <span style=\"background-color: #FFFEFE\">are</span> <span style=\"background-color: #FFFEFE\">an</span> <span style=\"background-color: #FFDADA\">ethical</span> <span style=\"background-color: #FFF0F0\">and</span> <span style=\"background-color: #FFFEFE\">dynamic</span> <span style=\"background-color: #FFFEFE\">organisation</span> <span style=\"background-color: #FFFEFE\">absolutely</span> <span style=\"background-color: #FFFEFE\">committed</span> <span style=\"background-color: #FFF0F0\">to</span> <span style=\"background-color: #FFFEFE\">the</span> <span style=\"background-color: #FFFEFE\">advancement</span> <span style=\"background-color: #FFFAFA\">of</span> <span style=\"background-color: #FFFEFE\">innovative</span> <span style=\"background-color: #FFF6F6\">technologies</span> <span style=\"background-color: #FFFEFE\">.</span> <span style=\"background-color: #F0F0FF\">job</span> <span style=\"background-color: #FFFEFE\">title</span> <span style=\"background-color: #F8F8FF\">:</span> <span style=\"background-color: #FFFCFC\">sales</span> <span style=\"background-color: #FFFEFE\">specialist</span> <span style=\"background-color: #FFFEFE\">iv</span> <span style=\"background-color: #FFFEFE\">access</span> <span style=\"background-color: #FFFEFE\">and</span> <span style=\"background-color: #FAFAFF\">infusion</span> <span style=\"background-color: #FFF6F6\">selling</span> <span style=\"background-color: #FFF2F2\">:</span> <span style=\"background-color: #FFE0E0\">medication</span> <span style=\"background-color: #FFFEFE\">delivery</span> <span style=\"background-color: #FFFEFE\">solutions</span> <span style=\"background-color: #FFE8E8\">selling</span> <span style=\"background-color: #FEFEFF\">to</span> <span style=\"background-color: #FFFEFE\">:</span> <span style=\"background-color: #FFFEFE\">iv</span> <span style=\"background-color: #FFFEFE\">teams</span> <span style=\"background-color: #FFFEFE\">,</span> <span style=\"background-color: #FFFEFE\">infection</span> <span style=\"background-color: #FFFEFE\">control</span> <span style=\"background-color: #FFFEFE\">,</span> <span style=\"background-color: #FFFEFE\">lead</span> <span style=\"background-color: #FAFAFF\">intensive</span> <span style=\"background-color: #FFF8F8\">care</span> <span style=\"background-color: #FFF8F8\">nurse</span> <span style=\"background-color: #FFFEFE\">specialists</span> <span style=\"background-color: #FFFEFE\">,</span> <span style=\"background-color: #F2F2FF\">ward</span> <span style=\"background-color: #FFFEFE\">managers</span> <span style=\"background-color: #FFFCFC\">territory</span> <span style=\"background-color: #FFFEFE\">:</span> <span style=\"background-color: #FFFEFE\">east</span> <span style=\"background-color: #FFFEFE\">midlands</span> <span style=\"background-color: #FFFEFE\">location</span> <span style=\"background-color: #FFFEFE\">:</span> <span style=\"background-color: #FFFEFE\">east</span> <span style=\"background-color: #FFFEFE\">midlands</span> <span style=\"background-color: #FCFCFF\">package</span> <span style=\"background-color: #FFD2D2\">:</span> <span style=\"background-color: #FFFEFE\">basic</span> <span style=\"background-color: #FFFEFE\">:</span> <span style=\"background-color: #FFFEFE\">****</span> <span style=\"background-color: #FFFEFE\">k</span> <span style=\"background-color: #FFFEFE\">****</span> <span style=\"background-color: #FFFEFE\">k</span> <span style=\"background-color: #FFFAFA\">,</span> <span style=\"background-color: #FFFEFE\">uncapped</span> <span style=\"background-color: #FEFEFF\">bonus</span> <span style=\"background-color: #FFFEFE\">in</span> <span style=\"background-color: #FFF0F0\">addition</span> <span style=\"background-color: #FFFEFE\">,</span> <span style=\"background-color: #FFFEFE\">full</span> <span style=\"background-color: #FCFCFF\">corporate</span> <span style=\"background-color: #FCFCFF\">benefits</span> <span style=\"background-color: #FFFEFE\">company</span> <span style=\"background-color: #FFFEFE\">information</span> <span style=\"background-color: #FFFEFE\">hugely</span> <span style=\"background-color: #FFFEFE\">ethical</span> <span style=\"background-color: #FFF0F0\">and</span> <span style=\"background-color: #C6C6FF\">professional</span> <span style=\"background-color: #A0A0FF\">global</span> <span style=\"background-color: #FFE6E6\">organisation</span> <span style=\"background-color: #F8F8FF\">extremely</span> <span style=\"background-color: #FFFEFE\">well</span> <span style=\"background-color: #FFF4F4\">established</span> <span style=\"background-color: #FFFEFE\">in</span> <span style=\"background-color: #FFF0F0\">the</span> <span style=\"background-color: #FFFEFE\">uk</span> <span style=\"background-color: #FFFEFE\">the</span> <span style=\"background-color: #FFFEFE\">market</span> <span style=\"background-color: #FFFEFE\">leader</span> <span style=\"background-color: #FFEAEA\">across</span> <span style=\"background-color: #FFF8F8\">all</span> <span style=\"background-color: #FFFCFC\">of</span> <span style=\"background-color: #FFFEFE\">their</span> <span style=\"background-color: #FFF0F0\">core</span> <span style=\"background-color: #E6E6FF\">business</span> <span style=\"background-color: #FCFCFF\">areas</span> <span style=\"background-color: #FEFEFF\">focus</span> <span style=\"background-color: #FFEAEA\">on</span> <span style=\"background-color: #FFFCFC\">providing</span> <span style=\"background-color: #FFFAFA\">cutting</span> <span style=\"background-color: #FFFAFA\">edge</span> <span style=\"background-color: #FFFEFE\">solutions</span> <span style=\"background-color: #FFE8E8\">along</span> <span style=\"background-color: #FFFEFE\">with</span> <span style=\"background-color: #FFF4F4\">outstanding</span> <span style=\"background-color: #FFE8E8\">service</span> <span style=\"background-color: #FFFCFC\">and</span> <span style=\"background-color: #FFFEFE\">support</span> <span style=\"background-color: #FFFEFE\">a</span> <span style=\"background-color: #FAFAFF\">business</span> <span style=\"background-color: #FFE8E8\">that</span> <span style=\"background-color: #E3E3FF\">retain</span> <span style=\"background-color: #FFFEFE\">talented</span> <span style=\"background-color: #FFFEFE\">personnel</span> <span style=\"background-color: #FFF4F4\">by</span> <span style=\"background-color: #FFF8F8\">offering</span> <span style=\"background-color: #FFFEFE\">a</span> <span style=\"background-color: #FFF6F6\">strong</span> <span style=\"background-color: #FFFEFE\">platform</span> <span style=\"background-color: #FFF6F6\">for</span> <span style=\"background-color: #FFFEFE\">career</span> <span style=\"background-color: #FFFCFC\">development</span> <span style=\"background-color: #FFFCFC\">sales</span> <span style=\"background-color: #FFFEFE\">specialist</span> <span style=\"background-color: #FFFEFE\">iv</span> <span style=\"background-color: #FFFEFE\">access</span> <span style=\"background-color: #FFFEFE\">and</span> <span style=\"background-color: #FFFEFE\">infusion</span> <span style=\"background-color: #FFFEFE\">you</span> <span style=\"background-color: #FFFAFA\">must</span> <span style=\"background-color: #FFFEFE\">have</span> <span style=\"background-color: #ECECFF\">/</span> <span style=\"background-color: #ECECFF\">be</span> <span style=\"background-color: #FFF2F2\">the</span> <span style=\"background-color: #FCFCFF\">following</span> <span style=\"background-color: #FFFEFE\">at</span> <span style=\"background-color: #FFF8F8\">least</span> <span style=\"background-color: #FFFEFE\">2</span> <span style=\"background-color: #FEFEFF\">years</span> <span style=\"background-color: #FFFAFA\">medical</span> <span style=\"background-color: #F8F8FF\">device</span> <span style=\"background-color: #FFFEFE\">sales</span> <span style=\"background-color: #FFFEFE\">experience</span> <span style=\"background-color: #FFFEFE\">.</span> <span style=\"background-color: #F2F2FF\">candidates</span> <span style=\"background-color: #FEFEFF\">who</span> <span style=\"background-color: #FFF6F6\">have</span> <span style=\"background-color: #FFFEFE\">sold</span> <span style=\"background-color: #FCFCFF\">disposables</span> <span style=\"background-color: #F8F8FF\">/</span> <span style=\"background-color: #FEFEFF\">consumables</span> <span style=\"background-color: #FCFCFF\">or</span> <span style=\"background-color: #FFD2D2\">similar</span> <span style=\"background-color: #FFFEFE\">into</span> <span style=\"background-color: #FEFEFF\">hospitals</span> <span style=\"background-color: #FFE4E4\">would</span> <span style=\"background-color: #FFFEFE\">be</span> <span style=\"background-color: #FFF2F2\">of</span> <span style=\"background-color: #FCFCFF\">particular</span> <span style=\"background-color: #FFFEFE\">interest</span> <span style=\"background-color: #FFF0F0\">.</span> <span style=\"background-color: #F0F0FF\">candidates</span> <span style=\"background-color: #FEFEFF\">must</span> <span style=\"background-color: #FFF6F6\">have</span> <span style=\"background-color: #FFE2E2\">sold</span> <span style=\"background-color: #FCFCFF\">into</span> <span style=\"background-color: #FFD0D0\">hospitals</span> <span style=\"background-color: #FFE4E4\">demonstrable</span> <span style=\"background-color: #FFF0F0\">performance</span> <span style=\"background-color: #FAFAFF\">and</span> <span style=\"background-color: #FFF6F6\">achievements</span> <span style=\"background-color: #FFF6F6\">so</span> <span style=\"background-color: #FFFAFA\">far</span> <span style=\"background-color: #FFFEFE\">personable</span> <span style=\"background-color: #FFFEFE\">,</span> <span style=\"background-color: #FFFEFE\">adaptable</span> <span style=\"background-color: #FFFEFE\">and</span> <span style=\"background-color: #FFFEFE\">willing</span> <span style=\"background-color: #FFFEFE\">to</span> <span style=\"background-color: #FFFEFE\">learn</span> <span style=\"background-color: #FFFEFE\">keen</span> <span style=\"background-color: #ECECFF\">and</span> <span style=\"background-color: #FFFEFE\">eager</span> <span style=\"background-color: #FFEEEE\">to</span> <span style=\"background-color: #FEFEFF\">be</span> <span style=\"background-color: #FFF4F4\">a</span> <span style=\"background-color: #FFFAFA\">success</span> <span style=\"background-color: #FFF6F6\">candidates</span> <span style=\"background-color: #FEFEFF\">must</span> <span style=\"background-color: #FFFEFE\">have</span> <span style=\"background-color: #FFFEFE\">a</span> <span style=\"background-color: #FFF6F6\">degree</span> <span style=\"background-color: #FFFEFE\">or</span> <span style=\"background-color: #FFECEC\">at</span> <span style=\"background-color: #FFF8F8\">least</span> <span style=\"background-color: #FFE6E6\">be</span> <span style=\"background-color: #FFDCDC\">able</span> <span style=\"background-color: #FCFCFF\">to</span> <span style=\"background-color: #FFFEFE\">show</span> <span style=\"background-color: #FFFEFE\">a</span> <span style=\"background-color: #FFF6F6\">strong</span> <span style=\"background-color: #FFFEFE\">ability</span> <span style=\"background-color: #FFFEFE\">to</span> <span style=\"background-color: #FFFEFE\">learn</span> <span style=\"background-color: #FFFEFE\">role</span> <span style=\"background-color: #FFE4E4\">information</span> <span style=\"background-color: #F3F3FF\">managing</span> <span style=\"background-color: #F6F6FF\">the</span> <span style=\"background-color: #FFFEFE\">east</span> <span style=\"background-color: #FFFEFE\">midlands</span> <span style=\"background-color: #FFFEFE\">region</span> <span style=\"background-color: #FFEEEE\">selling</span> <span style=\"background-color: #FCFCFF\">across</span> <span style=\"background-color: #FFF8F8\">the</span> <span style=\"background-color: #FFFEFE\">company</span> <span style=\"background-color: #FFFEFE\">'</span> <span style=\"background-color: #FFD0D0\">s</span> <span style=\"background-color: #FEFEFF\">range</span> <span style=\"background-color: #EAEAFF\">of</span> <span style=\"background-color: #FFFEFE\">iv</span> <span style=\"background-color: #FFFEFE\">and</span> <span style=\"background-color: #FFFEFE\">infusion</span> <span style=\"background-color: #FFFEFE\">solutions</span> <span style=\"background-color: #FFE8E8\">portfolio</span> <span style=\"background-color: #FFE2E2\">selling</span> <span style=\"background-color: #FEFEFF\">into</span> <span style=\"background-color: #FEFEFF\">lead</span> <span style=\"background-color: #FAFAFF\">intensive</span> <span style=\"background-color: #FFF8F8\">care</span> <span style=\"background-color: #FFF8F8\">nurse</span> <span style=\"background-color: #FFFEFE\">specialists</span> <span style=\"background-color: #FFFEFE\">,</span> <span style=\"background-color: #F2F2FF\">ward</span> <span style=\"background-color: #FFFEFE\">managers</span> <span style=\"background-color: #FFFCFC\">,</span> <span style=\"background-color: #FFFEFE\">iv</span> <span style=\"background-color: #FFFEFE\">teams</span> <span style=\"background-color: #FFFEFE\">,</span> <span style=\"background-color: #FFFEFE\">infection</span> <span style=\"background-color: #FFFEFE\">control</span> <span style=\"background-color: #FFFEFE\">teams</span> <span style=\"background-color: #FFFEFE\">,</span> <span style=\"background-color: #F8F8FF\">procurement</span> <span style=\"background-color: #FFE0E0\">sales</span> <span style=\"background-color: #FFFEFE\">specialist</span> <span style=\"background-color: #FFFEFE\">iv</span> <span style=\"background-color: #FFFEFE\">access</span> <span style=\"background-color: #FFFEFE\">and</span> <span style=\"background-color: #FFFEFE\">infusion</span> <span style=\"background-color: #FFFEFE\">candidates</span> <span style=\"background-color: #FEFEFF\">must</span> <span style=\"background-color: #FFF2F2\">be</span> <span style=\"background-color: #FFF2F2\">eligible</span> <span style=\"background-color: #FFFEFE\">to</span> <span style=\"background-color: #FFFCFC\">work</span> <span style=\"background-color: #FFFCFC\">and</span> <span style=\"background-color: #FFF2F2\">live</span> <span style=\"background-color: #FFECEC\">in</span> <span style=\"background-color: #FFF0F0\">the</span> <span style=\"background-color: #FFFEFE\">uk</span> <span style=\"background-color: #FFFEFE\">.</span> <span style=\"background-color: #F0F0FF\">please</span> <span style=\"background-color: #FFFEFE\">contact</span> <span style=\"background-color: #FFFEFE\">allan</span> <span style=\"background-color: #FFF8F8\">waller</span> <span style=\"background-color: #FAFAFF\">on</span> <span style=\"background-color: #FEFEFF\">****</span> <span style=\"background-color: #FFFEFE\">****</span> <span style=\"background-color: #FFFEFE\">****</span> <span style=\"background-color: #FFFEFE\">or</span> <span style=\"background-color: #FFEEEE\">please</span> <span style=\"background-color: #F8F8FF\">hit</span> <span style=\"background-color: #F8F8FF\">the</span> <span style=\"background-color: #FFF8F8\">apply</span> <span style=\"background-color: #FFFEFE\">button</span> <span style=\"background-color: #FAFAFF\">.</span> <span style=\"background-color: #DCDCFF\">this</span> <span style=\"background-color: #F2F2FF\">job</span> <span style=\"background-color: #FFDCDC\">was</span> <span style=\"background-color: #FFDEDE\">originally</span> <span style=\"background-color: #FFFEFE\">posted</span> <span style=\"background-color: #FCFCFF\">as</span> <span style=\"background-color: #FEFEFF\">www</span> <span style=\"background-color: #FCFCFF\">.</span> <span style=\"background-color: #ECECFF\">salestarget</span> <span style=\"background-color: #FEFEFF\">.</span> <span style=\"background-color: #E2E2FF\">co</span> <span style=\"background-color: #EEEEFF\">.</span> <span style=\"background-color: #F0F0FF\">uk</span> <span style=\"background-color: #FFFEFE\">/</span> <span style=\"background-color: #FFFEFE\">jobseeking</span> <span style=\"background-color: #FEFEFF\">/</span> <span style=\"background-color: #FFFEFE\">UNK</span> <span style=\"background-color: #FEFEFF\">****</span></p>"
      ]
     },
     "metadata": {},
     "output_type": "display_data"
    }
   ],
   "source": [
    "i = 36605\n",
    "tokens_and_weights = explain(model, data.loc[i], \"Title\")\n",
    "draw_html([(tok, weight * 5) for tok, weight in tokens_and_weights], font_style='font-size:20px;');\n",
    "\n",
    "tokens_and_weights = explain(model, data.loc[i], \"FullDescription\")\n",
    "draw_html([(tok, weight * 10) for tok, weight in tokens_and_weights]);"
   ]
  },
  {
   "cell_type": "code",
   "execution_count": 47,
   "metadata": {},
   "outputs": [
    {
     "data": {
      "text/html": [
       "<p style=\"font-size:20px;\"><span style=\"background-color: #FFBABA\">cleaning</span> <span style=\"background-color: #FF7070\">operative</span></p>"
      ]
     },
     "metadata": {},
     "output_type": "display_data"
    },
    {
     "data": {
      "text/html": [
       "<p style=\"font-size:14px;\"><span style=\"background-color: #FFFCFC\">12</span> <span style=\"background-color: #F0F0FF\">.</span> <span style=\"background-color: #C0C0FF\">5</span> <span style=\"background-color: #FFAAAA\">hours</span> <span style=\"background-color: #FFD2D2\">per</span> <span style=\"background-color: #B6B6FF\">week</span> <span style=\"background-color: #D0D0FF\">monday</span> <span style=\"background-color: #F8F8FF\">friday</span> <span style=\"background-color: #F2F2FF\">9am</span> <span style=\"background-color: #FFF6F6\">11</span> <span style=\"background-color: #DADAFF\">.</span> <span style=\"background-color: #ECECFF\">30am</span> <span style=\"background-color: #F8F8FF\">duties</span> <span style=\"background-color: #FFEAEA\">to</span> <span style=\"background-color: #FFE2E2\">include</span> <span style=\"background-color: #FFFEFE\">sweeping</span> <span style=\"background-color: #F8F8FF\">,</span> <span style=\"background-color: #FAFAFF\">mopping</span> <span style=\"background-color: #E6E6FF\">,</span> <span style=\"background-color: #FEFEFF\">vacuuming</span> <span style=\"background-color: #FFF8F8\">,</span> <span style=\"background-color: #FFEAEA\">buffing</span> <span style=\"background-color: #FFF4F4\">,</span> <span style=\"background-color: #FFFEFE\">cleaning</span> <span style=\"background-color: #FFFEFE\">staff</span> <span style=\"background-color: #EEEEFF\">toilets</span> <span style=\"background-color: #FFFAFA\">and</span> <span style=\"background-color: #FCFCFF\">rest</span> <span style=\"background-color: #FEFEFF\">room</span> <span style=\"background-color: #EAEAFF\">.</span> <span style=\"background-color: #F0F0FF\">must</span> <span style=\"background-color: #FCFCFF\">be</span> <span style=\"background-color: #F2F2FF\">able</span> <span style=\"background-color: #F2F2FF\">to</span> <span style=\"background-color: #FCFCFF\">read</span> <span style=\"background-color: #FAFAFF\">as</span> <span style=\"background-color: #FFF8F8\">they</span> <span style=\"background-color: #FFF8F8\">will</span> <span style=\"background-color: #FAFAFF\">be</span> <span style=\"background-color: #FFF8F8\">using</span> <span style=\"background-color: #FFFEFE\">UNK</span> <span style=\"background-color: #FFFEFE\">which</span> <span style=\"background-color: #F0F0FF\">need</span> <span style=\"background-color: #FFFEFE\">UNK</span> <span style=\"background-color: #FFFEFE\">as</span> <span style=\"background-color: #F8F8FF\">per</span> <span style=\"background-color: #F6F6FF\">instructions</span> <span style=\"background-color: #FEFEFF\">on</span> <span style=\"background-color: #FFFCFC\">the</span> <span style=\"background-color: #FFF4F4\">containers</span> <span style=\"background-color: #FEFEFF\">.</span> <span style=\"background-color: #E8E8FF\">sucessfull</span> <span style=\"background-color: #FFF0F0\">applicants</span> <span style=\"background-color: #FEFEFF\">will</span> <span style=\"background-color: #FFD0D0\">be</span> <span style=\"background-color: #FFE2E2\">trained</span> <span style=\"background-color: #FFD3D3\">on</span> <span style=\"background-color: #FFF4F4\">all</span> <span style=\"background-color: #F6F6FF\">electrical</span> <span style=\"background-color: #FEFEFF\">appliances</span> <span style=\"background-color: #FCFCFF\">and</span> <span style=\"background-color: #FFFEFE\">UNK</span> <span style=\"background-color: #FEFEFF\">of</span> <span style=\"background-color: #FFE6E6\">cleaning</span> <span style=\"background-color: #FFF6F6\">materials</span> <span style=\"background-color: #F3F3FF\">.</span></p>"
      ]
     },
     "metadata": {},
     "output_type": "display_data"
    }
   ],
   "source": [
    "i = 12077\n",
    "tokens_and_weights = explain(model, data.loc[i], \"Title\")\n",
    "draw_html([(tok, weight * 5) for tok, weight in tokens_and_weights], font_style='font-size:20px;');\n",
    "\n",
    "tokens_and_weights = explain(model, data.loc[i], \"FullDescription\")\n",
    "draw_html([(tok, weight * 10) for tok, weight in tokens_and_weights]);"
   ]
  },
  {
   "cell_type": "code",
   "execution_count": 49,
   "metadata": {},
   "outputs": [
    {
     "name": "stdout",
     "output_type": "stream",
     "text": [
      "Index: 43051\n",
      "Salary (gbp): tensor([37392.5312])\n"
     ]
    },
    {
     "data": {
      "text/html": [
       "<p style=\"font-size:20px;\"><span style=\"background-color: #FFDADA\">vbnet</span> <span style=\"background-color: #FFC0C0\">software</span> <span style=\"background-color: #EEEEFF\">developer</span> <span style=\"background-color: #D3D3FF\">nottingham</span> <span style=\"background-color: #AEAEFF\">****</span> <span style=\"background-color: #FFB8B8\">k</span></p>"
      ]
     },
     "metadata": {},
     "output_type": "display_data"
    },
    {
     "data": {
      "text/html": [
       "<p style=\"font-size:14px;\"><span style=\"background-color: #FFFEFE\">vb</span> <span style=\"background-color: #FFFEFE\">.</span> <span style=\"background-color: #F2F2FF\">net</span> <span style=\"background-color: #FFFCFC\">software</span> <span style=\"background-color: #FCFCFF\">developer</span> <span style=\"background-color: #FFFEFE\">nottingham</span> <span style=\"background-color: #FFFCFC\">****</span> <span style=\"background-color: #FFFEFE\">k</span> <span style=\"background-color: #FAFAFF\">computer</span> <span style=\"background-color: #FFFEFE\">people</span> <span style=\"background-color: #FAFAFF\">are</span> <span style=\"background-color: #FCFCFF\">the</span> <span style=\"background-color: #FEFEFF\">sole</span> <span style=\"background-color: #FFFCFC\">recruiters</span> <span style=\"background-color: #FEFEFF\">for</span> <span style=\"background-color: #F8F8FF\">a</span> <span style=\"background-color: #FFF2F2\">brand</span> <span style=\"background-color: #FFFEFE\">new</span> <span style=\"background-color: #FFFCFC\">vb</span> <span style=\"background-color: #FFFEFE\">.</span> <span style=\"background-color: #F0F0FF\">net</span> <span style=\"background-color: #FCFCFF\">developer</span> <span style=\"background-color: #FEFEFF\">role</span> <span style=\"background-color: #FFFEFE\">in</span> <span style=\"background-color: #FFFAFA\">nottingham</span> <span style=\"background-color: #FFF8F8\">i</span> <span style=\"background-color: #FFEEEE\">guarantee</span> <span style=\"background-color: #FFFCFC\">you</span> <span style=\"background-color: #FFEEEE\">will</span> <span style=\"background-color: #FFF0F0\">not</span> <span style=\"background-color: #FFEEEE\">have</span> <span style=\"background-color: #FFFEFE\">heard</span> <span style=\"background-color: #FFFEFE\">of</span> <span style=\"background-color: #FEFEFF\">this</span> <span style=\"background-color: #FEFEFF\">role</span> <span style=\"background-color: #FFFEFE\">before</span> <span style=\"background-color: #FEFEFF\">this</span> <span style=\"background-color: #FEFEFF\">established</span> <span style=\"background-color: #FFFEFE\">and</span> <span style=\"background-color: #FFFEFE\">successful</span> <span style=\"background-color: #F8F8FF\">software</span> <span style=\"background-color: #FCFCFF\">house</span> <span style=\"background-color: #FFFEFE\">are</span> <span style=\"background-color: #FFFEFE\">offering</span> <span style=\"background-color: #FFFEFE\">a</span> <span style=\"background-color: #FFF4F4\">cuttingedge</span> <span style=\"background-color: #FFFEFE\">solution</span> <span style=\"background-color: #FFF2F2\">to</span> <span style=\"background-color: #FEFEFF\">customers</span> <span style=\"background-color: #FEFEFF\">across</span> <span style=\"background-color: #FEFEFF\">the</span> <span style=\"background-color: #FFFEFE\">uk</span> <span style=\"background-color: #FFFEFE\">.</span> <span style=\"background-color: #F2F2FF\">the</span> <span style=\"background-color: #FFFEFE\">growing</span> <span style=\"background-color: #FFFEFE\">success</span> <span style=\"background-color: #FFF2F2\">of</span> <span style=\"background-color: #FFFEFE\">the</span> <span style=\"background-color: #FFF8F8\">software</span> <span style=\"background-color: #F0F0FF\">is</span> <span style=\"background-color: #F2F2FF\">behind</span> <span style=\"background-color: #FCFCFF\">the</span> <span style=\"background-color: #FFF6F6\">need</span> <span style=\"background-color: #FFF8F8\">for</span> <span style=\"background-color: #FFFAFA\">a</span> <span style=\"background-color: #FFEEEE\">new</span> <span style=\"background-color: #FAFAFF\">programmer</span> <span style=\"background-color: #FFFEFE\">.</span> <span style=\"background-color: #ECECFF\">requirements</span> <span style=\"background-color: #FFFEFE\">of</span> <span style=\"background-color: #FFFEFE\">the</span> <span style=\"background-color: #FFFEFE\">vb</span> <span style=\"background-color: #FFFEFE\">.</span> <span style=\"background-color: #F2F2FF\">net</span> <span style=\"background-color: #FFFCFC\">software</span> <span style=\"background-color: #FCFCFF\">developer</span> <span style=\"background-color: #FFFEFE\">:</span> <span style=\"background-color: #FFFEFE\">vb</span> <span style=\"background-color: #FFFEFE\">.</span> <span style=\"background-color: #F0F0FF\">net</span> <span style=\"background-color: #FFFEFE\">sql</span> <span style=\"background-color: #FFFEFE\">****</span> <span style=\"background-color: #FFF8F8\">visual</span> <span style=\"background-color: #FFE2E2\">studio</span> <span style=\"background-color: #F8F8FF\">2010</span> <span style=\"background-color: #FFF8F8\">html</span> <span style=\"background-color: #FFFEFE\">asp</span> <span style=\"background-color: #FFFEFE\">.</span> <span style=\"background-color: #F2F2FF\">net</span> <span style=\"background-color: #FFFEFE\">(</span> <span style=\"background-color: #FAFAFF\">not</span> <span style=\"background-color: #FEFEFF\">essential</span> <span style=\"background-color: #FFFEFE\">as</span> <span style=\"background-color: #FFFEFE\">this</span> <span style=\"background-color: #FFFEFE\">can</span> <span style=\"background-color: #F8F8FF\">be</span> <span style=\"background-color: #F6F6FF\">taught</span> <span style=\"background-color: #FCFCFF\">)</span> <span style=\"background-color: #FFFEFE\">c</span> <span style=\"background-color: #FFFEFE\">(</span> <span style=\"background-color: #F8F8FF\">some</span> <span style=\"background-color: #F8F8FF\">software</span> <span style=\"background-color: #FAFAFF\">written</span> <span style=\"background-color: #FCFCFF\">in</span> <span style=\"background-color: #FFFAFA\">c</span> <span style=\"background-color: #FFFEFE\">,</span> <span style=\"background-color: #F8F8FF\">though</span> <span style=\"background-color: #FFFEFE\">this</span> <span style=\"background-color: #FFF4F4\">isn</span> <span style=\"background-color: #FFF2F2\">'</span> <span style=\"background-color: #FFFAFA\">t</span> <span style=\"background-color: #FFFAFA\">an</span> <span style=\"background-color: #FFE4E4\">essential</span> <span style=\"background-color: #FFFEFE\">)</span> <span style=\"background-color: #FFFEFE\">responsibilities</span> <span style=\"background-color: #FFFEFE\">of</span> <span style=\"background-color: #FFFEFE\">the</span> <span style=\"background-color: #FFFEFE\">vb</span> <span style=\"background-color: #FFFEFE\">.</span> <span style=\"background-color: #F2F2FF\">net</span> <span style=\"background-color: #FFFCFC\">software</span> <span style=\"background-color: #FCFCFF\">developer</span> <span style=\"background-color: #FFFEFE\">:</span> <span style=\"background-color: #FFFEFE\">develop</span> <span style=\"background-color: #FEFEFF\">software</span> <span style=\"background-color: #FCFCFF\">and</span> <span style=\"background-color: #FFFAFA\">databases</span> <span style=\"background-color: #FFFCFC\">for</span> <span style=\"background-color: #F8F8FF\">web</span> <span style=\"background-color: #FEFEFF\">,</span> <span style=\"background-color: #F6F6FF\">windows</span> <span style=\"background-color: #F0F0FF\">and</span> <span style=\"background-color: #FEFEFF\">mobile</span> <span style=\"background-color: #FFFEFE\">/</span> <span style=\"background-color: #FFFEFE\">pda</span> <span style=\"background-color: #F2F2FF\">.</span> <span style=\"background-color: #F2F2FF\">our</span> <span style=\"background-color: #FFE2E2\">customer</span> <span style=\"background-color: #FFE2E2\">are</span> <span style=\"background-color: #F6F6FF\">true</span> <span style=\"background-color: #FFFEFE\">marketleaders</span> <span style=\"background-color: #FFFEFE\">offering</span> <span style=\"background-color: #FEFEFF\">an</span> <span style=\"background-color: #FFE4E4\">innovative</span> <span style=\"background-color: #FFF2F2\">solution</span> <span style=\"background-color: #F0F0FF\">.</span> <span style=\"background-color: #ECECFF\">work</span> <span style=\"background-color: #FFFEFE\">within</span> <span style=\"background-color: #FCFCFF\">a</span> <span style=\"background-color: #FFF4F4\">small</span> <span style=\"background-color: #F8F8FF\">team</span> <span style=\"background-color: #FFFEFE\">so</span> <span style=\"background-color: #FFF6F6\">be</span> <span style=\"background-color: #E8E8FF\">highly</span> <span style=\"background-color: #F2F2FF\">autonomous</span> <span style=\"background-color: #FFF6F6\">and</span> <span style=\"background-color: #FFF8F8\">selfmanaging</span> <span style=\"background-color: #FFF8F8\">.</span> <span style=\"background-color: #FAFAFF\">be</span> <span style=\"background-color: #F6F6FF\">part</span> <span style=\"background-color: #FCFCFF\">of</span> <span style=\"background-color: #F2F2FF\">a</span> <span style=\"background-color: #E0E0FF\">relaxed</span> <span style=\"background-color: #EAEAFF\">and</span> <span style=\"background-color: #FFFEFE\">informal</span> <span style=\"background-color: #FFCCCC\">environment</span> <span style=\"background-color: #FFFEFE\">it</span> <span style=\"background-color: #FFF6F6\">'</span> <span style=\"background-color: #FFFEFE\">s</span> <span style=\"background-color: #FEFEFF\">a</span> <span style=\"background-color: #FFF4F4\">really</span> <span style=\"background-color: #FFFEFE\">down</span> <span style=\"background-color: #FFFCFC\">to</span> <span style=\"background-color: #FFF8F8\">earth</span> <span style=\"background-color: #FFFEFE\">bunch</span> <span style=\"background-color: #FFFEFE\">of</span> <span style=\"background-color: #FEFEFF\">developers</span> <span style=\"background-color: #FEFEFF\">.</span> <span style=\"background-color: #EEEEFF\">to</span> <span style=\"background-color: #F3F3FF\">be</span> <span style=\"background-color: #FCFCFF\">considered</span> <span style=\"background-color: #FFFAFA\">for</span> <span style=\"background-color: #F8F8FF\">the</span> <span style=\"background-color: #FFFEFE\">vb</span> <span style=\"background-color: #FFFEFE\">.</span> <span style=\"background-color: #F2F2FF\">net</span> <span style=\"background-color: #FFFCFC\">software</span> <span style=\"background-color: #FCFCFF\">developer</span> <span style=\"background-color: #FFFEFE\">you</span> <span style=\"background-color: #FFF6F6\">'</span> <span style=\"background-color: #FFFAFA\">ll</span> <span style=\"background-color: #FEFEFF\">be</span> <span style=\"background-color: #F3F3FF\">:</span> <span style=\"background-color: #FFFCFC\">looking</span> <span style=\"background-color: #FFDADA\">for</span> <span style=\"background-color: #F3F3FF\">****</span> <span style=\"background-color: #FFFEFE\">k</span> <span style=\"background-color: #FAFAFF\">flexible</span> <span style=\"background-color: #DEDEFF\">working</span> <span style=\"background-color: #FFA2A2\">hours</span> <span style=\"background-color: #FCFCFF\">pension</span> <span style=\"background-color: #F0F0FF\">healthcare</span> <span style=\"background-color: #F3F3FF\">.</span> <span style=\"background-color: #F2F2FF\">commutable</span> <span style=\"background-color: #FFFEFE\">to</span> <span style=\"background-color: #FFFEFE\">nottingham</span> <span style=\"background-color: #FFF8F8\">.</span> <span style=\"background-color: #F0F0FF\">this</span> <span style=\"background-color: #C0C0FF\">firm</span> <span style=\"background-color: #FFFEFE\">are</span> <span style=\"background-color: #FFFEFE\">close</span> <span style=\"background-color: #FEFEFF\">to</span> <span style=\"background-color: #FFE6E6\">rail</span> <span style=\"background-color: #FFDCDC\">links</span> <span style=\"background-color: #E0E0FF\">derby</span> <span style=\"background-color: #FFFAFA\">,</span> <span style=\"background-color: #F8F8FF\">loughborough</span> <span style=\"background-color: #FFFEFE\">,</span> <span style=\"background-color: #F8F8FF\">leicester</span> <span style=\"background-color: #FFFEFE\">,</span> <span style=\"background-color: #F0F0FF\">burton</span> <span style=\"background-color: #F8F8FF\">,</span> <span style=\"background-color: #F8F8FF\">mansfield</span> <span style=\"background-color: #FEFEFF\">,</span> <span style=\"background-color: #F8F8FF\">sheffield</span> <span style=\"background-color: #FFFEFE\">are</span> <span style=\"background-color: #FFF8F8\">easily</span> <span style=\"background-color: #FEFEFF\">within</span> <span style=\"background-color: #FCFCFF\">reach</span> <span style=\"background-color: #FFFEFE\">.</span> <span style=\"background-color: #F2F2FF\">computer</span> <span style=\"background-color: #FFFEFE\">people</span> <span style=\"background-color: #FCFCFF\">are</span> <span style=\"background-color: #FFFEFE\">an</span> <span style=\"background-color: #FFE4E4\">equal</span> <span style=\"background-color: #FFFEFE\">opportunities</span> <span style=\"background-color: #FFFEFE\">employer</span> <span style=\"background-color: #FFF2F2\">and</span> <span style=\"background-color: #D0D0FF\">an</span> <span style=\"background-color: #FFDCDC\">employment</span> <span style=\"background-color: #FFFEFE\">agency</span> <span style=\"background-color: #FFFEFE\">.</span> <span style=\"background-color: #F2F2FF\">vb</span> <span style=\"background-color: #FFFEFE\">.</span> <span style=\"background-color: #F2F2FF\">net</span> <span style=\"background-color: #FFFCFC\">software</span> <span style=\"background-color: #FCFCFF\">developer</span> <span style=\"background-color: #FFFEFE\">nottingham</span> <span style=\"background-color: #FFFCFC\">****</span> <span style=\"background-color: #AAAAFF\">k</span></p>"
      ]
     },
     "metadata": {},
     "output_type": "display_data"
    }
   ],
   "source": [
    "i = np.random.randint(len(data))\n",
    "print(\"Index:\", i)\n",
    "print(\"Salary (gbp):\", np.expm1(model(make_batch(data.iloc[i: i+1], device=device, max_len=500)).detach().cpu()))\n",
    "\n",
    "tokens_and_weights = explain(model, data.loc[i], \"Title\")\n",
    "draw_html([(tok, weight * 5) for tok, weight in tokens_and_weights], font_style='font-size:20px;');\n",
    "\n",
    "tokens_and_weights = explain(model, data.loc[i], \"FullDescription\")\n",
    "draw_html([(tok, weight * 10) for tok, weight in tokens_and_weights]);"
   ]
  },
  {
   "cell_type": "markdown",
   "metadata": {},
   "source": [
    "__Terrible start-up idea #1962:__ make a tool that automaticaly rephrases your job description (or CV) to meet salary expectations :)"
   ]
  }
 ],
 "metadata": {
  "kernelspec": {
   "display_name": "Python [conda env:wpm_matching_py373]",
   "language": "python",
   "name": "conda-env-wpm_matching_py373-py"
  },
  "language_info": {
   "codemirror_mode": {
    "name": "ipython",
    "version": 3
   },
   "file_extension": ".py",
   "mimetype": "text/x-python",
   "name": "python",
   "nbconvert_exporter": "python",
   "pygments_lexer": "ipython3",
   "version": "3.7.3"
  },
  "toc": {
   "base_numbering": 1,
   "nav_menu": {},
   "number_sections": true,
   "sideBar": true,
   "skip_h1_title": false,
   "title_cell": "Table of Contents",
   "title_sidebar": "Contents",
   "toc_cell": false,
   "toc_position": {},
   "toc_section_display": true,
   "toc_window_display": true
  }
 },
 "nbformat": 4,
 "nbformat_minor": 4
}
