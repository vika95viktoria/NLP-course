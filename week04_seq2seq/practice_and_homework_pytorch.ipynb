{
  "metadata": {
    "accelerator": "GPU",
    "colab": {
      "collapsed_sections": [
        "edk_oVg0lrtW"
      ],
      "provenance": [],
      "machine_shape": "hm",
      "gpuType": "T4"
    },
    "kernelspec": {
      "display_name": "Python 3",
      "name": "python3"
    },
    "language_info": {
      "name": "python",
      "version": "3.10.10",
      "mimetype": "text/x-python",
      "codemirror_mode": {
        "name": "ipython",
        "version": 3
      },
      "pygments_lexer": "ipython3",
      "nbconvert_exporter": "python",
      "file_extension": ".py"
    },
    "toc": {
      "base_numbering": 1,
      "nav_menu": {},
      "number_sections": true,
      "sideBar": true,
      "skip_h1_title": false,
      "title_cell": "Table of Contents",
      "title_sidebar": "Contents",
      "toc_cell": false,
      "toc_position": {},
      "toc_section_display": true,
      "toc_window_display": true
    }
  },
  "nbformat_minor": 0,
  "nbformat": 4,
  "cells": [
    {
      "cell_type": "markdown",
      "source": [
        "## Seminar and homework (10 points total)\n",
        "\n",
        "Today we shall compose encoder-decoder neural networks and apply them to the task of machine translation.\n",
        "\n",
        "![img](https://esciencegroup.files.wordpress.com/2016/03/seq2seq.jpg)\n",
        "_(img: esciencegroup.files.wordpress.com)_\n",
        "\n",
        "\n",
        "Encoder-decoder architectures are about converting anything to anything, including\n",
        " * Machine translation and spoken dialogue systems\n",
        " * [Image captioning](http://mscoco.org/dataset/#captions-challenge2015) and [image2latex](https://openai.com/requests-for-research/#im2latex) (convolutional encoder, recurrent decoder)\n",
        " * Generating [images by captions](https://arxiv.org/abs/1511.02793) (recurrent encoder, convolutional decoder)\n",
        " * Grapheme2phoneme - convert words to transcripts"
      ],
      "metadata": {
        "id": "HmsFABwClrsS"
      }
    },
    {
      "cell_type": "markdown",
      "source": [
        "## Our task: machine translation\n",
        "\n",
        "We gonna try our encoder-decoder models on russian to english machine translation problem. More specifically, we'll translate hotel and hostel descriptions. This task shows the scale of machine translation while not requiring you to train your model for weeks if you don't use GPU.\n",
        "\n",
        "Before we get to the architecture, there's some preprocessing to be done. ~~Go tokenize~~ Alright, this time we've done preprocessing for you. As usual, the data will be tokenized with WordPunctTokenizer.\n",
        "\n",
        "However, there's one more thing to do. Our data lines contain unique rare words. If we operate on a word level, we will have to deal with large vocabulary size. If instead we use character-level models, it would take lots of iterations to process a sequence. This time we're gonna pick something inbetween.\n",
        "\n",
        "One popular approach is called [Byte Pair Encoding](https://github.com/rsennrich/subword-nmt) aka __BPE__. The algorithm starts with a character-level tokenization and then iteratively merges most frequent pairs for N iterations. This results in frequent words being merged into a single token and rare words split into syllables or even characters.\n",
        "\n"
      ],
      "metadata": {
        "id": "R4N9AD2dlrsU"
      }
    },
    {
      "cell_type": "code",
      "source": [
        "!pip3 install torch>=1.3.0\n",
        "!pip3 install subword-nmt &> log\n",
        "!wget https://www.dropbox.com/s/yy2zqh34dyhv07i/data.txt?dl=1 -O data.txt\n",
        "!wget https://raw.githubusercontent.com/yandexdataschool/nlp_course/2020/week04_seq2seq/vocab.py -O vocab.py\n",
        "# thanks to tilda and deephack teams for the data, Dmitry Emelyanenko for the code :)"
      ],
      "metadata": {
        "colab": {
          "base_uri": "https://localhost:8080/"
        },
        "id": "CfvojjHQlrsU",
        "execution": {
          "iopub.status.busy": "2023-06-04T09:49:44.551182Z",
          "iopub.execute_input": "2023-06-04T09:49:44.551821Z",
          "iopub.status.idle": "2023-06-04T09:50:17.016908Z",
          "shell.execute_reply.started": "2023-06-04T09:49:44.551783Z",
          "shell.execute_reply": "2023-06-04T09:50:17.015706Z"
        },
        "trusted": true,
        "outputId": "6bf36583-f0df-4259-aee0-8ead818b9acc"
      },
      "execution_count": 6,
      "outputs": [
        {
          "output_type": "stream",
          "name": "stdout",
          "text": [
            "--2023-06-05 09:57:53--  https://www.dropbox.com/s/yy2zqh34dyhv07i/data.txt?dl=1\n",
            "Resolving www.dropbox.com (www.dropbox.com)... 162.125.81.18, 2620:100:6035:18::a27d:5512\n",
            "Connecting to www.dropbox.com (www.dropbox.com)|162.125.81.18|:443... connected.\n",
            "HTTP request sent, awaiting response... 302 Found\n",
            "Location: /s/dl/yy2zqh34dyhv07i/data.txt [following]\n",
            "--2023-06-05 09:57:53--  https://www.dropbox.com/s/dl/yy2zqh34dyhv07i/data.txt\n",
            "Reusing existing connection to www.dropbox.com:443.\n",
            "HTTP request sent, awaiting response... 302 Found\n",
            "Location: https://ucc2fc9cb9a99ec66a707cc63ffa.dl.dropboxusercontent.com/cd/0/get/B9bTFq18EYyA70mxIz5EnDYb9FqB1OjlUhN3Pyi_iElEmVfkJt_L9P5kFMAbEVNmP4ZnwHWL97NstOYSFV3IsaQi4grQaAPdB6KNVbjKaFpug97B-2pFVXISSwnCU_ExFeY6bvFA7ZK8c6T3U-gNCHCslbMFRbBaUq9BzoW268q8vw/file?dl=1# [following]\n",
            "--2023-06-05 09:57:54--  https://ucc2fc9cb9a99ec66a707cc63ffa.dl.dropboxusercontent.com/cd/0/get/B9bTFq18EYyA70mxIz5EnDYb9FqB1OjlUhN3Pyi_iElEmVfkJt_L9P5kFMAbEVNmP4ZnwHWL97NstOYSFV3IsaQi4grQaAPdB6KNVbjKaFpug97B-2pFVXISSwnCU_ExFeY6bvFA7ZK8c6T3U-gNCHCslbMFRbBaUq9BzoW268q8vw/file?dl=1\n",
            "Resolving ucc2fc9cb9a99ec66a707cc63ffa.dl.dropboxusercontent.com (ucc2fc9cb9a99ec66a707cc63ffa.dl.dropboxusercontent.com)... 162.125.81.15, 2620:100:6031:15::a27d:510f\n",
            "Connecting to ucc2fc9cb9a99ec66a707cc63ffa.dl.dropboxusercontent.com (ucc2fc9cb9a99ec66a707cc63ffa.dl.dropboxusercontent.com)|162.125.81.15|:443... connected.\n",
            "HTTP request sent, awaiting response... 200 OK\n",
            "Length: 12905335 (12M) [application/binary]\n",
            "Saving to: ‘data.txt’\n",
            "\n",
            "data.txt            100%[===================>]  12.31M  10.5MB/s    in 1.2s    \n",
            "\n",
            "2023-06-05 09:57:56 (10.5 MB/s) - ‘data.txt’ saved [12905335/12905335]\n",
            "\n",
            "--2023-06-05 09:57:56--  https://raw.githubusercontent.com/yandexdataschool/nlp_course/2020/week04_seq2seq/vocab.py\n",
            "Resolving raw.githubusercontent.com (raw.githubusercontent.com)... 185.199.108.133, 185.199.109.133, 185.199.110.133, ...\n",
            "Connecting to raw.githubusercontent.com (raw.githubusercontent.com)|185.199.108.133|:443... connected.\n",
            "HTTP request sent, awaiting response... 200 OK\n",
            "Length: 2879 (2.8K) [text/plain]\n",
            "Saving to: ‘vocab.py’\n",
            "\n",
            "vocab.py            100%[===================>]   2.81K  --.-KB/s    in 0s      \n",
            "\n",
            "2023-06-05 09:57:56 (55.3 MB/s) - ‘vocab.py’ saved [2879/2879]\n",
            "\n"
          ]
        }
      ]
    },
    {
      "cell_type": "code",
      "source": [
        "from nltk.tokenize import WordPunctTokenizer\n",
        "from subword_nmt.learn_bpe import learn_bpe\n",
        "from subword_nmt.apply_bpe import BPE\n",
        "tokenizer = WordPunctTokenizer()\n",
        "def tokenize(x):\n",
        "    return ' '.join(tokenizer.tokenize(x.lower()))\n",
        "\n",
        "# split and tokenize the data\n",
        "with open('train.en', 'w') as f_src,  open('train.ru', 'w') as f_dst:\n",
        "    for line in open('data.txt'):\n",
        "        src_line, dst_line = line.strip().split('\\t')\n",
        "        f_src.write(tokenize(src_line) + '\\n')\n",
        "        f_dst.write(tokenize(dst_line) + '\\n')\n",
        "\n",
        "# build and apply bpe vocs\n",
        "bpe = {}\n",
        "for lang in ['en', 'ru']:\n",
        "    learn_bpe(open('./train.' + lang), open('bpe_rules.' + lang, 'w'), num_symbols=8000)\n",
        "    bpe[lang] = BPE(open('./bpe_rules.' + lang))\n",
        "    \n",
        "    with open('train.bpe.' + lang, 'w') as f_out:\n",
        "        for line in open('train.' + lang):\n",
        "            f_out.write(bpe[lang].process_line(line.strip()) + '\\n')"
      ],
      "metadata": {
        "colab": {
          "base_uri": "https://localhost:8080/"
        },
        "id": "g9kP0SdxlrsY",
        "execution": {
          "iopub.status.busy": "2023-06-04T09:50:19.886763Z",
          "iopub.execute_input": "2023-06-04T09:50:19.887288Z",
          "iopub.status.idle": "2023-06-04T09:51:01.875633Z",
          "shell.execute_reply.started": "2023-06-04T09:50:19.887241Z",
          "shell.execute_reply": "2023-06-04T09:51:01.874655Z"
        },
        "trusted": true,
        "outputId": "e80ddf1f-86fb-469c-83fe-8cbc66ce6503"
      },
      "execution_count": 7,
      "outputs": [
        {
          "output_type": "stream",
          "name": "stderr",
          "text": [
            "100%|██████████| 8000/8000 [00:08<00:00, 908.73it/s]\n",
            "100%|██████████| 8000/8000 [00:09<00:00, 875.13it/s]\n"
          ]
        }
      ]
    },
    {
      "cell_type": "markdown",
      "source": [
        "### Building vocabularies\n",
        "\n",
        "We now need to build vocabularies that map strings to token ids and vice versa. We're gonna need these fellas when we feed training data into model or convert output matrices into words."
      ],
      "metadata": {
        "id": "0UPW3sV8lrsb"
      }
    },
    {
      "cell_type": "code",
      "source": [
        "import numpy as np\n",
        "import matplotlib.pyplot as plt\n",
        "from IPython.display import clear_output\n",
        "from tqdm import tqdm, trange\n",
        "%matplotlib inline"
      ],
      "metadata": {
        "id": "CmTy_m_olrsb",
        "execution": {
          "iopub.status.busy": "2023-06-04T09:52:03.826114Z",
          "iopub.execute_input": "2023-06-04T09:52:03.826626Z",
          "iopub.status.idle": "2023-06-04T09:52:03.835199Z",
          "shell.execute_reply.started": "2023-06-04T09:52:03.826586Z",
          "shell.execute_reply": "2023-06-04T09:52:03.834082Z"
        },
        "trusted": true
      },
      "execution_count": 8,
      "outputs": []
    },
    {
      "cell_type": "code",
      "source": [
        "data_inp = np.array(open('./train.bpe.ru').read().split('\\n'))\n",
        "data_out = np.array(open('./train.bpe.en').read().split('\\n'))\n",
        "\n",
        "from sklearn.model_selection import train_test_split\n",
        "train_inp, dev_inp, train_out, dev_out = train_test_split(data_inp, data_out, test_size=3000,\n",
        "                                                          random_state=42)\n",
        "for i in range(3):\n",
        "    print('inp:', train_inp[i])\n",
        "    print('out:', train_out[i], end='\\n\\n')"
      ],
      "metadata": {
        "colab": {
          "base_uri": "https://localhost:8080/"
        },
        "id": "8PskgBSxlrsd",
        "execution": {
          "iopub.status.busy": "2023-06-04T09:51:01.885737Z",
          "iopub.execute_input": "2023-06-04T09:51:01.886336Z",
          "iopub.status.idle": "2023-06-04T09:51:02.378256Z",
          "shell.execute_reply.started": "2023-06-04T09:51:01.886301Z",
          "shell.execute_reply": "2023-06-04T09:51:02.377211Z"
        },
        "trusted": true,
        "outputId": "ee93457a-73c2-4a2d-b759-b0bfb391274f"
      },
      "execution_count": 9,
      "outputs": [
        {
          "output_type": "stream",
          "name": "stdout",
          "text": [
            "inp: на территории обустроена бесплатная частная парковка .\n",
            "out: free private parking is available on site .\n",
            "\n",
            "inp: кроме того , в 5 минутах ходьбы работают многочисленные бары и рестораны .\n",
            "out: guests can find many bars and restaurants within a 5 - minute walk .\n",
            "\n",
            "inp: отель san mi@@ gu@@ el расположен в центре мор@@ ели@@ и , в 750 метрах от главной площади города и кафедрального собора .\n",
            "out: hotel san miguel is located in central more@@ lia , 750 metres from the city ’ s main square and cathedral .\n",
            "\n"
          ]
        }
      ]
    },
    {
      "cell_type": "code",
      "source": [
        "from vocab import Vocab\n",
        "inp_voc = Vocab.from_lines(train_inp)\n",
        "out_voc = Vocab.from_lines(train_out)"
      ],
      "metadata": {
        "id": "vipg4O61lrsg",
        "execution": {
          "iopub.status.busy": "2023-06-04T09:51:02.381015Z",
          "iopub.execute_input": "2023-06-04T09:51:02.381946Z",
          "iopub.status.idle": "2023-06-04T09:51:04.325486Z",
          "shell.execute_reply.started": "2023-06-04T09:51:02.381906Z",
          "shell.execute_reply": "2023-06-04T09:51:04.324370Z"
        },
        "trusted": true
      },
      "execution_count": 10,
      "outputs": []
    },
    {
      "cell_type": "code",
      "source": [
        "# Here's how you cast lines into ids and backwards.\n",
        "batch_lines = sorted(train_inp, key=len)[5:10]\n",
        "batch_ids = inp_voc.to_matrix(batch_lines)\n",
        "batch_lines_restored = inp_voc.to_lines(batch_ids)\n",
        "\n",
        "print(\"lines\")\n",
        "print(batch_lines)\n",
        "print(\"\\nwords to ids (0 = bos, 1 = eos):\")\n",
        "print(batch_ids)\n",
        "print(\"\\nback to words\")\n",
        "print(batch_lines_restored)"
      ],
      "metadata": {
        "colab": {
          "base_uri": "https://localhost:8080/"
        },
        "id": "cwOoHfuhlrsi",
        "execution": {
          "iopub.status.busy": "2023-06-04T09:51:04.327237Z",
          "iopub.execute_input": "2023-06-04T09:51:04.327975Z",
          "iopub.status.idle": "2023-06-04T09:51:04.541179Z",
          "shell.execute_reply.started": "2023-06-04T09:51:04.327936Z",
          "shell.execute_reply": "2023-06-04T09:51:04.540201Z"
        },
        "trusted": true,
        "outputId": "0abda232-25fc-442a-e8b7-0f8e12bbcf4c"
      },
      "execution_count": 6,
      "outputs": [
        {
          "output_type": "stream",
          "name": "stdout",
          "text": [
            "lines\n",
            "['гостевой дом r .', 'до афин — 20 км .', 'работает боулинг .', 'оборудован балкон .', 'подключен wi - fi .']\n",
            "\n",
            "words to ids (0 = bos, 1 = eos):\n",
            "tensor([[   0, 2688, 2943, 1108,   29,    1,    1,    1],\n",
            "        [   0, 2922, 1834, 8035,   59, 3800,   29,    1],\n",
            "        [   0, 6030, 2083,   29,    1,    1,    1,    1],\n",
            "        [   0, 4927, 1870,   29,    1,    1,    1,    1],\n",
            "        [   0, 5549, 1453,   27,  592,   29,    1,    1]])\n",
            "\n",
            "back to words\n",
            "['гостевой дом r .', 'до афин — 20 км .', 'работает боулинг .', 'оборудован балкон .', 'подключен wi - fi .']\n"
          ]
        }
      ]
    },
    {
      "cell_type": "markdown",
      "source": [
        "Draw source and translation length distributions to estimate the scope of the task."
      ],
      "metadata": {
        "id": "gSYu-MkElrsk"
      }
    },
    {
      "cell_type": "code",
      "source": [
        "plt.figure(figsize=[8, 4])\n",
        "plt.subplot(1, 2, 1)\n",
        "plt.title(\"source length\")\n",
        "plt.hist(list(map(len, map(str.split, train_inp))), bins=20);\n",
        "\n",
        "plt.subplot(1, 2, 2)\n",
        "plt.title(\"translation length\")\n",
        "plt.hist(list(map(len, map(str.split, train_out))), bins=20);"
      ],
      "metadata": {
        "colab": {
          "base_uri": "https://localhost:8080/",
          "height": 391
        },
        "id": "TLLl9cSNlrsl",
        "execution": {
          "iopub.status.busy": "2023-06-04T09:51:04.542749Z",
          "iopub.execute_input": "2023-06-04T09:51:04.543099Z",
          "iopub.status.idle": "2023-06-04T09:51:05.842342Z",
          "shell.execute_reply.started": "2023-06-04T09:51:04.543066Z",
          "shell.execute_reply": "2023-06-04T09:51:05.841395Z"
        },
        "trusted": true,
        "outputId": "83b14e5c-398b-4ff8-a49b-2efa82170c12"
      },
      "execution_count": 7,
      "outputs": [
        {
          "output_type": "display_data",
          "data": {
            "text/plain": [
              "<Figure size 800x400 with 2 Axes>"
            ],
            "image/png": "[encoded data removed]"
          },
          "metadata": {}
        }
      ]
    },
    {
      "cell_type": "markdown",
      "source": [
        "### Encoder-decoder model\n",
        "\n",
        "The code below contains a template for a simple encoder-decoder model: single GRU encoder/decoder, no attention or anything. This model is implemented for you as a reference and a baseline for your homework assignment."
      ],
      "metadata": {
        "id": "BHWgx34flrsn"
      }
    },
    {
      "cell_type": "code",
      "source": [
        "import torch\n",
        "import torch.nn as nn\n",
        "import torch.nn.functional as F\n",
        "device = 'cuda' if torch.cuda.is_available() else 'cpu'"
      ],
      "metadata": {
        "id": "pd_rDRm9lrso",
        "execution": {
          "iopub.status.busy": "2023-06-04T09:51:05.843657Z",
          "iopub.execute_input": "2023-06-04T09:51:05.846447Z",
          "iopub.status.idle": "2023-06-04T09:51:05.922375Z",
          "shell.execute_reply.started": "2023-06-04T09:51:05.846379Z",
          "shell.execute_reply": "2023-06-04T09:51:05.921567Z"
        },
        "trusted": true
      },
      "execution_count": 11,
      "outputs": []
    },
    {
      "cell_type": "code",
      "source": [
        "device"
      ],
      "metadata": {
        "execution": {
          "iopub.status.busy": "2023-06-04T09:51:05.925808Z",
          "iopub.execute_input": "2023-06-04T09:51:05.927417Z",
          "iopub.status.idle": "2023-06-04T09:51:05.944000Z",
          "shell.execute_reply.started": "2023-06-04T09:51:05.927377Z",
          "shell.execute_reply": "2023-06-04T09:51:05.942901Z"
        },
        "trusted": true,
        "colab": {
          "base_uri": "https://localhost:8080/",
          "height": 35
        },
        "id": "6A17uXBiMPSP",
        "outputId": "d9def84b-d14f-4ff9-d6bb-1cfb6607765a"
      },
      "execution_count": 12,
      "outputs": [
        {
          "output_type": "execute_result",
          "data": {
            "text/plain": [
              "'cuda'"
            ],
            "application/vnd.google.colaboratory.intrinsic+json": {
              "type": "string"
            }
          },
          "metadata": {},
          "execution_count": 12
        }
      ]
    },
    {
      "cell_type": "code",
      "source": [
        "class BasicModel(nn.Module):\n",
        "    def __init__(self, inp_voc, out_voc, emb_size=64, hid_size=128):\n",
        "        \"\"\"\n",
        "        A simple encoder-decoder seq2seq model\n",
        "        \"\"\"\n",
        "        super().__init__() # initialize base class to track sub-layers, parameters, etc.\n",
        "\n",
        "        self.inp_voc, self.out_voc = inp_voc, out_voc\n",
        "        self.hid_size = hid_size\n",
        "        \n",
        "        self.emb_inp = nn.Embedding(len(inp_voc), emb_size)\n",
        "        self.emb_out = nn.Embedding(len(out_voc), emb_size)\n",
        "        self.enc0 = nn.GRU(emb_size, hid_size, batch_first=True)\n",
        "\n",
        "        self.dec_start = nn.Linear(hid_size, hid_size)\n",
        "        self.dec0 = nn.GRUCell(emb_size, hid_size)\n",
        "        self.logits = nn.Linear(hid_size, len(out_voc))\n",
        "        \n",
        "    def forward(self, inp, out):\n",
        "        \"\"\" Apply model in training mode \"\"\"\n",
        "        initial_state = self.encode(inp)\n",
        "        return self.decode(initial_state, out)\n",
        "\n",
        "\n",
        "    def encode(self, inp, **flags):\n",
        "        \"\"\"\n",
        "        Takes symbolic input sequence, computes initial state\n",
        "        :param inp: matrix of input tokens [batch, time]\n",
        "        :returns: initial decoder state tensors, one or many\n",
        "        \"\"\"\n",
        "        inp_emb = self.emb_inp(inp)\n",
        "        batch_size = inp.shape[0]\n",
        "        \n",
        "        enc_seq, [last_state_but_not_really] = self.enc0(inp_emb)\n",
        "        # enc_seq: [batch, time, hid_size], last_state: [batch, hid_size]\n",
        "        \n",
        "        # note: last_state is not _actually_ last because of padding, let's find the real last_state\n",
        "        lengths = (inp != self.inp_voc.eos_ix).to(torch.int64).sum(dim=1).clamp_max(inp.shape[1] - 1)\n",
        "       \n",
        "        last_state = enc_seq[torch.arange(len(enc_seq)), lengths]\n",
        "        # ^-- shape: [batch_size, hid_size]\n",
        "        \n",
        "        \n",
        "        dec_start = self.dec_start(last_state)\n",
        "\n",
        "        return [dec_start]\n",
        "\n",
        "    def decode_step(self, prev_state, prev_tokens, **flags):\n",
        "        \"\"\"\n",
        "        Takes previous decoder state and tokens, returns new state and logits for next tokens\n",
        "        :param prev_state: a list of previous decoder state tensors, same as returned by encode(...)\n",
        "        :param prev_tokens: previous output tokens, an int vector of [batch_size]\n",
        "        :return: a list of next decoder state tensors, a tensor of logits [batch, len(out_voc)]\n",
        "        \"\"\"\n",
        "        prev_gru0_state = prev_state[0]\n",
        "        out_emb = self.emb_out(prev_tokens)\n",
        "        new_dec_state = self.dec0(out_emb, prev_gru0_state)\n",
        "        output_logits = self.logits(new_dec_state)\n",
        "        \n",
        "        return [new_dec_state], output_logits\n",
        "\n",
        "    def decode(self, initial_state, out_tokens, **flags):\n",
        "        \"\"\" Iterate over reference tokens (out_tokens) with decode_step \"\"\"\n",
        "        batch_size = out_tokens.shape[0]\n",
        "        state = initial_state\n",
        "        \n",
        "        # initial logits: always predict BOS\n",
        "        onehot_bos = F.one_hot(torch.full([batch_size], self.out_voc.bos_ix, dtype=torch.int64),\n",
        "                               num_classes=len(self.out_voc)).to(device=out_tokens.device)\n",
        "        first_logits = torch.log(onehot_bos.to(torch.float32) + 1e-9)\n",
        "        \n",
        "        logits_sequence = [first_logits]\n",
        "        for i in range(out_tokens.shape[1] - 1):\n",
        "            state, logits = self.decode_step(state, out_tokens[:, i])\n",
        "            logits_sequence.append(logits)\n",
        "        return torch.stack(logits_sequence, dim=1)\n",
        "\n",
        "    def decode_inference(self, initial_state, max_len=100, **flags):\n",
        "        \"\"\" Generate translations from model (greedy version) \"\"\"\n",
        "        batch_size, device = len(initial_state[0]), initial_state[0].device\n",
        "        state = initial_state\n",
        "        outputs = [torch.full([batch_size], self.out_voc.bos_ix, dtype=torch.int64, \n",
        "                              device=device)]\n",
        "        all_states = [initial_state]\n",
        "\n",
        "        for i in range(max_len):\n",
        "            state, logits = self.decode_step(state, outputs[-1])\n",
        "            outputs.append(logits.argmax(dim=-1))\n",
        "            all_states.append(state)\n",
        "        \n",
        "        return torch.stack(outputs, dim=1), all_states\n",
        "\n",
        "    def translate_lines(self, inp_lines, **kwargs):\n",
        "        inp = self.inp_voc.to_matrix(inp_lines).to(device)\n",
        "        initial_state = self.encode(inp)\n",
        "        out_ids, states = self.decode_inference(initial_state, **kwargs)\n",
        "        return self.out_voc.to_lines(out_ids.cpu().numpy()), states\n"
      ],
      "metadata": {
        "id": "wgfN5-F7lrst",
        "execution": {
          "iopub.status.busy": "2023-06-04T09:51:05.946227Z",
          "iopub.execute_input": "2023-06-04T09:51:05.946617Z",
          "iopub.status.idle": "2023-06-04T09:51:05.968280Z",
          "shell.execute_reply.started": "2023-06-04T09:51:05.946561Z",
          "shell.execute_reply": "2023-06-04T09:51:05.967460Z"
        },
        "trusted": true
      },
      "execution_count": 67,
      "outputs": []
    },
    {
      "cell_type": "code",
      "source": [
        "# debugging area\n",
        "model = BasicModel(inp_voc, out_voc).to(device)\n",
        "\n",
        "dummy_inp_tokens = inp_voc.to_matrix(sorted(train_inp, key=len)[5:10]).to(device)\n",
        "dummy_out_tokens = out_voc.to_matrix(sorted(train_out, key=len)[5:10]).to(device)\n",
        "\n",
        "h0 = model.encode(dummy_inp_tokens)\n",
        "h1, logits1 = model.decode_step(h0, torch.arange(len(dummy_inp_tokens), device=device))\n",
        "\n",
        "assert isinstance(h1, list) and len(h1) == len(h0)\n",
        "assert h1[0].shape == h0[0].shape and not torch.allclose(h1[0], h0[0])\n",
        "assert logits1.shape == (len(dummy_inp_tokens), len(out_voc))\n",
        "\n",
        "logits_seq = model.decode(h0, dummy_out_tokens)\n",
        "assert logits_seq.shape == (dummy_out_tokens.shape[0], dummy_out_tokens.shape[1], len(out_voc))\n",
        "\n",
        "# full forward\n",
        "logits_seq2 = model(dummy_inp_tokens, dummy_out_tokens)\n",
        "assert logits_seq2.shape == logits_seq.shape"
      ],
      "metadata": {
        "execution": {
          "iopub.status.busy": "2023-06-04T09:51:05.972311Z",
          "iopub.execute_input": "2023-06-04T09:51:05.972646Z",
          "iopub.status.idle": "2023-06-04T09:51:16.230112Z",
          "shell.execute_reply.started": "2023-06-04T09:51:05.972619Z",
          "shell.execute_reply": "2023-06-04T09:51:16.229126Z"
        },
        "trusted": true,
        "id": "k-1PIJ2IMPSQ"
      },
      "execution_count": 68,
      "outputs": []
    },
    {
      "cell_type": "code",
      "source": [
        "dummy_translations, dummy_states = model.translate_lines(train_inp[:3], max_len=25)\n",
        "print(\"Translations without training:\")\n",
        "print('\\n'.join([line for line in dummy_translations]))"
      ],
      "metadata": {
        "execution": {
          "iopub.status.busy": "2023-06-04T09:51:16.231436Z",
          "iopub.execute_input": "2023-06-04T09:51:16.231792Z",
          "iopub.status.idle": "2023-06-04T09:51:16.252504Z",
          "shell.execute_reply.started": "2023-06-04T09:51:16.231759Z",
          "shell.execute_reply": "2023-06-04T09:51:16.251516Z"
        },
        "trusted": true,
        "id": "DgWrK2ZYMPSQ",
        "outputId": "c3c5e830-55c3-40c4-f134-f57195508d60"
      },
      "execution_count": null,
      "outputs": [
        {
          "name": "stdout",
          "text": "Translations without training:\n63 uger mel@@ rock@@ ne abdul condomini@@ wonder@@ gage cap reserved á ese ese girona shops loungers immedi@@ elos village summertime dü@@ sailing than@@ ails\nesh@@ á jun@@ uger lanzarote hot@@ zi ross@@ lana having hand metres bali prac@@ à@@ than@@ syd@@ atory exerc@@ heat@@ lodge brid@@ otel cia bing\nsacré cali@@ ik aarhus zin@@ ass tle lift paved champag@@ chicago cavtat í@@ cino ene rong gren evo nikola@@ botanical ge hn@@ õ@@ civic eval\n",
          "output_type": "stream"
        }
      ]
    },
    {
      "cell_type": "markdown",
      "source": [
        "### Training loss (2 points)\n",
        "\n",
        "Our training objective is almost the same as it was for neural language models:\n",
        "$$ L = {\\frac1{|D|}} \\sum_{X, Y \\in D} \\sum_{y_t \\in Y} - \\log p(y_t \\mid y_1, \\dots, y_{t-1}, X, \\theta) $$\n",
        "\n",
        "where $|D|$ is the __total length of all sequences__, including BOS and first EOS, but excluding PAD."
      ],
      "metadata": {
        "id": "_wuv1-aVlrs0"
      }
    },
    {
      "cell_type": "code",
      "source": [
        "\n",
        "def compute_loss(model, inp, out, **flags):\n",
        "    \"\"\"\n",
        "    Compute loss (float32 scalar) as in the formula above\n",
        "    :param inp: input tokens matrix, int32[batch, time]\n",
        "    :param out: reference tokens matrix, int32[batch, time]\n",
        "    \n",
        "    In order to pass the tests, your function should\n",
        "    * include loss at first EOS but not the subsequent ones\n",
        "    * divide sum of losses by a sum of input lengths (use voc.compute_mask)\n",
        "    \"\"\"\n",
        "    mask = model.out_voc.compute_mask(out) # [batch_size, out_len]\n",
        "    targets_1hot = F.one_hot(out, len(model.out_voc)).to(torch.float32)\n",
        "    \n",
        "    # outputs of the model, [batch_size, out_len, num_tokens]\n",
        "    logits_seq = model(inp, out)\n",
        "    \n",
        "    \n",
        "    log_softmax =  nn.LogSoftmax(dim=2)\n",
        "\n",
        "    # log-probabilities of all tokens at all steps, [batch_size, out_len, num_tokens]\n",
        "    logprobs_seq = (-1) * log_softmax(logits_seq)\n",
        "    \n",
        "   \n",
        "    # log-probabilities of correct outputs, [batch_size, out_len]\n",
        "    logp_out = (logprobs_seq * targets_1hot).sum(dim=-1)\n",
        "    # ^-- this will select the probability of the actual next token.\n",
        "    # Note: you can compute loss more efficiently using using F.cross_entropy\n",
        "    \n",
        "    loss = (logp_out * mask).sum() / mask.sum()\n",
        "\n",
        "    # average cross-entropy over tokens where mask == True\n",
        "    return loss # average loss, scalar"
      ],
      "metadata": {
        "id": "c8XPV8sWlrs5",
        "scrolled": true,
        "execution": {
          "iopub.status.busy": "2023-06-04T09:51:16.255079Z",
          "iopub.execute_input": "2023-06-04T09:51:16.256190Z",
          "iopub.status.idle": "2023-06-04T09:51:16.263741Z",
          "shell.execute_reply.started": "2023-06-04T09:51:16.256153Z",
          "shell.execute_reply": "2023-06-04T09:51:16.262919Z"
        },
        "trusted": true
      },
      "execution_count": 14,
      "outputs": []
    },
    {
      "cell_type": "code",
      "source": [
        "dummy_loss = compute_loss(model, dummy_inp_tokens, dummy_out_tokens)\n",
        "print(\"Loss:\", dummy_loss)\n",
        "assert np.allclose(dummy_loss.item(), 7.5, rtol=0.1, atol=0.1), \"We're sorry for your loss\"\n",
        "\n",
        "# test autograd\n",
        "dummy_loss.backward()\n",
        "for name, param in model.named_parameters():\n",
        "    assert param.grad is not None and abs(param.grad.max()) != 0, f\"Param {name} received no gradients\""
      ],
      "metadata": {
        "colab": {
          "base_uri": "https://localhost:8080/"
        },
        "id": "ME_LWUeklrs7",
        "execution": {
          "iopub.status.busy": "2023-06-04T09:51:16.265254Z",
          "iopub.execute_input": "2023-06-04T09:51:16.265903Z",
          "iopub.status.idle": "2023-06-04T09:51:16.921307Z",
          "shell.execute_reply.started": "2023-06-04T09:51:16.265867Z",
          "shell.execute_reply": "2023-06-04T09:51:16.920056Z"
        },
        "trusted": true,
        "outputId": "98723dc7-0036-4844-a87e-bf1450814774"
      },
      "execution_count": 13,
      "outputs": [
        {
          "output_type": "stream",
          "name": "stdout",
          "text": [
            "Loss: tensor(7.5156, device='cuda:0', grad_fn=<DivBackward0>)\n"
          ]
        }
      ]
    },
    {
      "cell_type": "markdown",
      "source": [
        "### Evaluation: BLEU\n",
        "\n",
        "Machine translation is commonly evaluated with [BLEU](https://en.wikipedia.org/wiki/BLEU) score. This metric simply computes which fraction of predicted n-grams is actually present in the reference translation. It does so for n=1,2,3 and 4 and computes the geometric average with penalty if translation is shorter than reference.\n",
        "\n",
        "While BLEU [has many drawbacks](http://www.cs.jhu.edu/~ccb/publications/re-evaluating-the-role-of-bleu-in-mt-research.pdf), it still remains the most commonly used metric and one of the simplest to compute."
      ],
      "metadata": {
        "id": "HpbaBpW7lrs-"
      }
    },
    {
      "cell_type": "code",
      "source": [
        "from nltk.translate.bleu_score import corpus_bleu\n",
        "def compute_bleu(model, inp_lines, out_lines, bpe_sep='@@ ', **flags):\n",
        "    \"\"\"\n",
        "    Estimates corpora-level BLEU score of model's translations given inp and reference out\n",
        "    Note: if you're serious about reporting your results, use https://pypi.org/project/sacrebleu\n",
        "    \"\"\"\n",
        "    with torch.no_grad():\n",
        "        translations, _ = model.translate_lines(inp_lines, **flags)\n",
        "        translations = [line.replace(bpe_sep, '') for line in translations]\n",
        "        actual = [line.replace(bpe_sep, '') for line in out_lines]\n",
        "        return corpus_bleu(\n",
        "            [[ref.split()] for ref in actual],\n",
        "            [trans.split() for trans in translations],\n",
        "            smoothing_function=lambda precisions, **kw: [p + 1.0 / p.denominator for p in precisions]\n",
        "            ) * 100"
      ],
      "metadata": {
        "id": "Gb1-PhKIlrs-",
        "execution": {
          "iopub.status.busy": "2023-06-04T09:51:16.922815Z",
          "iopub.execute_input": "2023-06-04T09:51:16.923225Z",
          "iopub.status.idle": "2023-06-04T09:51:16.932246Z",
          "shell.execute_reply.started": "2023-06-04T09:51:16.923184Z",
          "shell.execute_reply": "2023-06-04T09:51:16.931176Z"
        },
        "trusted": true
      },
      "execution_count": 15,
      "outputs": []
    },
    {
      "cell_type": "code",
      "source": [
        "compute_bleu(model, dev_inp, dev_out)"
      ],
      "metadata": {
        "colab": {
          "base_uri": "https://localhost:8080/"
        },
        "id": "gZvfid1RlrtA",
        "execution": {
          "iopub.status.busy": "2023-06-04T09:51:16.934162Z",
          "iopub.execute_input": "2023-06-04T09:51:16.934897Z",
          "iopub.status.idle": "2023-06-04T09:51:19.554212Z",
          "shell.execute_reply.started": "2023-06-04T09:51:16.934862Z",
          "shell.execute_reply": "2023-06-04T09:51:19.553184Z"
        },
        "trusted": true,
        "outputId": "078bde8b-6de8-4f47-86fa-75be812fcf7b"
      },
      "execution_count": 15,
      "outputs": [
        {
          "output_type": "execute_result",
          "data": {
            "text/plain": [
              "0.0019345697519422042"
            ]
          },
          "metadata": {},
          "execution_count": 15
        }
      ]
    },
    {
      "cell_type": "markdown",
      "source": [
        "### Training loop\n",
        "\n",
        "Training encoder-decoder models isn't that different from any other models: sample batches, compute loss, backprop and update"
      ],
      "metadata": {
        "id": "nQDhGwg4lrtC"
      }
    },
    {
      "cell_type": "code",
      "source": [],
      "metadata": {
        "id": "yfwIaixHlrtI",
        "execution": {
          "iopub.status.busy": "2023-05-31T20:20:21.996333Z",
          "iopub.execute_input": "2023-05-31T20:20:21.997461Z",
          "iopub.status.idle": "2023-05-31T20:20:22.024493Z",
          "shell.execute_reply.started": "2023-05-31T20:20:21.997418Z",
          "shell.execute_reply": "2023-05-31T20:20:22.023615Z"
        },
        "trusted": true
      },
      "execution_count": null,
      "outputs": []
    },
    {
      "cell_type": "code",
      "source": [
        "def train_model(model, n_steps=25000, batch_size=32):\n",
        "    metrics = {'train_loss': [], 'dev_bleu': [] }\n",
        "    opt = torch.optim.Adam(model.parameters(), lr=1e-3)\n",
        "    for _ in trange(n_steps):\n",
        "        step = len(metrics['train_loss']) + 1\n",
        "        batch_ix = np.random.randint(len(train_inp), size=batch_size)\n",
        "        batch_inp = inp_voc.to_matrix(train_inp[batch_ix]).to(device)\n",
        "        batch_out = out_voc.to_matrix(train_out[batch_ix]).to(device)\n",
        "    \n",
        "        opt.zero_grad()\n",
        "        loss_t = compute_loss(model, batch_inp, batch_out)\n",
        "        loss_t.backward()\n",
        "        opt.step()\n",
        "    \n",
        "        metrics['train_loss'].append((step, loss_t.item()))\n",
        "    \n",
        "        if step % 100 == 0:\n",
        "            metrics['dev_bleu'].append((step, compute_bleu(model, dev_inp, dev_out)))\n",
        "        \n",
        "            clear_output(True)\n",
        "            plt.figure(figsize=(12,4))\n",
        "            for i, (name, history) in enumerate(sorted(metrics.items())):\n",
        "                plt.subplot(1, len(metrics), i + 1)\n",
        "                plt.title(name)\n",
        "                plt.plot(*zip(*history))\n",
        "                plt.grid()\n",
        "            plt.show()\n",
        "            print(\"Mean loss=%.3f\" % np.mean(metrics['train_loss'][-10:], axis=0)[1], flush=True)\n",
        "    return metrics\n",
        "    \n",
        "    "
      ],
      "metadata": {
        "execution": {
          "iopub.status.busy": "2023-06-04T10:15:46.464171Z",
          "iopub.execute_input": "2023-06-04T10:15:46.465031Z",
          "iopub.status.idle": "2023-06-04T10:15:46.477523Z",
          "shell.execute_reply.started": "2023-06-04T10:15:46.464985Z",
          "shell.execute_reply": "2023-06-04T10:15:46.476513Z"
        },
        "trusted": true,
        "id": "_Xl84RlaMPSS"
      },
      "execution_count": 16,
      "outputs": []
    },
    {
      "cell_type": "code",
      "source": [
        "model = BasicModel(inp_voc, out_voc).to(device)\n",
        "metrics = train_model(model)"
      ],
      "metadata": {
        "id": "LlDT6eDUlrtL",
        "execution": {
          "iopub.status.busy": "2023-06-04T10:16:25.858695Z",
          "iopub.execute_input": "2023-06-04T10:16:25.859163Z",
          "iopub.status.idle": "2023-06-04T10:36:23.554605Z",
          "shell.execute_reply.started": "2023-06-04T10:16:25.859109Z",
          "shell.execute_reply": "2023-06-04T10:36:23.553524Z"
        },
        "trusted": true,
        "outputId": "f614e913-832e-4652-ab59-c2054c549e60"
      },
      "execution_count": null,
      "outputs": [
        {
          "output_type": "display_data",
          "data": {
            "text/plain": "<Figure size 1200x400 with 2 Axes>",
            "image/png": "[encoded data removed]"
          },
          "metadata": {}
        },
        {
          "name": "stdout",
          "text": "Mean loss=1.710\n",
          "output_type": "stream"
        },
        {
          "name": "stderr",
          "text": "100%|██████████| 25000/25000 [19:57<00:00, 20.87it/s]\n",
          "output_type": "stream"
        }
      ]
    },
    {
      "cell_type": "code",
      "source": [
        "assert np.mean(metrics['dev_bleu'][-10:], axis=0)[1] > 15, \"We kind of need a higher bleu BLEU from you. Kind of right now.\""
      ],
      "metadata": {
        "id": "2ahuhKVhlrtP",
        "execution": {
          "iopub.status.busy": "2023-06-04T10:37:39.633345Z",
          "iopub.execute_input": "2023-06-04T10:37:39.633749Z",
          "iopub.status.idle": "2023-06-04T10:37:39.639305Z",
          "shell.execute_reply.started": "2023-06-04T10:37:39.633717Z",
          "shell.execute_reply": "2023-06-04T10:37:39.638118Z"
        },
        "trusted": true
      },
      "execution_count": null,
      "outputs": []
    },
    {
      "cell_type": "markdown",
      "source": [
        "### Final BLEU of the simple model"
      ],
      "metadata": {
        "id": "bzvREAR-MPSS"
      }
    },
    {
      "cell_type": "code",
      "source": [
        "compute_bleu(model, dev_inp, dev_out)"
      ],
      "metadata": {
        "execution": {
          "iopub.status.busy": "2023-06-04T10:37:43.168648Z",
          "iopub.execute_input": "2023-06-04T10:37:43.169823Z",
          "iopub.status.idle": "2023-06-04T10:37:44.180062Z",
          "shell.execute_reply.started": "2023-06-04T10:37:43.169783Z",
          "shell.execute_reply": "2023-06-04T10:37:44.178893Z"
        },
        "trusted": true,
        "id": "F4N_2INFMPST",
        "outputId": "e4552523-067a-4422-af13-e88ca3bb0258"
      },
      "execution_count": null,
      "outputs": [
        {
          "execution_count": 26,
          "output_type": "execute_result",
          "data": {
            "text/plain": "17.81643237010111"
          },
          "metadata": {}
        }
      ]
    },
    {
      "cell_type": "code",
      "source": [
        "for inp_line, trans_line in zip(dev_inp[::500], model.translate_lines(dev_inp[::500])[0]):\n",
        "    print(inp_line)\n",
        "    print(trans_line)\n",
        "    print()"
      ],
      "metadata": {
        "id": "KyaHOpealrtS",
        "execution": {
          "iopub.status.busy": "2023-06-04T10:37:45.559156Z",
          "iopub.execute_input": "2023-06-04T10:37:45.559596Z",
          "iopub.status.idle": "2023-06-04T10:37:45.598334Z",
          "shell.execute_reply.started": "2023-06-04T10:37:45.559564Z",
          "shell.execute_reply": "2023-06-04T10:37:45.597260Z"
        },
        "trusted": true,
        "outputId": "b8bbd401-d495-4a56-f15c-92dc0dd7b5bb"
      },
      "execution_count": null,
      "outputs": [
        {
          "name": "stdout",
          "text": "в распоряжении гостей общая кухня и общая гостиная .\nthere is a shared kitchen and a shared kitchen .\n\nкроме того , предоставляется прокат велосипедов , услуги трансфера и бесплатная парковка .\na free shuttle service and a shuttle service can be arranged for free .\n\nрасстояние до города ки@@ сси@@ м@@ ми составляет 26 км .\nthe hinter@@ tu@@ x train station is 26 km away .\n\nапартаменты в пент@@ хаусе с общим открытым бассейном , садом , кондиционером и террасой для загара расположены в 5 минутах ходьбы от пляжа на курорте ка@@ бо - рой .\nlocated a 5 - minute walk from the beach , villa and@@ aman beach offers air - conditioned accommodation with a balcony . the property is equipped with a children ’ s playground and a terrace .\n\nапартаменты mo@@ s@@ co@@ w point - loft red square находятся в москве , в 200 метрах от большого театра .\nsuit@@ s intern@@ acional is located 200 metres from the centre of zakopane and 400 metres from diocletian ' s palace .\n\nв вашем распоряжении собственная ванная комната с душем и полотенцами .\nfeaturing a shower , private bathrooms also come with towels .\n\n",
          "output_type": "stream"
        }
      ]
    },
    {
      "cell_type": "markdown",
      "source": [
        "### Your Attention Required\n",
        "\n",
        "In this section we want you to improve over the basic model by implementing a simple attention mechanism.\n",
        "\n",
        "This is gonna be a two-parter: building the __attention layer__ and using it for an __attentive seq2seq model__."
      ],
      "metadata": {
        "id": "edk_oVg0lrtW"
      }
    },
    {
      "cell_type": "markdown",
      "source": [
        "### Attention layer (3 points)\n",
        "\n",
        "Here you will have to implement a layer that computes a simple additive attention:\n",
        "\n",
        "Given encoder sequence $ h^e_0, h^e_1, h^e_2, ..., h^e_T$ and a single decoder state $h^d$,\n",
        "\n",
        "* Compute logits with a 2-layer neural network\n",
        "$$a_t = linear_{out}(tanh(linear_{e}(h^e_t) + linear_{d}(h_d)))$$\n",
        "* Get probabilities from logits, \n",
        "$$ p_t = {{e ^ {a_t}} \\over { \\sum_\\tau e^{a_\\tau} }} $$\n",
        "\n",
        "* Add up encoder states with probabilities to get __attention response__\n",
        "$$ attn = \\sum_t p_t \\cdot h^e_t $$\n",
        "\n",
        "You can learn more about attention layers in the lecture slides or [from this post](https://distill.pub/2016/augmented-rnns/)."
      ],
      "metadata": {
        "id": "Qz9aROAIlrtX"
      }
    },
    {
      "cell_type": "code",
      "source": [
        "class AttentionLayer(nn.Module):\n",
        "    def __init__(self, name, enc_size, dec_size, hid_size, activ=torch.tanh):\n",
        "        \"\"\" A layer that computes additive attention response and weights \"\"\"\n",
        "        super().__init__()\n",
        "        self.name = name\n",
        "        self.enc_size = enc_size # num units in encoder state\n",
        "        self.dec_size = dec_size # num units in decoder state\n",
        "        self.hid_size = hid_size # attention layer hidden units\n",
        "        self.activ = activ       # attention layer hidden nonlinearity\n",
        "        \n",
        "        # create trainable paramteres like this:\n",
        "        self.linear_enc = nn.Parameter(torch.FloatTensor(enc_size, hid_size).uniform_(-np.sqrt(1 / enc_size),  np.sqrt(1 / enc_size)), requires_grad=True)\n",
        "        self.linear_dec = nn.Parameter(torch.FloatTensor(dec_size, hid_size).uniform_(-np.sqrt(1 / dec_size),  np.sqrt(1 / dec_size)), requires_grad=True)\n",
        "        self.linear_out = nn.Parameter(torch.FloatTensor(hid_size, 1).uniform_(-np.sqrt(1 / hid_size),  np.sqrt(1 / hid_size)), requires_grad=True)\n",
        "        \n",
        "        \n",
        "\n",
        "    def forward(self, enc, dec, inp_mask):\n",
        "        \"\"\"\n",
        "        Computes attention response and weights\n",
        "        :param enc: encoder activation sequence, float32[batch_size, ninp, enc_size]\n",
        "        :param dec: single decoder state used as \"query\", float32[batch_size, dec_size]\n",
        "        :param inp_mask: mask on enc activatons (0 after first eos), float32 [batch_size, ninp]\n",
        "        :returns: attn[batch_size, enc_size], probs[batch_size, ninp]\n",
        "            - attn - attention response vector (weighted sum of enc)\n",
        "            - probs - attention weights after softmax\n",
        "        \"\"\"\n",
        "\n",
        "        # Compute logits\n",
        "        dec = dec.reshape(dec.shape[0], 1, dec.shape[1])\n",
        "        \n",
        "        lin_dec = torch.matmul(dec, self.linear_dec)\n",
        "        lin_enc = torch.matmul(enc, self.linear_enc)\n",
        "        \n",
        "        logits = torch.matmul(self.activ(lin_enc + lin_dec), self.linear_out).reshape(dec.shape[0], -1)\n",
        "        \n",
        "        # Apply mask - if mask is 0, logits should be -inf or -1e9\n",
        "        # You may need torch.where\n",
        "        masked_logits = torch.where(inp_mask, logits, -1e9) \n",
        "\n",
        "        # Compute attention probabilities (softmax)\n",
        "        softmax_func = torch.nn.Softmax(dim=1)\n",
        "        probs = softmax_func(masked_logits).reshape(enc.shape[0], enc.shape[1], 1)\n",
        "\n",
        "\n",
        "        # Compute attention response using enc and probs\n",
        "        attn = (enc * probs).sum(dim=1)\n",
        "\n",
        "        return attn, probs"
      ],
      "metadata": {
        "execution": {
          "iopub.status.busy": "2023-06-04T10:37:49.121171Z",
          "iopub.execute_input": "2023-06-04T10:37:49.121626Z",
          "iopub.status.idle": "2023-06-04T10:37:49.142408Z",
          "shell.execute_reply.started": "2023-06-04T10:37:49.121590Z",
          "shell.execute_reply": "2023-06-04T10:37:49.141210Z"
        },
        "trusted": true,
        "id": "eshwHA43MPST"
      },
      "execution_count": 19,
      "outputs": []
    },
    {
      "cell_type": "code",
      "source": [
        "batch_size = 2\n",
        "ninp = 15\n",
        "enc_size = 5\n",
        "dec_size = 3\n",
        "enc = torch.randn(batch_size, ninp, enc_size)\n",
        "dec = torch.randn(batch_size, dec_size)\n",
        "inp_mask = torch.FloatTensor(batch_size, ninp).uniform_() < 0.8"
      ],
      "metadata": {
        "execution": {
          "iopub.status.busy": "2023-06-04T10:37:52.729655Z",
          "iopub.execute_input": "2023-06-04T10:37:52.730005Z",
          "iopub.status.idle": "2023-06-04T10:37:52.742605Z",
          "shell.execute_reply.started": "2023-06-04T10:37:52.729976Z",
          "shell.execute_reply": "2023-06-04T10:37:52.741549Z"
        },
        "trusted": true,
        "id": "iMep_spgMPSU"
      },
      "execution_count": 14,
      "outputs": []
    },
    {
      "cell_type": "code",
      "source": [
        "layer = AttentionLayer('name', enc_size, dec_size, hid_size=200)\n",
        "attn, probs = layer(enc, dec, inp_mask)"
      ],
      "metadata": {
        "execution": {
          "iopub.status.busy": "2023-06-04T10:37:54.952369Z",
          "iopub.execute_input": "2023-06-04T10:37:54.952739Z",
          "iopub.status.idle": "2023-06-04T10:37:55.172439Z",
          "shell.execute_reply.started": "2023-06-04T10:37:54.952709Z",
          "shell.execute_reply": "2023-06-04T10:37:55.171431Z"
        },
        "trusted": true,
        "id": "EzgMZEg3MPSU"
      },
      "execution_count": 15,
      "outputs": []
    },
    {
      "cell_type": "markdown",
      "source": [
        "### Seq2seq model with attention (3 points)\n",
        "\n",
        "You can now use the attention layer to build a network. The simplest way to implement attention is to use it in decoder phase:\n",
        "![img](https://i.imgur.com/6fKHlHb.png)\n",
        "_image from distill.pub [article](https://distill.pub/2016/augmented-rnns/)_\n",
        "\n",
        "On every step, use __previous__ decoder state to obtain attention response. Then feed concat this response to the inputs of next attention layer.\n",
        "\n",
        "The key implementation detail here is __model state__. Put simply, you can add any tensor into the list of `encode` outputs. You will then have access to them at each `decode` step. This may include:\n",
        "* Last RNN hidden states (as in basic model)\n",
        "* The whole sequence of encoder outputs (to attend to) and mask\n",
        "* Attention probabilities (to visualize)\n",
        "\n",
        "_There are, of course, alternative ways to wire attention into your network and different kinds of attention. Take a look at [this](https://arxiv.org/abs/1609.08144), [this](https://arxiv.org/abs/1706.03762) and [this](https://arxiv.org/abs/1808.03867) for ideas. And for image captioning/im2latex there's [visual attention](https://arxiv.org/abs/1502.03044)_"
      ],
      "metadata": {
        "id": "IalfpdAelrtb"
      }
    },
    {
      "cell_type": "code",
      "source": [
        "class AttentiveModel(BasicModel):\n",
        "    def __init__(self, name, inp_voc, out_voc,\n",
        "                 emb_size=64, hid_size=128, attn_size=128):\n",
        "        \"\"\" Translation model that uses attention. See instructions above. \"\"\"\n",
        "        nn.Module.__init__(self)  # initialize base class to track sub-layers, trainable variables, etc.\n",
        "        super().__init__(inp_voc, out_voc)\n",
        "        self.inp_voc, self.out_voc = inp_voc, out_voc\n",
        "        self.hid_size = hid_size\n",
        "        self.attention = AttentionLayer('dec_attention', hid_size, hid_size, hid_size=attn_size)\n",
        "        self.dec_linear = nn.Linear(2 * hid_size, hid_size)\n",
        "        \n",
        "        \n",
        "\n",
        "    def encode(self, inp, **flags):\n",
        "        \"\"\"\n",
        "        Takes symbolic input sequence, computes initial state\n",
        "        :param inp: matrix of input tokens [batch, time]\n",
        "        :return: a list of initial decoder state tensors\n",
        "        \"\"\"\n",
        "        \n",
        "        # encode input sequence, create initial decoder states\n",
        "        inp_emb = self.emb_inp(inp)\n",
        "        batch_size = inp.shape[0]\n",
        "        enc_seq, [last_state_but_not_really] = self.enc0(inp_emb)\n",
        "        lengths = (inp != self.inp_voc.eos_ix).to(torch.int64).sum(dim=1).clamp_max(inp.shape[1] - 1)\n",
        "        last_state = enc_seq[torch.arange(len(enc_seq)), lengths]\n",
        "        dec_start = self.dec_start(last_state)\n",
        "        dec_start_zeroes = torch.zeros_like(dec_start)\n",
        "        \n",
        "        enc_mask = model.inp_voc.compute_mask(inp)\n",
        "        \n",
        "        # apply attention layer from initial decoder hidden state\n",
        "        first_attn_result, first_attn_probas = self.attention(enc_seq, dec_start_zeroes, enc_mask)\n",
        "        \n",
        "        # Build first state: include\n",
        "        # * initial states for decoder recurrent layers\n",
        "        # * encoder sequence and encoder attn mask (for attention)\n",
        "        # * make sure that last state item is attention probabilities tensor\n",
        "        \n",
        "        first_state = [dec_start, first_attn_result, enc_seq, enc_mask, first_attn_probas]\n",
        "        return first_state\n",
        "   \n",
        "    def decode_step(self, prev_state, prev_tokens, **flags):\n",
        "        \"\"\"\n",
        "        Takes previous decoder state and tokens, returns new state and logits for next tokens\n",
        "        :param prev_state: a list of previous decoder state tensors\n",
        "        :param prev_tokens: previous output tokens, an int vector of [batch_size]\n",
        "        :return: a list of next decoder state tensors, a tensor of logits [batch, n_tokens]\n",
        "        \"\"\"\n",
        "        [prev_dec_state, prev_attn_result, enc_seq, enc_mask, prev_attn_probas] = prev_state\n",
        "\n",
        "\n",
        "        prev_plus_attn = self.dec_linear(torch.cat((prev_attn_result, prev_dec_state), dim = 1))\n",
        "        \n",
        "        new_dec_state, output_logits = super().decode_step([prev_plus_attn], prev_tokens)\n",
        "        \n",
        "        new_attn_result, new_attn_probas = self.attention(enc_seq, new_dec_state[0], enc_mask)\n",
        "        \n",
        "        full_state = [new_dec_state[0], new_attn_result, enc_seq, enc_mask, new_attn_probas]\n",
        "        return [full_state, output_logits]\n"
      ],
      "metadata": {
        "id": "NCKPB5JmcE6j",
        "execution": {
          "iopub.status.busy": "2023-06-04T10:37:59.433249Z",
          "iopub.execute_input": "2023-06-04T10:37:59.434010Z",
          "iopub.status.idle": "2023-06-04T10:37:59.446547Z",
          "shell.execute_reply.started": "2023-06-04T10:37:59.433976Z",
          "shell.execute_reply": "2023-06-04T10:37:59.445640Z"
        },
        "trusted": true
      },
      "execution_count": 13,
      "outputs": []
    },
    {
      "cell_type": "code",
      "source": [
        "# debugging area\n",
        "model = AttentiveModel('attentive_model',inp_voc, out_voc).to(device)\n",
        "\n",
        "dummy_inp_tokens = inp_voc.to_matrix(sorted(train_inp, key=len)[5:10]).to(device)\n",
        "dummy_out_tokens = out_voc.to_matrix(sorted(train_out, key=len)[5:10]).to(device)\n",
        "\n",
        "h0 = model.encode(dummy_inp_tokens)\n",
        "h1, logits1 = model.decode_step(h0, torch.arange(len(dummy_inp_tokens), device=device))\n",
        "\n",
        "\n",
        "logits_seq = model.decode(h0, dummy_out_tokens)\n",
        "assert logits_seq.shape == (dummy_out_tokens.shape[0], dummy_out_tokens.shape[1], len(out_voc))\n",
        "\n",
        "# # full forward\n",
        "logits_seq2 = model(dummy_inp_tokens, dummy_out_tokens)\n",
        "assert logits_seq2.shape == logits_seq.shape"
      ],
      "metadata": {
        "execution": {
          "iopub.status.busy": "2023-06-04T10:38:02.876285Z",
          "iopub.execute_input": "2023-06-04T10:38:02.876677Z",
          "iopub.status.idle": "2023-06-04T10:38:03.143254Z",
          "shell.execute_reply.started": "2023-06-04T10:38:02.876646Z",
          "shell.execute_reply": "2023-06-04T10:38:03.142184Z"
        },
        "trusted": true,
        "id": "UYbwT7elMPSU"
      },
      "execution_count": 49,
      "outputs": []
    },
    {
      "cell_type": "markdown",
      "source": [
        "### Training attentive model\n",
        "\n",
        "Please reuse the infrastructure you've built for the regular model. I hope you didn't hard-code anything :)"
      ],
      "metadata": {
        "id": "ryZCOTEslrtf"
      }
    },
    {
      "cell_type": "code",
      "source": [
        "compute_bleu(model, dev_inp, dev_out)"
      ],
      "metadata": {
        "execution": {
          "iopub.status.busy": "2023-06-04T10:38:05.888408Z",
          "iopub.execute_input": "2023-06-04T10:38:05.888780Z",
          "iopub.status.idle": "2023-06-04T10:38:08.416430Z",
          "shell.execute_reply.started": "2023-06-04T10:38:05.888750Z",
          "shell.execute_reply": "2023-06-04T10:38:08.415429Z"
        },
        "trusted": true,
        "colab": {
          "base_uri": "https://localhost:8080/"
        },
        "id": "0Fg-KHfhMPSZ",
        "outputId": "8987f7b6-b3ba-4674-b65b-2e7915cde9b9"
      },
      "execution_count": 18,
      "outputs": [
        {
          "output_type": "execute_result",
          "data": {
            "text/plain": [
              "0.001542099570593098"
            ]
          },
          "metadata": {},
          "execution_count": 18
        }
      ]
    },
    {
      "cell_type": "code",
      "source": [
        "model = AttentiveModel('attentive_model', inp_voc, out_voc).to(device)\n",
        "metrics = train_model(model, n_steps=40000)"
      ],
      "metadata": {
        "execution": {
          "iopub.status.busy": "2023-06-04T10:38:12.139967Z",
          "iopub.execute_input": "2023-06-04T10:38:12.141282Z",
          "iopub.status.idle": "2023-06-04T11:23:20.622329Z",
          "shell.execute_reply.started": "2023-06-04T10:38:12.141245Z",
          "shell.execute_reply": "2023-06-04T11:23:20.621207Z"
        },
        "trusted": true,
        "colab": {
          "base_uri": "https://localhost:8080/",
          "height": 426
        },
        "id": "7qrs6AHWMPSZ",
        "outputId": "ae901794-39c7-482b-e240-803034da2484"
      },
      "execution_count": 19,
      "outputs": [
        {
          "output_type": "display_data",
          "data": {
            "text/plain": [
              "<Figure size 1200x400 with 2 Axes>"
            ],
            "image/png": "[encoded data removed]"
          },
          "metadata": {}
        },
        {
          "output_type": "stream",
          "name": "stdout",
          "text": [
            "Mean loss=1.256\n"
          ]
        },
        {
          "output_type": "stream",
          "name": "stderr",
          "text": [
            "100%|██████████| 40000/40000 [59:13<00:00, 11.26it/s]\n"
          ]
        }
      ]
    },
    {
      "cell_type": "markdown",
      "source": [
        "#### Final BLEU of the Attentive model"
      ],
      "metadata": {
        "id": "zu4Ih8KxMPSa"
      }
    },
    {
      "cell_type": "code",
      "source": [
        "compute_bleu(model, dev_inp, dev_out)"
      ],
      "metadata": {
        "execution": {
          "iopub.status.busy": "2023-06-04T11:24:11.314219Z",
          "iopub.execute_input": "2023-06-04T11:24:11.314647Z",
          "iopub.status.idle": "2023-06-04T11:24:13.566726Z",
          "shell.execute_reply.started": "2023-06-04T11:24:11.314611Z",
          "shell.execute_reply": "2023-06-04T11:24:13.565695Z"
        },
        "trusted": true,
        "colab": {
          "base_uri": "https://localhost:8080/"
        },
        "id": "aoMlVh0WMPSa",
        "outputId": "c16be879-524e-427b-c3fd-8f9482502973"
      },
      "execution_count": 20,
      "outputs": [
        {
          "output_type": "execute_result",
          "data": {
            "text/plain": [
              "24.154669416681447"
            ]
          },
          "metadata": {},
          "execution_count": 20
        }
      ]
    },
    {
      "cell_type": "code",
      "source": [
        "for inp_line, trans_line in zip(dev_inp[::500], model.translate_lines(dev_inp[::500])[0]):\n",
        "    print(inp_line)\n",
        "    print(trans_line)\n",
        "    print()"
      ],
      "metadata": {
        "execution": {
          "iopub.status.busy": "2023-06-04T11:24:15.409978Z",
          "iopub.execute_input": "2023-06-04T11:24:15.410536Z",
          "iopub.status.idle": "2023-06-04T11:24:15.519938Z",
          "shell.execute_reply.started": "2023-06-04T11:24:15.410496Z",
          "shell.execute_reply": "2023-06-04T11:24:15.519025Z"
        },
        "trusted": true,
        "colab": {
          "base_uri": "https://localhost:8080/"
        },
        "id": "QD1epGErMPSa",
        "outputId": "da5a3908-d372-414f-bf8b-1a7b7f600ac2"
      },
      "execution_count": 21,
      "outputs": [
        {
          "output_type": "stream",
          "name": "stdout",
          "text": [
            "в распоряжении гостей общая кухня и общая гостиная .\n",
            "there is a shared kitchen and shared kitchen .\n",
            "\n",
            "кроме того , предоставляется прокат велосипедов , услуги трансфера и бесплатная парковка .\n",
            "bike rental and car rental service , and free parking are available .\n",
            "\n",
            "расстояние до города ки@@ сси@@ м@@ ми составляет 26 км .\n",
            "mal@@ ap@@ ec is 26 km away .\n",
            "\n",
            "апартаменты в пент@@ хаусе с общим открытым бассейном , садом , кондиционером и террасой для загара расположены в 5 минутах ходьбы от пляжа на курорте ка@@ бо - рой .\n",
            "located in the beach in lout@@ raki beach , this apartment features a garden with a garden , a garden with a garden , sun terrace and a sun terrace .\n",
            "\n",
            "апартаменты mo@@ s@@ co@@ w point - loft red square находятся в москве , в 200 метрах от большого театра .\n",
            "located in moscow , this apartment in paris , 200 metres from the nearest beach .\n",
            "\n",
            "в вашем распоряжении собственная ванная комната с душем и полотенцами .\n",
            "featuring a shower , private bathroom also comes with towels .\n",
            "\n"
          ]
        }
      ]
    },
    {
      "cell_type": "markdown",
      "source": [
        "### Visualizing model attention (2 points)\n",
        "\n",
        "After training the attentive translation model, you can check it's sanity by visualizing its attention weights.\n",
        "\n",
        "We provided you with a function that draws attention maps using [`Bokeh`](https://bokeh.pydata.org/en/latest/index.html). Once you managed to produce something better than random noise, please save at least 3 attention maps and __submit them to anytask__ alongside this notebook to get the max grade. Saving bokeh figures as __cell outputs is not enough!__ (TAs can't see saved bokeh figures in anytask). You can save bokeh images as screenshots or using this button:\n",
        "\n",
        "![bokeh_panel](https://github.com/yandexdataschool/nlp_course/raw/2019/resources/bokeh_panel.png)\n",
        "\n",
        "__Note:__ you're not locked into using bokeh. If you prefer a different visualization method, feel free to use that instead of bokeh."
      ],
      "metadata": {
        "id": "3YlQWmD-MPSa"
      }
    },
    {
      "cell_type": "code",
      "source": [
        "import bokeh.plotting as pl\n",
        "import bokeh.models as bm\n",
        "from bokeh.io import output_notebook, show\n",
        "from bokeh.plotting import figure, output_file, save\n",
        "\n",
        "output_notebook()\n",
        "\n",
        "def draw_attention(inp_line, translation, probs):\n",
        "    \"\"\" An intentionally ambiguous function to visualize attention weights \"\"\"\n",
        "    inp_tokens = inp_voc.tokenize(inp_line)\n",
        "    trans_tokens = out_voc.tokenize(translation)\n",
        "    probs = probs[:len(trans_tokens), :len(inp_tokens)]\n",
        "\n",
        "    probs = np.squeeze(probs, axis=2)\n",
        "    \n",
        "    fig = pl.figure(x_range=(0, len(inp_tokens)), y_range=(0, len(trans_tokens)),\n",
        "                    x_axis_type=None, y_axis_type=None, tools=[])\n",
        "    fig.image([probs[::-1]], 0, 0, len(inp_tokens), len(trans_tokens))\n",
        "\n",
        "    fig.add_layout(bm.LinearAxis(axis_label='source tokens'), 'above')\n",
        "    fig.xaxis.ticker = np.arange(len(inp_tokens)) + 0.5\n",
        "    fig.xaxis.major_label_overrides = dict(zip(np.arange(len(inp_tokens)) + 0.5, inp_tokens))\n",
        "    fig.xaxis.major_label_orientation = 45\n",
        "\n",
        "    fig.add_layout(bm.LinearAxis(axis_label='translation tokens'), 'left')\n",
        "    fig.yaxis.ticker = np.arange(len(trans_tokens)) + 0.5\n",
        "    fig.yaxis.major_label_overrides = dict(zip(np.arange(len(trans_tokens)) + 0.5, trans_tokens[::-1]))\n",
        "\n",
        "    show(fig)\n",
        "    "
      ],
      "metadata": {
        "execution": {
          "iopub.status.busy": "2023-06-04T11:33:26.316744Z",
          "iopub.execute_input": "2023-06-04T11:33:26.317131Z",
          "iopub.status.idle": "2023-06-04T11:33:26.338177Z",
          "shell.execute_reply.started": "2023-06-04T11:33:26.317100Z",
          "shell.execute_reply": "2023-06-04T11:33:26.337178Z"
        },
        "trusted": true,
        "id": "va0ZX0thMPSb"
      },
      "execution_count": 22,
      "outputs": []
    },
    {
      "cell_type": "code",
      "source": [
        "inp = dev_inp[::500]\n",
        "\n",
        "trans, states = model.translate_lines(inp)\n",
        "\n",
        "# select attention probs from model state (you may need to change this for your custom model)\n",
        "# attention_probs below must have shape [batch_size, translation_length, input_length], extracted from states\n",
        "# e.g. if attention probs are at the end of each state, use np.stack([state[-1] for state in states], axis=1)\n",
        "attention_probs = np.stack([state[-1].detach().cpu().numpy() for state in states], axis=1)"
      ],
      "metadata": {
        "execution": {
          "iopub.status.busy": "2023-06-04T11:29:14.421348Z",
          "iopub.execute_input": "2023-06-04T11:29:14.421733Z",
          "iopub.status.idle": "2023-06-04T11:29:14.514573Z",
          "shell.execute_reply.started": "2023-06-04T11:29:14.421701Z",
          "shell.execute_reply": "2023-06-04T11:29:14.513665Z"
        },
        "trusted": true,
        "id": "RYcYYjE4MPSb"
      },
      "execution_count": 23,
      "outputs": []
    },
    {
      "cell_type": "code",
      "source": [
        "for i in range(5):\n",
        "    draw_attention(inp[i], trans[i], attention_probs[i])\n",
        "    \n",
        "# Does it look fine already? don't forget to save images for anytask!"
      ],
      "metadata": {
        "execution": {
          "iopub.status.busy": "2023-06-04T11:29:17.376640Z",
          "iopub.execute_input": "2023-06-04T11:29:17.376985Z",
          "iopub.status.idle": "2023-06-04T11:29:17.810982Z",
          "shell.execute_reply.started": "2023-06-04T11:29:17.376955Z",
          "shell.execute_reply": "2023-06-04T11:29:17.809703Z"
        },
        "trusted": true,
        "colab": {
          "base_uri": "https://localhost:8080/",
          "height": 1000
        },
        "id": "3MEwUlQwMPSb",
        "outputId": "3df9b9e5-c3ce-4455-fd56-2cbd397edc4d"
      },
      "execution_count": 24,
      "outputs": [
        {
          "output_type": "display_data",
          "data": {
            "application/javascript": [
              "(function(root) {\n",
              "  function now() {\n",
              "    return new Date();\n",
              "  }\n",
              "\n",
              "  const force = true;\n",
              "\n",
              "  if (typeof root._bokeh_onload_callbacks === \"undefined\" || force === true) {\n",
              "    root._bokeh_onload_callbacks = [];\n",
              "    root._bokeh_is_loading = undefined;\n",
              "  }\n",
              "\n",
              "const JS_MIME_TYPE = 'application/javascript';\n",
              "  const HTML_MIME_TYPE = 'text/html';\n",
              "  const EXEC_MIME_TYPE = 'application/vnd.bokehjs_exec.v0+json';\n",
              "  const CLASS_NAME = 'output_bokeh rendered_html';\n",
              "\n",
              "  /**\n",
              "   * Render data to the DOM node\n",
              "   */\n",
              "  function render(props, node) {\n",
              "    const script = document.createElement(\"script\");\n",
              "    node.appendChild(script);\n",
              "  }\n",
              "\n",
              "  /**\n",
              "   * Handle when an output is cleared or removed\n",
              "   */\n",
              "  function handleClearOutput(event, handle) {\n",
              "    const cell = handle.cell;\n",
              "\n",
              "    const id = cell.output_area._bokeh_element_id;\n",
              "    const server_id = cell.output_area._bokeh_server_id;\n",
              "    // Clean up Bokeh references\n",
              "    if (id != null && id in Bokeh.index) {\n",
              "      Bokeh.index[id].model.document.clear();\n",
              "      delete Bokeh.index[id];\n",
              "    }\n",
              "\n",
              "    if (server_id !== undefined) {\n",
              "      // Clean up Bokeh references\n",
              "      const cmd_clean = \"from bokeh.io.state import curstate; print(curstate().uuid_to_server['\" + server_id + \"'].get_sessions()[0].document.roots[0]._id)\";\n",
              "      cell.notebook.kernel.execute(cmd_clean, {\n",
              "        iopub: {\n",
              "          output: function(msg) {\n",
              "            const id = msg.content.text.trim();\n",
              "            if (id in Bokeh.index) {\n",
              "              Bokeh.index[id].model.document.clear();\n",
              "              delete Bokeh.index[id];\n",
              "            }\n",
              "          }\n",
              "        }\n",
              "      });\n",
              "      // Destroy server and session\n",
              "      const cmd_destroy = \"import bokeh.io.notebook as ion; ion.destroy_server('\" + server_id + \"')\";\n",
              "      cell.notebook.kernel.execute(cmd_destroy);\n",
              "    }\n",
              "  }\n",
              "\n",
              "  /**\n",
              "   * Handle when a new output is added\n",
              "   */\n",
              "  function handleAddOutput(event, handle) {\n",
              "    const output_area = handle.output_area;\n",
              "    const output = handle.output;\n",
              "\n",
              "    // limit handleAddOutput to display_data with EXEC_MIME_TYPE content only\n",
              "    if ((output.output_type != \"display_data\") || (!Object.prototype.hasOwnProperty.call(output.data, EXEC_MIME_TYPE))) {\n",
              "      return\n",
              "    }\n",
              "\n",
              "    const toinsert = output_area.element.find(\".\" + CLASS_NAME.split(' ')[0]);\n",
              "\n",
              "    if (output.metadata[EXEC_MIME_TYPE][\"id\"] !== undefined) {\n",
              "      toinsert[toinsert.length - 1].firstChild.textContent = output.data[JS_MIME_TYPE];\n",
              "      // store reference to embed id on output_area\n",
              "      output_area._bokeh_element_id = output.metadata[EXEC_MIME_TYPE][\"id\"];\n",
              "    }\n",
              "    if (output.metadata[EXEC_MIME_TYPE][\"server_id\"] !== undefined) {\n",
              "      const bk_div = document.createElement(\"div\");\n",
              "      bk_div.innerHTML = output.data[HTML_MIME_TYPE];\n",
              "      const script_attrs = bk_div.children[0].attributes;\n",
              "      for (let i = 0; i < script_attrs.length; i++) {\n",
              "        toinsert[toinsert.length - 1].firstChild.setAttribute(script_attrs[i].name, script_attrs[i].value);\n",
              "        toinsert[toinsert.length - 1].firstChild.textContent = bk_div.children[0].textContent\n",
              "      }\n",
              "      // store reference to server id on output_area\n",
              "      output_area._bokeh_server_id = output.metadata[EXEC_MIME_TYPE][\"server_id\"];\n",
              "    }\n",
              "  }\n",
              "\n",
              "  function register_renderer(events, OutputArea) {\n",
              "\n",
              "    function append_mime(data, metadata, element) {\n",
              "      // create a DOM node to render to\n",
              "      const toinsert = this.create_output_subarea(\n",
              "        metadata,\n",
              "        CLASS_NAME,\n",
              "        EXEC_MIME_TYPE\n",
              "      );\n",
              "      this.keyboard_manager.register_events(toinsert);\n",
              "      // Render to node\n",
              "      const props = {data: data, metadata: metadata[EXEC_MIME_TYPE]};\n",
              "      render(props, toinsert[toinsert.length - 1]);\n",
              "      element.append(toinsert);\n",
              "      return toinsert\n",
              "    }\n",
              "\n",
              "    /* Handle when an output is cleared or removed */\n",
              "    events.on('clear_output.CodeCell', handleClearOutput);\n",
              "    events.on('delete.Cell', handleClearOutput);\n",
              "\n",
              "    /* Handle when a new output is added */\n",
              "    events.on('output_added.OutputArea', handleAddOutput);\n",
              "\n",
              "    /**\n",
              "     * Register the mime type and append_mime function with output_area\n",
              "     */\n",
              "    OutputArea.prototype.register_mime_type(EXEC_MIME_TYPE, append_mime, {\n",
              "      /* Is output safe? */\n",
              "      safe: true,\n",
              "      /* Index of renderer in `output_area.display_order` */\n",
              "      index: 0\n",
              "    });\n",
              "  }\n",
              "\n",
              "  // register the mime type if in Jupyter Notebook environment and previously unregistered\n",
              "  if (root.Jupyter !== undefined) {\n",
              "    const events = require('base/js/events');\n",
              "    const OutputArea = require('notebook/js/outputarea').OutputArea;\n",
              "\n",
              "    if (OutputArea.prototype.mime_types().indexOf(EXEC_MIME_TYPE) == -1) {\n",
              "      register_renderer(events, OutputArea);\n",
              "    }\n",
              "  }\n",
              "  if (typeof (root._bokeh_timeout) === \"undefined\" || force === true) {\n",
              "    root._bokeh_timeout = Date.now() + 5000;\n",
              "    root._bokeh_failed_load = false;\n",
              "  }\n",
              "\n",
              "  const NB_LOAD_WARNING = {'data': {'text/html':\n",
              "     \"<div style='background-color: #fdd'>\\n\"+\n",
              "     \"<p>\\n\"+\n",
              "     \"BokehJS does not appear to have successfully loaded. If loading BokehJS from CDN, this \\n\"+\n",
              "     \"may be due to a slow or bad network connection. Possible fixes:\\n\"+\n",
              "     \"</p>\\n\"+\n",
              "     \"<ul>\\n\"+\n",
              "     \"<li>re-rerun `output_notebook()` to attempt to load from CDN again, or</li>\\n\"+\n",
              "     \"<li>use INLINE resources instead, as so:</li>\\n\"+\n",
              "     \"</ul>\\n\"+\n",
              "     \"<code>\\n\"+\n",
              "     \"from bokeh.resources import INLINE\\n\"+\n",
              "     \"output_notebook(resources=INLINE)\\n\"+\n",
              "     \"</code>\\n\"+\n",
              "     \"</div>\"}};\n",
              "\n",
              "  function display_loaded() {\n",
              "    const el = document.getElementById(null);\n",
              "    if (el != null) {\n",
              "      el.textContent = \"BokehJS is loading...\";\n",
              "    }\n",
              "    if (root.Bokeh !== undefined) {\n",
              "      if (el != null) {\n",
              "        el.textContent = \"BokehJS \" + root.Bokeh.version + \" successfully loaded.\";\n",
              "      }\n",
              "    } else if (Date.now() < root._bokeh_timeout) {\n",
              "      setTimeout(display_loaded, 100)\n",
              "    }\n",
              "  }\n",
              "\n",
              "  function run_callbacks() {\n",
              "    try {\n",
              "      root._bokeh_onload_callbacks.forEach(function(callback) {\n",
              "        if (callback != null)\n",
              "          callback();\n",
              "      });\n",
              "    } finally {\n",
              "      delete root._bokeh_onload_callbacks\n",
              "    }\n",
              "    console.debug(\"Bokeh: all callbacks have finished\");\n",
              "  }\n",
              "\n",
              "  function load_libs(css_urls, js_urls, callback) {\n",
              "    if (css_urls == null) css_urls = [];\n",
              "    if (js_urls == null) js_urls = [];\n",
              "\n",
              "    root._bokeh_onload_callbacks.push(callback);\n",
              "    if (root._bokeh_is_loading > 0) {\n",
              "      console.debug(\"Bokeh: BokehJS is being loaded, scheduling callback at\", now());\n",
              "      return null;\n",
              "    }\n",
              "    if (js_urls == null || js_urls.length === 0) {\n",
              "      run_callbacks();\n",
              "      return null;\n",
              "    }\n",
              "    console.debug(\"Bokeh: BokehJS not loaded, scheduling load and callback at\", now());\n",
              "    root._bokeh_is_loading = css_urls.length + js_urls.length;\n",
              "\n",
              "    function on_load() {\n",
              "      root._bokeh_is_loading--;\n",
              "      if (root._bokeh_is_loading === 0) {\n",
              "        console.debug(\"Bokeh: all BokehJS libraries/stylesheets loaded\");\n",
              "        run_callbacks()\n",
              "      }\n",
              "    }\n",
              "\n",
              "    function on_error(url) {\n",
              "      console.error(\"failed to load \" + url);\n",
              "    }\n",
              "\n",
              "    for (let i = 0; i < css_urls.length; i++) {\n",
              "      const url = css_urls[i];\n",
              "      const element = document.createElement(\"link\");\n",
              "      element.onload = on_load;\n",
              "      element.onerror = on_error.bind(null, url);\n",
              "      element.rel = \"stylesheet\";\n",
              "      element.type = \"text/css\";\n",
              "      element.href = url;\n",
              "      console.debug(\"Bokeh: injecting link tag for BokehJS stylesheet: \", url);\n",
              "      document.body.appendChild(element);\n",
              "    }\n",
              "\n",
              "    for (let i = 0; i < js_urls.length; i++) {\n",
              "      const url = js_urls[i];\n",
              "      const element = document.createElement('script');\n",
              "      element.onload = on_load;\n",
              "      element.onerror = on_error.bind(null, url);\n",
              "      element.async = false;\n",
              "      element.src = url;\n",
              "      console.debug(\"Bokeh: injecting script tag for BokehJS library: \", url);\n",
              "      document.head.appendChild(element);\n",
              "    }\n",
              "  };\n",
              "\n",
              "  function inject_raw_css(css) {\n",
              "    const element = document.createElement(\"style\");\n",
              "    element.appendChild(document.createTextNode(css));\n",
              "    document.body.appendChild(element);\n",
              "  }\n",
              "\n",
              "  const js_urls = [\"https://cdn.bokeh.org/bokeh/release/bokeh-2.4.3.min.js\", \"https://cdn.bokeh.org/bokeh/release/bokeh-gl-2.4.3.min.js\", \"https://cdn.bokeh.org/bokeh/release/bokeh-widgets-2.4.3.min.js\", \"https://cdn.bokeh.org/bokeh/release/bokeh-tables-2.4.3.min.js\", \"https://cdn.bokeh.org/bokeh/release/bokeh-mathjax-2.4.3.min.js\"];\n",
              "  const css_urls = [];\n",
              "\n",
              "  const inline_js = [    function(Bokeh) {\n",
              "      Bokeh.set_log_level(\"info\");\n",
              "    },\n",
              "function(Bokeh) {\n",
              "    }\n",
              "  ];\n",
              "\n",
              "  function run_inline_js() {\n",
              "    if (root.Bokeh !== undefined || force === true) {\n",
              "          for (let i = 0; i < inline_js.length; i++) {\n",
              "      inline_js[i].call(root, root.Bokeh);\n",
              "    }\n",
              "} else if (Date.now() < root._bokeh_timeout) {\n",
              "      setTimeout(run_inline_js, 100);\n",
              "    } else if (!root._bokeh_failed_load) {\n",
              "      console.log(\"Bokeh: BokehJS failed to load within specified timeout.\");\n",
              "      root._bokeh_failed_load = true;\n",
              "    } else if (force !== true) {\n",
              "      const cell = $(document.getElementById(null)).parents('.cell').data().cell;\n",
              "      cell.output_area.append_execute_result(NB_LOAD_WARNING)\n",
              "    }\n",
              "  }\n",
              "\n",
              "  if (root._bokeh_is_loading === 0) {\n",
              "    console.debug(\"Bokeh: BokehJS loaded, going straight to plotting\");\n",
              "    run_inline_js();\n",
              "  } else {\n",
              "    load_libs(css_urls, js_urls, function() {\n",
              "      console.debug(\"Bokeh: BokehJS plotting callback run at\", now());\n",
              "      run_inline_js();\n",
              "    });\n",
              "  }\n",
              "}(window));"
            ],
            "application/vnd.bokehjs_load.v0+json": "(function(root) {\n  function now() {\n    return new Date();\n  }\n\n  const force = true;\n\n  if (typeof root._bokeh_onload_callbacks === \"undefined\" || force === true) {\n    root._bokeh_onload_callbacks = [];\n    root._bokeh_is_loading = undefined;\n  }\n\n\n  if (typeof (root._bokeh_timeout) === \"undefined\" || force === true) {\n    root._bokeh_timeout = Date.now() + 5000;\n    root._bokeh_failed_load = false;\n  }\n\n  const NB_LOAD_WARNING = {'data': {'text/html':\n     \"<div style='background-color: #fdd'>\\n\"+\n     \"<p>\\n\"+\n     \"BokehJS does not appear to have successfully loaded. If loading BokehJS from CDN, this \\n\"+\n     \"may be due to a slow or bad network connection. Possible fixes:\\n\"+\n     \"</p>\\n\"+\n     \"<ul>\\n\"+\n     \"<li>re-rerun `output_notebook()` to attempt to load from CDN again, or</li>\\n\"+\n     \"<li>use INLINE resources instead, as so:</li>\\n\"+\n     \"</ul>\\n\"+\n     \"<code>\\n\"+\n     \"from bokeh.resources import INLINE\\n\"+\n     \"output_notebook(resources=INLINE)\\n\"+\n     \"</code>\\n\"+\n     \"</div>\"}};\n\n  function display_loaded() {\n    const el = document.getElementById(null);\n    if (el != null) {\n      el.textContent = \"BokehJS is loading...\";\n    }\n    if (root.Bokeh !== undefined) {\n      if (el != null) {\n        el.textContent = \"BokehJS \" + root.Bokeh.version + \" successfully loaded.\";\n      }\n    } else if (Date.now() < root._bokeh_timeout) {\n      setTimeout(display_loaded, 100)\n    }\n  }\n\n  function run_callbacks() {\n    try {\n      root._bokeh_onload_callbacks.forEach(function(callback) {\n        if (callback != null)\n          callback();\n      });\n    } finally {\n      delete root._bokeh_onload_callbacks\n    }\n    console.debug(\"Bokeh: all callbacks have finished\");\n  }\n\n  function load_libs(css_urls, js_urls, callback) {\n    if (css_urls == null) css_urls = [];\n    if (js_urls == null) js_urls = [];\n\n    root._bokeh_onload_callbacks.push(callback);\n    if (root._bokeh_is_loading > 0) {\n      console.debug(\"Bokeh: BokehJS is being loaded, scheduling callback at\", now());\n      return null;\n    }\n    if (js_urls == null || js_urls.length === 0) {\n      run_callbacks();\n      return null;\n    }\n    console.debug(\"Bokeh: BokehJS not loaded, scheduling load and callback at\", now());\n    root._bokeh_is_loading = css_urls.length + js_urls.length;\n\n    function on_load() {\n      root._bokeh_is_loading--;\n      if (root._bokeh_is_loading === 0) {\n        console.debug(\"Bokeh: all BokehJS libraries/stylesheets loaded\");\n        run_callbacks()\n      }\n    }\n\n    function on_error(url) {\n      console.error(\"failed to load \" + url);\n    }\n\n    for (let i = 0; i < css_urls.length; i++) {\n      const url = css_urls[i];\n      const element = document.createElement(\"link\");\n      element.onload = on_load;\n      element.onerror = on_error.bind(null, url);\n      element.rel = \"stylesheet\";\n      element.type = \"text/css\";\n      element.href = url;\n      console.debug(\"Bokeh: injecting link tag for BokehJS stylesheet: \", url);\n      document.body.appendChild(element);\n    }\n\n    for (let i = 0; i < js_urls.length; i++) {\n      const url = js_urls[i];\n      const element = document.createElement('script');\n      element.onload = on_load;\n      element.onerror = on_error.bind(null, url);\n      element.async = false;\n      element.src = url;\n      console.debug(\"Bokeh: injecting script tag for BokehJS library: \", url);\n      document.head.appendChild(element);\n    }\n  };\n\n  function inject_raw_css(css) {\n    const element = document.createElement(\"style\");\n    element.appendChild(document.createTextNode(css));\n    document.body.appendChild(element);\n  }\n\n  const js_urls = [\"https://cdn.bokeh.org/bokeh/release/bokeh-2.4.3.min.js\", \"https://cdn.bokeh.org/bokeh/release/bokeh-gl-2.4.3.min.js\", \"https://cdn.bokeh.org/bokeh/release/bokeh-widgets-2.4.3.min.js\", \"https://cdn.bokeh.org/bokeh/release/bokeh-tables-2.4.3.min.js\", \"https://cdn.bokeh.org/bokeh/release/bokeh-mathjax-2.4.3.min.js\"];\n  const css_urls = [];\n\n  const inline_js = [    function(Bokeh) {\n      Bokeh.set_log_level(\"info\");\n    },\nfunction(Bokeh) {\n    }\n  ];\n\n  function run_inline_js() {\n    if (root.Bokeh !== undefined || force === true) {\n          for (let i = 0; i < inline_js.length; i++) {\n      inline_js[i].call(root, root.Bokeh);\n    }\n} else if (Date.now() < root._bokeh_timeout) {\n      setTimeout(run_inline_js, 100);\n    } else if (!root._bokeh_failed_load) {\n      console.log(\"Bokeh: BokehJS failed to load within specified timeout.\");\n      root._bokeh_failed_load = true;\n    } else if (force !== true) {\n      const cell = $(document.getElementById(null)).parents('.cell').data().cell;\n      cell.output_area.append_execute_result(NB_LOAD_WARNING)\n    }\n  }\n\n  if (root._bokeh_is_loading === 0) {\n    console.debug(\"Bokeh: BokehJS loaded, going straight to plotting\");\n    run_inline_js();\n  } else {\n    load_libs(css_urls, js_urls, function() {\n      console.debug(\"Bokeh: BokehJS plotting callback run at\", now());\n      run_inline_js();\n    });\n  }\n}(window));"
          },
          "metadata": {}
        },
        {
          "output_type": "display_data",
          "data": {
            "text/html": [
              "\n",
              "  <div class=\"bk-root\" id=\"e1dcbc1f-96e9-414a-aac1-d8133dbb4147\" data-root-id=\"1002\"></div>\n"
            ]
          },
          "metadata": {}
        },
        {
          "output_type": "display_data",
          "data": {
            "application/javascript": [
              "(function(root) {\n",
              "  function embed_document(root) {\n",
              "  const docs_json = {\"a002d2ff-81c1-4f03-a3f2-fd129567b40d\":{\"defs\":[],\"roots\":{\"references\":[{\"attributes\":{\"above\":[{\"id\":\"1024\"}],\"left\":[{\"id\":\"1027\"}],\"renderers\":[{\"id\":\"1022\"}],\"title\":{\"id\":\"1030\"},\"toolbar\":{\"id\":\"1011\"},\"x_range\":{\"id\":\"1003\"},\"x_scale\":{\"id\":\"1007\"},\"y_range\":{\"id\":\"1005\"},\"y_scale\":{\"id\":\"1009\"}},\"id\":\"1002\",\"subtype\":\"Figure\",\"type\":\"Plot\"},{\"attributes\":{},\"id\":\"1011\",\"type\":\"Toolbar\"},{\"attributes\":{\"source\":{\"id\":\"1012\"}},\"id\":\"1023\",\"type\":\"CDSView\"},{\"attributes\":{\"axis_label\":\"translation tokens\",\"coordinates\":null,\"formatter\":{\"id\":\"1032\"},\"group\":null,\"major_label_overrides\":{\"0.5\":\"_EOS_\",\"1.5\":\".\",\"10.5\":\"_BOS_\",\"2.5\":\"kitchen\",\"3.5\":\"shared\",\"4.5\":\"and\",\"5.5\":\"kitchen\",\"6.5\":\"shared\",\"7.5\":\"a\",\"8.5\":\"is\",\"9.5\":\"there\"},\"major_label_policy\":{\"id\":\"1033\"},\"ticker\":{\"id\":\"1028\"}},\"id\":\"1027\",\"type\":\"LinearAxis\"},{\"attributes\":{\"ticks\":[0.5,1.5,2.5,3.5,4.5,5.5,6.5,7.5,8.5,9.5,10.5]},\"id\":\"1025\",\"type\":\"FixedTicker\"},{\"attributes\":{\"axis_label\":\"source tokens\",\"coordinates\":null,\"formatter\":{\"id\":\"1034\"},\"group\":null,\"major_label_orientation\":45,\"major_label_overrides\":{\"0.5\":\"_BOS_\",\"1.5\":\"\\u0432\",\"10.5\":\"_EOS_\",\"2.5\":\"\\u0440\\u0430\\u0441\\u043f\\u043e\\u0440\\u044f\\u0436\\u0435\\u043d\\u0438\\u0438\",\"3.5\":\"\\u0433\\u043e\\u0441\\u0442\\u0435\\u0439\",\"4.5\":\"\\u043e\\u0431\\u0449\\u0430\\u044f\",\"5.5\":\"\\u043a\\u0443\\u0445\\u043d\\u044f\",\"6.5\":\"\\u0438\",\"7.5\":\"\\u043e\\u0431\\u0449\\u0430\\u044f\",\"8.5\":\"\\u0433\\u043e\\u0441\\u0442\\u0438\\u043d\\u0430\\u044f\",\"9.5\":\".\"},\"major_label_policy\":{\"id\":\"1035\"},\"ticker\":{\"id\":\"1025\"}},\"id\":\"1024\",\"type\":\"LinearAxis\"},{\"attributes\":{},\"id\":\"1033\",\"type\":\"AllLabels\"},{\"attributes\":{\"data\":{\"image\":[{\"__ndarray__\":\"rO8JPPfcADuIP4c7b91lOxodnD26+Io8qm8hPBgQhz1ZhTw+0hGOPjvrsz51/7M9Mm82PdqKLz1CDJA86/OiPWNZNz4BwB89Tk5TPTxaaD1ACgE+QeSMPquTSTwpWLM6DPnmOsrbizrYa3g7iWPeOh3uVjtTTY08Io8sPcNBVz5ChDQ/T4uLOpZhezoQm1c6Mc96OewOvjuHxtY8CZEZPGVBGz6x3l4+jq9vPp1StD7IoZw8dqMPPHJrKzyx8M48zZyPPDYTzz1O8m4+OLAwPiVXFz7JJAU+GkEJPmcaLjw4g9o6XW9oO+m+Ijuppgw9IOepPb4H1j6zgM490hkIPsWL+D2k37o96HPxO+8VCzvfnxQ8swPfO7hrKzxKzO8+d/R0PsIcuDwYpXk9QBUJPg4AIT01/Xs80rSwOlL8YTxNbQg7Lz3VPIZenD5Pa4A+LqUHPT6iBD5fv0A+SVwMPUzwSD1sibg8rCXCPRzWhz2wy5E+pdNvPj4jyz2qK9g8chFTPcFlej1iTyU8y7ebPPRLLTs89Ms8RfhVPGPvgz0dEMM+CgNKPnW50jzgqtg93RqBPZRB0z2C8GY8wXoAPZVTWz15pzM9lhLVPb5K8z19LYs9M4AaPokMlz0+FII+Sn6zPQ==\",\"dtype\":\"float32\",\"order\":\"little\",\"shape\":[11,11]}]},\"selected\":{\"id\":\"1037\"},\"selection_policy\":{\"id\":\"1036\"}},\"id\":\"1012\",\"type\":\"ColumnDataSource\"},{\"attributes\":{},\"id\":\"1032\",\"type\":\"BasicTickFormatter\"},{\"attributes\":{\"coordinates\":null,\"data_source\":{\"id\":\"1012\"},\"glyph\":{\"id\":\"1013\"},\"group\":null,\"hover_glyph\":null,\"muted_glyph\":{\"id\":\"1019\"},\"nonselection_glyph\":{\"id\":\"1016\"},\"view\":{\"id\":\"1023\"}},\"id\":\"1022\",\"type\":\"GlyphRenderer\"},{\"attributes\":{},\"id\":\"1035\",\"type\":\"AllLabels\"},{\"attributes\":{\"end\":11},\"id\":\"1005\",\"type\":\"Range1d\"},{\"attributes\":{\"palette\":[\"#000000\",\"#252525\",\"#525252\",\"#737373\",\"#969696\",\"#bdbdbd\",\"#d9d9d9\",\"#f0f0f0\",\"#ffffff\"]},\"id\":\"1020\",\"type\":\"LinearColorMapper\"},{\"attributes\":{\"color_mapper\":{\"id\":\"1017\"},\"dh\":{\"value\":11},\"dw\":{\"value\":11},\"global_alpha\":{\"value\":0.1},\"image\":{\"field\":\"image\"},\"x\":{\"value\":0},\"y\":{\"value\":0}},\"id\":\"1016\",\"type\":\"Image\"},{\"attributes\":{\"end\":11},\"id\":\"1003\",\"type\":\"Range1d\"},{\"attributes\":{},\"id\":\"1034\",\"type\":\"BasicTickFormatter\"},{\"attributes\":{},\"id\":\"1037\",\"type\":\"Selection\"},{\"attributes\":{\"palette\":[\"#000000\",\"#252525\",\"#525252\",\"#737373\",\"#969696\",\"#bdbdbd\",\"#d9d9d9\",\"#f0f0f0\",\"#ffffff\"]},\"id\":\"1014\",\"type\":\"LinearColorMapper\"},{\"attributes\":{\"color_mapper\":{\"id\":\"1020\"},\"dh\":{\"value\":11},\"dw\":{\"value\":11},\"global_alpha\":{\"value\":0.2},\"image\":{\"field\":\"image\"},\"x\":{\"value\":0},\"y\":{\"value\":0}},\"id\":\"1019\",\"type\":\"Image\"},{\"attributes\":{},\"id\":\"1036\",\"type\":\"UnionRenderers\"},{\"attributes\":{},\"id\":\"1009\",\"type\":\"LinearScale\"},{\"attributes\":{\"color_mapper\":{\"id\":\"1014\"},\"dh\":{\"value\":11},\"dw\":{\"value\":11},\"image\":{\"field\":\"image\"},\"x\":{\"value\":0},\"y\":{\"value\":0}},\"id\":\"1013\",\"type\":\"Image\"},{\"attributes\":{\"ticks\":[0.5,1.5,2.5,3.5,4.5,5.5,6.5,7.5,8.5,9.5,10.5]},\"id\":\"1028\",\"type\":\"FixedTicker\"},{\"attributes\":{},\"id\":\"1007\",\"type\":\"LinearScale\"},{\"attributes\":{\"palette\":[\"#000000\",\"#252525\",\"#525252\",\"#737373\",\"#969696\",\"#bdbdbd\",\"#d9d9d9\",\"#f0f0f0\",\"#ffffff\"]},\"id\":\"1017\",\"type\":\"LinearColorMapper\"},{\"attributes\":{\"coordinates\":null,\"group\":null},\"id\":\"1030\",\"type\":\"Title\"}],\"root_ids\":[\"1002\"]},\"title\":\"Bokeh Application\",\"version\":\"2.4.3\"}};\n",
              "  const render_items = [{\"docid\":\"a002d2ff-81c1-4f03-a3f2-fd129567b40d\",\"root_ids\":[\"1002\"],\"roots\":{\"1002\":\"e1dcbc1f-96e9-414a-aac1-d8133dbb4147\"}}];\n",
              "  root.Bokeh.embed.embed_items_notebook(docs_json, render_items);\n",
              "  }\n",
              "  if (root.Bokeh !== undefined) {\n",
              "    embed_document(root);\n",
              "  } else {\n",
              "    let attempts = 0;\n",
              "    const timer = setInterval(function(root) {\n",
              "      if (root.Bokeh !== undefined) {\n",
              "        clearInterval(timer);\n",
              "        embed_document(root);\n",
              "      } else {\n",
              "        attempts++;\n",
              "        if (attempts > 100) {\n",
              "          clearInterval(timer);\n",
              "          console.log(\"Bokeh: ERROR: Unable to run BokehJS code because BokehJS library is missing\");\n",
              "        }\n",
              "      }\n",
              "    }, 10, root)\n",
              "  }\n",
              "})(window);"
            ],
            "application/vnd.bokehjs_exec.v0+json": ""
          },
          "metadata": {
            "application/vnd.bokehjs_exec.v0+json": {
              "id": "1002"
            }
          }
        },
        {
          "output_type": "display_data",
          "data": {
            "text/html": [
              "\n",
              "  <div class=\"bk-root\" id=\"0f1e1af2-93a5-4b0b-9bcb-cc93e6b7a3b5\" data-root-id=\"1078\"></div>\n"
            ]
          },
          "metadata": {}
        },
        {
          "output_type": "display_data",
          "data": {
            "application/javascript": [
              "(function(root) {\n",
              "  function embed_document(root) {\n",
              "  const docs_json = {\"58c70c18-ec96-4775-a80a-5121fdf39b2d\":{\"defs\":[],\"roots\":{\"references\":[{\"attributes\":{\"above\":[{\"id\":\"1100\"}],\"left\":[{\"id\":\"1103\"}],\"renderers\":[{\"id\":\"1098\"}],\"title\":{\"id\":\"1114\"},\"toolbar\":{\"id\":\"1087\"},\"x_range\":{\"id\":\"1079\"},\"x_scale\":{\"id\":\"1083\"},\"y_range\":{\"id\":\"1081\"},\"y_scale\":{\"id\":\"1085\"}},\"id\":\"1078\",\"subtype\":\"Figure\",\"type\":\"Plot\"},{\"attributes\":{},\"id\":\"1087\",\"type\":\"Toolbar\"},{\"attributes\":{\"axis_label\":\"translation tokens\",\"coordinates\":null,\"formatter\":{\"id\":\"1116\"},\"group\":null,\"major_label_overrides\":{\"0.5\":\"_EOS_\",\"1.5\":\".\",\"10.5\":\"car\",\"11.5\":\"and\",\"12.5\":\"rental\",\"13.5\":\"bike\",\"14.5\":\"_BOS_\",\"2.5\":\"available\",\"3.5\":\"are\",\"4.5\":\"parking\",\"5.5\":\"free\",\"6.5\":\"and\",\"7.5\":\",\",\"8.5\":\"service\",\"9.5\":\"rental\"},\"major_label_policy\":{\"id\":\"1117\"},\"ticker\":{\"id\":\"1104\"}},\"id\":\"1103\",\"type\":\"LinearAxis\"},{\"attributes\":{\"color_mapper\":{\"id\":\"1096\"},\"dh\":{\"value\":15},\"dw\":{\"value\":15},\"global_alpha\":{\"value\":0.2},\"image\":{\"field\":\"image\"},\"x\":{\"value\":0},\"y\":{\"value\":0}},\"id\":\"1095\",\"type\":\"Image\"},{\"attributes\":{\"ticks\":[0.5,1.5,2.5,3.5,4.5,5.5,6.5,7.5,8.5,9.5,10.5,11.5,12.5,13.5,14.5]},\"id\":\"1101\",\"type\":\"FixedTicker\"},{\"attributes\":{\"palette\":[\"#000000\",\"#252525\",\"#525252\",\"#737373\",\"#969696\",\"#bdbdbd\",\"#d9d9d9\",\"#f0f0f0\",\"#ffffff\"]},\"id\":\"1096\",\"type\":\"LinearColorMapper\"},{\"attributes\":{\"color_mapper\":{\"id\":\"1090\"},\"dh\":{\"value\":15},\"dw\":{\"value\":15},\"image\":{\"field\":\"image\"},\"x\":{\"value\":0},\"y\":{\"value\":0}},\"id\":\"1089\",\"type\":\"Image\"},{\"attributes\":{},\"id\":\"1116\",\"type\":\"BasicTickFormatter\"},{\"attributes\":{},\"id\":\"1119\",\"type\":\"AllLabels\"},{\"attributes\":{\"palette\":[\"#000000\",\"#252525\",\"#525252\",\"#737373\",\"#969696\",\"#bdbdbd\",\"#d9d9d9\",\"#f0f0f0\",\"#ffffff\"]},\"id\":\"1093\",\"type\":\"LinearColorMapper\"},{\"attributes\":{\"coordinates\":null,\"data_source\":{\"id\":\"1088\"},\"glyph\":{\"id\":\"1089\"},\"group\":null,\"hover_glyph\":null,\"muted_glyph\":{\"id\":\"1095\"},\"nonselection_glyph\":{\"id\":\"1092\"},\"view\":{\"id\":\"1099\"}},\"id\":\"1098\",\"type\":\"GlyphRenderer\"},{\"attributes\":{\"data\":{\"image\":[{\"__ndarray__\":\"Q42+PHwxDTzQnhs84LWrO4+9GTyg6sA7qKYUPEU+qztU4cw7UWGePLiCCz0dYoA9TZZjPsvhVz6Jn7w+2/sSPqqQnD1QUIw91jqKPLLNHDyStwc8FVjSPZltsjy3hag8AawcPeIwGTygIRk9c+2kPX/TMj25I6U+44CBPW7M7jyAmic8DCwkPF11hDyElkY8yQ+yPW/yxDya624716i2PHtSXjx8rJ49lfFSPifXVz5odls+ThMZPZ5X9TvlirE7vFaMPHG9bTxbLSI9EFbvPDLGAz3DKrA8Xl65PCITiDyyGMg85NcaPuCjLT6wgdI+UCP0O11kfzvcvFo7Cvv6OpPvOTs/QBE7VVC0O+sbrDujj6g7ZbLXPGdEzj0r2fY8gAXEPjRMNz7wQHk+GxKQOgQMhTuj3zM7pRj0Ov/PSTutzUc7qirJPEQnXDtXZLI7bXhKPdKrKT2SWBQ9l0ynPkeVOT5MoaE+IISNO9lBsjtWi2M7raqQOwO4LT2M/G88e19PPVHVQTy/34877C/2PNZUGz0sOiw+i/XqPlqN+D3PFCw9rtmUPBIPzDuSOp883fglPbHkQz10DxE9JtM6PevEUDzKFD0712ShOxgMEjw3xaA9AEa5PkrdGz6JtCg+WtDjPCUiNTzLNZ88LAYbPbTnmzyk7Fo98aXLPUvP7TzvjF09x7nsPcZsJD1aRZw9SyA3PtcA7T2xT/o9iFmJPFSj9TynxTI9kAGAPVqVdD0LxVA8JBsNPURjiDw9AP08UlaKPQb0XD5H6uI9BujMPWnAlj2Owf89SaG4Owq/SjwynLA7IpZ4O0n1jztqr0Q7ZVXePAmj+jviQcI8rMEUPsFY4j16jSE9uIEyPtYhPj4y3IA+aAs0O7bNjDtPBSA7QQgZPBxV/TtDRAg8ZyerPVhUvTwYYXY+HlkbPt8ZLz6Kppw9Mrr3PdlKiT0qDvs8rWCqPXhvdTxfZaQ8JZHGPH+ZkTz/dwM9UYllPVgmuD2LG+A9KdSgPTbwQT7N5DU+DjSzPCQyTz0xTQw94Md8PUYYtTwZ2hA8rambPB1S2Dzo+G894YEaPolNnT7LK7M8Wl2sPZY3Lj413PI8AM9VPMGOWTzDWVY8WuEPO3Jg4jsohbc7CxOTPM88MzxwOYE9cwBPPykMXz165Hg87OKwO7lxkzseHPg60VQjOri56zr3oV06\",\"dtype\":\"float32\",\"order\":\"little\",\"shape\":[15,15]}]},\"selected\":{\"id\":\"1121\"},\"selection_policy\":{\"id\":\"1120\"}},\"id\":\"1088\",\"type\":\"ColumnDataSource\"},{\"attributes\":{},\"id\":\"1121\",\"type\":\"Selection\"},{\"attributes\":{\"palette\":[\"#000000\",\"#252525\",\"#525252\",\"#737373\",\"#969696\",\"#bdbdbd\",\"#d9d9d9\",\"#f0f0f0\",\"#ffffff\"]},\"id\":\"1090\",\"type\":\"LinearColorMapper\"},{\"attributes\":{\"color_mapper\":{\"id\":\"1093\"},\"dh\":{\"value\":15},\"dw\":{\"value\":15},\"global_alpha\":{\"value\":0.1},\"image\":{\"field\":\"image\"},\"x\":{\"value\":0},\"y\":{\"value\":0}},\"id\":\"1092\",\"type\":\"Image\"},{\"attributes\":{\"end\":15},\"id\":\"1081\",\"type\":\"Range1d\"},{\"attributes\":{},\"id\":\"1083\",\"type\":\"LinearScale\"},{\"attributes\":{\"coordinates\":null,\"group\":null},\"id\":\"1114\",\"type\":\"Title\"},{\"attributes\":{\"end\":15},\"id\":\"1079\",\"type\":\"Range1d\"},{\"attributes\":{\"axis_label\":\"source tokens\",\"coordinates\":null,\"formatter\":{\"id\":\"1118\"},\"group\":null,\"major_label_orientation\":45,\"major_label_overrides\":{\"0.5\":\"_BOS_\",\"1.5\":\"\\u043a\\u0440\\u043e\\u043c\\u0435\",\"10.5\":\"\\u0438\",\"11.5\":\"\\u0431\\u0435\\u0441\\u043f\\u043b\\u0430\\u0442\\u043d\\u0430\\u044f\",\"12.5\":\"\\u043f\\u0430\\u0440\\u043a\\u043e\\u0432\\u043a\\u0430\",\"13.5\":\".\",\"14.5\":\"_EOS_\",\"2.5\":\"\\u0442\\u043e\\u0433\\u043e\",\"3.5\":\",\",\"4.5\":\"\\u043f\\u0440\\u0435\\u0434\\u043e\\u0441\\u0442\\u0430\\u0432\\u043b\\u044f\\u0435\\u0442\\u0441\\u044f\",\"5.5\":\"\\u043f\\u0440\\u043e\\u043a\\u0430\\u0442\",\"6.5\":\"\\u0432\\u0435\\u043b\\u043e\\u0441\\u0438\\u043f\\u0435\\u0434\\u043e\\u0432\",\"7.5\":\",\",\"8.5\":\"\\u0443\\u0441\\u043b\\u0443\\u0433\\u0438\",\"9.5\":\"\\u0442\\u0440\\u0430\\u043d\\u0441\\u0444\\u0435\\u0440\\u0430\"},\"major_label_policy\":{\"id\":\"1119\"},\"ticker\":{\"id\":\"1101\"}},\"id\":\"1100\",\"type\":\"LinearAxis\"},{\"attributes\":{},\"id\":\"1120\",\"type\":\"UnionRenderers\"},{\"attributes\":{},\"id\":\"1118\",\"type\":\"BasicTickFormatter\"},{\"attributes\":{},\"id\":\"1085\",\"type\":\"LinearScale\"},{\"attributes\":{},\"id\":\"1117\",\"type\":\"AllLabels\"},{\"attributes\":{\"source\":{\"id\":\"1088\"}},\"id\":\"1099\",\"type\":\"CDSView\"},{\"attributes\":{\"ticks\":[0.5,1.5,2.5,3.5,4.5,5.5,6.5,7.5,8.5,9.5,10.5,11.5,12.5,13.5,14.5]},\"id\":\"1104\",\"type\":\"FixedTicker\"}],\"root_ids\":[\"1078\"]},\"title\":\"Bokeh Application\",\"version\":\"2.4.3\"}};\n",
              "  const render_items = [{\"docid\":\"58c70c18-ec96-4775-a80a-5121fdf39b2d\",\"root_ids\":[\"1078\"],\"roots\":{\"1078\":\"0f1e1af2-93a5-4b0b-9bcb-cc93e6b7a3b5\"}}];\n",
              "  root.Bokeh.embed.embed_items_notebook(docs_json, render_items);\n",
              "  }\n",
              "  if (root.Bokeh !== undefined) {\n",
              "    embed_document(root);\n",
              "  } else {\n",
              "    let attempts = 0;\n",
              "    const timer = setInterval(function(root) {\n",
              "      if (root.Bokeh !== undefined) {\n",
              "        clearInterval(timer);\n",
              "        embed_document(root);\n",
              "      } else {\n",
              "        attempts++;\n",
              "        if (attempts > 100) {\n",
              "          clearInterval(timer);\n",
              "          console.log(\"Bokeh: ERROR: Unable to run BokehJS code because BokehJS library is missing\");\n",
              "        }\n",
              "      }\n",
              "    }, 10, root)\n",
              "  }\n",
              "})(window);"
            ],
            "application/vnd.bokehjs_exec.v0+json": ""
          },
          "metadata": {
            "application/vnd.bokehjs_exec.v0+json": {
              "id": "1078"
            }
          }
        },
        {
          "output_type": "display_data",
          "data": {
            "text/html": [
              "\n",
              "  <div class=\"bk-root\" id=\"e84f3086-cdb2-46d8-8295-331499c6e99b\" data-root-id=\"1162\"></div>\n"
            ]
          },
          "metadata": {}
        },
        {
          "output_type": "display_data",
          "data": {
            "application/javascript": [
              "(function(root) {\n",
              "  function embed_document(root) {\n",
              "  const docs_json = {\"f8065807-2c58-4312-a39e-62bf78233a00\":{\"defs\":[],\"roots\":{\"references\":[{\"attributes\":{\"above\":[{\"id\":\"1184\"}],\"left\":[{\"id\":\"1187\"}],\"renderers\":[{\"id\":\"1182\"}],\"title\":{\"id\":\"1206\"},\"toolbar\":{\"id\":\"1171\"},\"x_range\":{\"id\":\"1163\"},\"x_scale\":{\"id\":\"1167\"},\"y_range\":{\"id\":\"1165\"},\"y_scale\":{\"id\":\"1169\"}},\"id\":\"1162\",\"subtype\":\"Figure\",\"type\":\"Plot\"},{\"attributes\":{},\"id\":\"1208\",\"type\":\"BasicTickFormatter\"},{\"attributes\":{\"end\":13},\"id\":\"1163\",\"type\":\"Range1d\"},{\"attributes\":{\"color_mapper\":{\"id\":\"1180\"},\"dh\":{\"value\":10},\"dw\":{\"value\":13},\"global_alpha\":{\"value\":0.2},\"image\":{\"field\":\"image\"},\"x\":{\"value\":0},\"y\":{\"value\":0}},\"id\":\"1179\",\"type\":\"Image\"},{\"attributes\":{},\"id\":\"1209\",\"type\":\"AllLabels\"},{\"attributes\":{},\"id\":\"1210\",\"type\":\"BasicTickFormatter\"},{\"attributes\":{},\"id\":\"1211\",\"type\":\"AllLabels\"},{\"attributes\":{\"ticks\":[0.5,1.5,2.5,3.5,4.5,5.5,6.5,7.5,8.5,9.5]},\"id\":\"1188\",\"type\":\"FixedTicker\"},{\"attributes\":{},\"id\":\"1212\",\"type\":\"UnionRenderers\"},{\"attributes\":{},\"id\":\"1169\",\"type\":\"LinearScale\"},{\"attributes\":{},\"id\":\"1213\",\"type\":\"Selection\"},{\"attributes\":{\"source\":{\"id\":\"1172\"}},\"id\":\"1183\",\"type\":\"CDSView\"},{\"attributes\":{\"color_mapper\":{\"id\":\"1174\"},\"dh\":{\"value\":10},\"dw\":{\"value\":13},\"image\":{\"field\":\"image\"},\"x\":{\"value\":0},\"y\":{\"value\":0}},\"id\":\"1173\",\"type\":\"Image\"},{\"attributes\":{},\"id\":\"1167\",\"type\":\"LinearScale\"},{\"attributes\":{\"end\":10},\"id\":\"1165\",\"type\":\"Range1d\"},{\"attributes\":{\"color_mapper\":{\"id\":\"1177\"},\"dh\":{\"value\":10},\"dw\":{\"value\":13},\"global_alpha\":{\"value\":0.1},\"image\":{\"field\":\"image\"},\"x\":{\"value\":0},\"y\":{\"value\":0}},\"id\":\"1176\",\"type\":\"Image\"},{\"attributes\":{\"axis_label\":\"source tokens\",\"coordinates\":null,\"formatter\":{\"id\":\"1210\"},\"group\":null,\"major_label_orientation\":45,\"major_label_overrides\":{\"0.5\":\"_BOS_\",\"1.5\":\"\\u0440\\u0430\\u0441\\u0441\\u0442\\u043e\\u044f\\u043d\\u0438\\u0435\",\"10.5\":\"\\u043a\\u043c\",\"11.5\":\".\",\"12.5\":\"_EOS_\",\"2.5\":\"\\u0434\\u043e\",\"3.5\":\"\\u0433\\u043e\\u0440\\u043e\\u0434\\u0430\",\"4.5\":\"\\u043a\\u0438@@\",\"5.5\":\"\\u0441\\u0441\\u0438@@\",\"6.5\":\"\\u043c@@\",\"7.5\":\"\\u043c\\u0438\",\"8.5\":\"\\u0441\\u043e\\u0441\\u0442\\u0430\\u0432\\u043b\\u044f\\u0435\\u0442\",\"9.5\":\"26\"},\"major_label_policy\":{\"id\":\"1211\"},\"ticker\":{\"id\":\"1185\"}},\"id\":\"1184\",\"type\":\"LinearAxis\"},{\"attributes\":{\"palette\":[\"#000000\",\"#252525\",\"#525252\",\"#737373\",\"#969696\",\"#bdbdbd\",\"#d9d9d9\",\"#f0f0f0\",\"#ffffff\"]},\"id\":\"1177\",\"type\":\"LinearColorMapper\"},{\"attributes\":{\"palette\":[\"#000000\",\"#252525\",\"#525252\",\"#737373\",\"#969696\",\"#bdbdbd\",\"#d9d9d9\",\"#f0f0f0\",\"#ffffff\"]},\"id\":\"1180\",\"type\":\"LinearColorMapper\"},{\"attributes\":{},\"id\":\"1171\",\"type\":\"Toolbar\"},{\"attributes\":{\"axis_label\":\"translation tokens\",\"coordinates\":null,\"formatter\":{\"id\":\"1208\"},\"group\":null,\"major_label_overrides\":{\"0.5\":\"_EOS_\",\"1.5\":\".\",\"2.5\":\"away\",\"3.5\":\"km\",\"4.5\":\"26\",\"5.5\":\"is\",\"6.5\":\"ec\",\"7.5\":\"ap@@\",\"8.5\":\"mal@@\",\"9.5\":\"_BOS_\"},\"major_label_policy\":{\"id\":\"1209\"},\"ticker\":{\"id\":\"1188\"}},\"id\":\"1187\",\"type\":\"LinearAxis\"},{\"attributes\":{\"data\":{\"image\":[{\"__ndarray__\":\"3iCgPtW8yz3ti+49tuzPPSkTpj0er9c9kKw5Pb1HUj2+MeE75PViPNtGNj2CtfI7MFBmPMV2rz0+rGQ9eJsePqzsmz0gJaQ96ap+PoRngD2BEJ49quusPf5l4jzoztc7XXC2O+dmDT0DBYE9KwGNPf0N0D13hxs9p9KmPXFXmz72urY9VGyJPdlo9Ts9OXE7xRAuPFOSMzzUXR4+UzRbPSWRJj4gb9Y98ZdJPSk7uz2QJI095W8lPYXrdTx5WSk8Um6cO2fxpD3QAhA9nRORPs224j3Apsw9z2m9PFWkczsXmp47g2IcO2lsPzvit3k7tcBMOoAUrTtWYMo+FKq2PJhfpj5e4Ow8sq0ZPdGUijzpTo08pVBfPBWREDzD78k7yvknPNrSiDyJQ309hF2APpirQj3Xrvc+s1yIPaYfhz2Xz1c9DdMKPWxKTz2OptA8jEy4PRITkz5ySBM+AZugPazLvjxCUIw8xteEPS4nDT3sETM9DyZfPWiAhj0XrfM9XRxwPfs6uT0XshU+9JVyPp7T+j2OJ5U7j5BKPGSMNjyB5BE7nMG7OzK2TT0GWjY+MB88PnOADT6hGVE+Uv85PmX+AT1EaFc8/QspO7WvhTusTZI7IkKmOkGJ3TlZMwM6oEUHO85mZT25K9Q+DTrNPu7c3j3aMMo70Z0BOiacADyhZWQ4EsOSOg==\",\"dtype\":\"float32\",\"order\":\"little\",\"shape\":[10,13]}]},\"selected\":{\"id\":\"1213\"},\"selection_policy\":{\"id\":\"1212\"}},\"id\":\"1172\",\"type\":\"ColumnDataSource\"},{\"attributes\":{\"ticks\":[0.5,1.5,2.5,3.5,4.5,5.5,6.5,7.5,8.5,9.5,10.5,11.5,12.5]},\"id\":\"1185\",\"type\":\"FixedTicker\"},{\"attributes\":{\"coordinates\":null,\"group\":null},\"id\":\"1206\",\"type\":\"Title\"},{\"attributes\":{\"palette\":[\"#000000\",\"#252525\",\"#525252\",\"#737373\",\"#969696\",\"#bdbdbd\",\"#d9d9d9\",\"#f0f0f0\",\"#ffffff\"]},\"id\":\"1174\",\"type\":\"LinearColorMapper\"},{\"attributes\":{\"coordinates\":null,\"data_source\":{\"id\":\"1172\"},\"glyph\":{\"id\":\"1173\"},\"group\":null,\"hover_glyph\":null,\"muted_glyph\":{\"id\":\"1179\"},\"nonselection_glyph\":{\"id\":\"1176\"},\"view\":{\"id\":\"1183\"}},\"id\":\"1182\",\"type\":\"GlyphRenderer\"}],\"root_ids\":[\"1162\"]},\"title\":\"Bokeh Application\",\"version\":\"2.4.3\"}};\n",
              "  const render_items = [{\"docid\":\"f8065807-2c58-4312-a39e-62bf78233a00\",\"root_ids\":[\"1162\"],\"roots\":{\"1162\":\"e84f3086-cdb2-46d8-8295-331499c6e99b\"}}];\n",
              "  root.Bokeh.embed.embed_items_notebook(docs_json, render_items);\n",
              "  }\n",
              "  if (root.Bokeh !== undefined) {\n",
              "    embed_document(root);\n",
              "  } else {\n",
              "    let attempts = 0;\n",
              "    const timer = setInterval(function(root) {\n",
              "      if (root.Bokeh !== undefined) {\n",
              "        clearInterval(timer);\n",
              "        embed_document(root);\n",
              "      } else {\n",
              "        attempts++;\n",
              "        if (attempts > 100) {\n",
              "          clearInterval(timer);\n",
              "          console.log(\"Bokeh: ERROR: Unable to run BokehJS code because BokehJS library is missing\");\n",
              "        }\n",
              "      }\n",
              "    }, 10, root)\n",
              "  }\n",
              "})(window);"
            ],
            "application/vnd.bokehjs_exec.v0+json": ""
          },
          "metadata": {
            "application/vnd.bokehjs_exec.v0+json": {
              "id": "1162"
            }
          }
        },
        {
          "output_type": "display_data",
          "data": {
            "text/html": [
              "\n",
              "  <div class=\"bk-root\" id=\"14fe282a-fe5b-47a4-8a87-e493049d9e1c\" data-root-id=\"1254\"></div>\n"
            ]
          },
          "metadata": {}
        },
        {
          "output_type": "display_data",
          "data": {
            "application/javascript": [
              "(function(root) {\n",
              "  function embed_document(root) {\n",
              "  const docs_json = {\"6222ed1a-1bcf-4143-8711-cce315c2bf8c\":{\"defs\":[],\"roots\":{\"references\":[{\"attributes\":{\"above\":[{\"id\":\"1276\"}],\"left\":[{\"id\":\"1279\"}],\"renderers\":[{\"id\":\"1274\"}],\"title\":{\"id\":\"1306\"},\"toolbar\":{\"id\":\"1263\"},\"x_range\":{\"id\":\"1255\"},\"x_scale\":{\"id\":\"1259\"},\"y_range\":{\"id\":\"1257\"},\"y_scale\":{\"id\":\"1261\"}},\"id\":\"1254\",\"subtype\":\"Figure\",\"type\":\"Plot\"},{\"attributes\":{\"source\":{\"id\":\"1264\"}},\"id\":\"1275\",\"type\":\"CDSView\"},{\"attributes\":{\"ticks\":[0.5,1.5,2.5,3.5,4.5,5.5,6.5,7.5,8.5,9.5,10.5,11.5,12.5,13.5,14.5,15.5,16.5,17.5,18.5,19.5,20.5,21.5,22.5,23.5,24.5,25.5,26.5,27.5,28.5,29.5,30.5,31.5]},\"id\":\"1277\",\"type\":\"FixedTicker\"},{\"attributes\":{},\"id\":\"1308\",\"type\":\"BasicTickFormatter\"},{\"attributes\":{\"end\":33},\"id\":\"1257\",\"type\":\"Range1d\"},{\"attributes\":{\"data\":{\"image\":[{\"__ndarray__\":\"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\",\"dtype\":\"float32\",\"order\":\"little\",\"shape\":[33,32]}]},\"selected\":{\"id\":\"1313\"},\"selection_policy\":{\"id\":\"1312\"}},\"id\":\"1264\",\"type\":\"ColumnDataSource\"},{\"attributes\":{},\"id\":\"1309\",\"type\":\"AllLabels\"},{\"attributes\":{},\"id\":\"1310\",\"type\":\"BasicTickFormatter\"},{\"attributes\":{},\"id\":\"1263\",\"type\":\"Toolbar\"},{\"attributes\":{},\"id\":\"1311\",\"type\":\"AllLabels\"},{\"attributes\":{},\"id\":\"1259\",\"type\":\"LinearScale\"},{\"attributes\":{},\"id\":\"1312\",\"type\":\"UnionRenderers\"},{\"attributes\":{},\"id\":\"1313\",\"type\":\"Selection\"},{\"attributes\":{\"color_mapper\":{\"id\":\"1269\"},\"dh\":{\"value\":33},\"dw\":{\"value\":32},\"global_alpha\":{\"value\":0.1},\"image\":{\"field\":\"image\"},\"x\":{\"value\":0},\"y\":{\"value\":0}},\"id\":\"1268\",\"type\":\"Image\"},{\"attributes\":{\"axis_label\":\"source tokens\",\"coordinates\":null,\"formatter\":{\"id\":\"1310\"},\"group\":null,\"major_label_orientation\":45,\"major_label_overrides\":{\"0.5\":\"_BOS_\",\"1.5\":\"\\u0430\\u043f\\u0430\\u0440\\u0442\\u0430\\u043c\\u0435\\u043d\\u0442\\u044b\",\"10.5\":\"\\u0441\\u0430\\u0434\\u043e\\u043c\",\"11.5\":\",\",\"12.5\":\"\\u043a\\u043e\\u043d\\u0434\\u0438\\u0446\\u0438\\u043e\\u043d\\u0435\\u0440\\u043e\\u043c\",\"13.5\":\"\\u0438\",\"14.5\":\"\\u0442\\u0435\\u0440\\u0440\\u0430\\u0441\\u043e\\u0439\",\"15.5\":\"\\u0434\\u043b\\u044f\",\"16.5\":\"\\u0437\\u0430\\u0433\\u0430\\u0440\\u0430\",\"17.5\":\"\\u0440\\u0430\\u0441\\u043f\\u043e\\u043b\\u043e\\u0436\\u0435\\u043d\\u044b\",\"18.5\":\"\\u0432\",\"19.5\":\"5\",\"2.5\":\"\\u0432\",\"20.5\":\"\\u043c\\u0438\\u043d\\u0443\\u0442\\u0430\\u0445\",\"21.5\":\"\\u0445\\u043e\\u0434\\u044c\\u0431\\u044b\",\"22.5\":\"\\u043e\\u0442\",\"23.5\":\"\\u043f\\u043b\\u044f\\u0436\\u0430\",\"24.5\":\"\\u043d\\u0430\",\"25.5\":\"\\u043a\\u0443\\u0440\\u043e\\u0440\\u0442\\u0435\",\"26.5\":\"\\u043a\\u0430@@\",\"27.5\":\"\\u0431\\u043e\",\"28.5\":\"-\",\"29.5\":\"\\u0440\\u043e\\u0439\",\"3.5\":\"\\u043f\\u0435\\u043d\\u0442@@\",\"30.5\":\".\",\"31.5\":\"_EOS_\",\"4.5\":\"\\u0445\\u0430\\u0443\\u0441\\u0435\",\"5.5\":\"\\u0441\",\"6.5\":\"\\u043e\\u0431\\u0449\\u0438\\u043c\",\"7.5\":\"\\u043e\\u0442\\u043a\\u0440\\u044b\\u0442\\u044b\\u043c\",\"8.5\":\"\\u0431\\u0430\\u0441\\u0441\\u0435\\u0439\\u043d\\u043e\\u043c\",\"9.5\":\",\"},\"major_label_policy\":{\"id\":\"1311\"},\"ticker\":{\"id\":\"1277\"}},\"id\":\"1276\",\"type\":\"LinearAxis\"},{\"attributes\":{\"palette\":[\"#000000\",\"#252525\",\"#525252\",\"#737373\",\"#969696\",\"#bdbdbd\",\"#d9d9d9\",\"#f0f0f0\",\"#ffffff\"]},\"id\":\"1269\",\"type\":\"LinearColorMapper\"},{\"attributes\":{\"ticks\":[0.5,1.5,2.5,3.5,4.5,5.5,6.5,7.5,8.5,9.5,10.5,11.5,12.5,13.5,14.5,15.5,16.5,17.5,18.5,19.5,20.5,21.5,22.5,23.5,24.5,25.5,26.5,27.5,28.5,29.5,30.5,31.5,32.5]},\"id\":\"1280\",\"type\":\"FixedTicker\"},{\"attributes\":{},\"id\":\"1261\",\"type\":\"LinearScale\"},{\"attributes\":{\"coordinates\":null,\"data_source\":{\"id\":\"1264\"},\"glyph\":{\"id\":\"1265\"},\"group\":null,\"hover_glyph\":null,\"muted_glyph\":{\"id\":\"1271\"},\"nonselection_glyph\":{\"id\":\"1268\"},\"view\":{\"id\":\"1275\"}},\"id\":\"1274\",\"type\":\"GlyphRenderer\"},{\"attributes\":{\"color_mapper\":{\"id\":\"1272\"},\"dh\":{\"value\":33},\"dw\":{\"value\":32},\"global_alpha\":{\"value\":0.2},\"image\":{\"field\":\"image\"},\"x\":{\"value\":0},\"y\":{\"value\":0}},\"id\":\"1271\",\"type\":\"Image\"},{\"attributes\":{\"palette\":[\"#000000\",\"#252525\",\"#525252\",\"#737373\",\"#969696\",\"#bdbdbd\",\"#d9d9d9\",\"#f0f0f0\",\"#ffffff\"]},\"id\":\"1266\",\"type\":\"LinearColorMapper\"},{\"attributes\":{\"end\":32},\"id\":\"1255\",\"type\":\"Range1d\"},{\"attributes\":{\"color_mapper\":{\"id\":\"1266\"},\"dh\":{\"value\":33},\"dw\":{\"value\":32},\"image\":{\"field\":\"image\"},\"x\":{\"value\":0},\"y\":{\"value\":0}},\"id\":\"1265\",\"type\":\"Image\"},{\"attributes\":{\"coordinates\":null,\"group\":null},\"id\":\"1306\",\"type\":\"Title\"},{\"attributes\":{\"axis_label\":\"translation tokens\",\"coordinates\":null,\"formatter\":{\"id\":\"1308\"},\"group\":null,\"major_label_overrides\":{\"0.5\":\"_EOS_\",\"1.5\":\".\",\"10.5\":\"a\",\"11.5\":\"with\",\"12.5\":\"garden\",\"13.5\":\"a\",\"14.5\":\",\",\"15.5\":\"garden\",\"16.5\":\"a\",\"17.5\":\"with\",\"18.5\":\"garden\",\"19.5\":\"a\",\"2.5\":\"terrace\",\"20.5\":\"features\",\"21.5\":\"apartment\",\"22.5\":\"this\",\"23.5\":\",\",\"24.5\":\"beach\",\"25.5\":\"raki\",\"26.5\":\"lout@@\",\"27.5\":\"in\",\"28.5\":\"beach\",\"29.5\":\"the\",\"3.5\":\"sun\",\"30.5\":\"in\",\"31.5\":\"located\",\"32.5\":\"_BOS_\",\"4.5\":\"a\",\"5.5\":\"and\",\"6.5\":\"terrace\",\"7.5\":\"sun\",\"8.5\":\",\",\"9.5\":\"garden\"},\"major_label_policy\":{\"id\":\"1309\"},\"ticker\":{\"id\":\"1280\"}},\"id\":\"1279\",\"type\":\"LinearAxis\"},{\"attributes\":{\"palette\":[\"#000000\",\"#252525\",\"#525252\",\"#737373\",\"#969696\",\"#bdbdbd\",\"#d9d9d9\",\"#f0f0f0\",\"#ffffff\"]},\"id\":\"1272\",\"type\":\"LinearColorMapper\"}],\"root_ids\":[\"1254\"]},\"title\":\"Bokeh Application\",\"version\":\"2.4.3\"}};\n",
              "  const render_items = [{\"docid\":\"6222ed1a-1bcf-4143-8711-cce315c2bf8c\",\"root_ids\":[\"1254\"],\"roots\":{\"1254\":\"14fe282a-fe5b-47a4-8a87-e493049d9e1c\"}}];\n",
              "  root.Bokeh.embed.embed_items_notebook(docs_json, render_items);\n",
              "  }\n",
              "  if (root.Bokeh !== undefined) {\n",
              "    embed_document(root);\n",
              "  } else {\n",
              "    let attempts = 0;\n",
              "    const timer = setInterval(function(root) {\n",
              "      if (root.Bokeh !== undefined) {\n",
              "        clearInterval(timer);\n",
              "        embed_document(root);\n",
              "      } else {\n",
              "        attempts++;\n",
              "        if (attempts > 100) {\n",
              "          clearInterval(timer);\n",
              "          console.log(\"Bokeh: ERROR: Unable to run BokehJS code because BokehJS library is missing\");\n",
              "        }\n",
              "      }\n",
              "    }, 10, root)\n",
              "  }\n",
              "})(window);"
            ],
            "application/vnd.bokehjs_exec.v0+json": ""
          },
          "metadata": {
            "application/vnd.bokehjs_exec.v0+json": {
              "id": "1254"
            }
          }
        },
        {
          "output_type": "display_data",
          "data": {
            "text/html": [
              "\n",
              "  <div class=\"bk-root\" id=\"c3f06545-de26-468a-8bcb-a3c4e3e7523c\" data-root-id=\"1354\"></div>\n"
            ]
          },
          "metadata": {}
        },
        {
          "output_type": "display_data",
          "data": {
            "application/javascript": [
              "(function(root) {\n",
              "  function embed_document(root) {\n",
              "  const docs_json = {\"864322c3-8534-43e4-acec-8e8ecff2c007\":{\"defs\":[],\"roots\":{\"references\":[{\"attributes\":{\"above\":[{\"id\":\"1376\"}],\"left\":[{\"id\":\"1379\"}],\"renderers\":[{\"id\":\"1374\"}],\"title\":{\"id\":\"1414\"},\"toolbar\":{\"id\":\"1363\"},\"x_range\":{\"id\":\"1355\"},\"x_scale\":{\"id\":\"1359\"},\"y_range\":{\"id\":\"1357\"},\"y_scale\":{\"id\":\"1361\"}},\"id\":\"1354\",\"subtype\":\"Figure\",\"type\":\"Plot\"},{\"attributes\":{},\"id\":\"1421\",\"type\":\"Selection\"},{\"attributes\":{\"coordinates\":null,\"group\":null},\"id\":\"1414\",\"type\":\"Title\"},{\"attributes\":{\"axis_label\":\"source tokens\",\"coordinates\":null,\"formatter\":{\"id\":\"1418\"},\"group\":null,\"major_label_orientation\":45,\"major_label_overrides\":{\"0.5\":\"_BOS_\",\"1.5\":\"\\u0430\\u043f\\u0430\\u0440\\u0442\\u0430\\u043c\\u0435\\u043d\\u0442\\u044b\",\"10.5\":\"square\",\"11.5\":\"\\u043d\\u0430\\u0445\\u043e\\u0434\\u044f\\u0442\\u0441\\u044f\",\"12.5\":\"\\u0432\",\"13.5\":\"\\u043c\\u043e\\u0441\\u043a\\u0432\\u0435\",\"14.5\":\",\",\"15.5\":\"\\u0432\",\"16.5\":\"200\",\"17.5\":\"\\u043c\\u0435\\u0442\\u0440\\u0430\\u0445\",\"18.5\":\"\\u043e\\u0442\",\"19.5\":\"\\u0431\\u043e\\u043b\\u044c\\u0448\\u043e\\u0433\\u043e\",\"2.5\":\"mo@@\",\"20.5\":\"\\u0442\\u0435\\u0430\\u0442\\u0440\\u0430\",\"21.5\":\".\",\"22.5\":\"_EOS_\",\"3.5\":\"s@@\",\"4.5\":\"co@@\",\"5.5\":\"w\",\"6.5\":\"point\",\"7.5\":\"-\",\"8.5\":\"loft\",\"9.5\":\"red\"},\"major_label_policy\":{\"id\":\"1419\"},\"ticker\":{\"id\":\"1377\"}},\"id\":\"1376\",\"type\":\"LinearAxis\"},{\"attributes\":{},\"id\":\"1416\",\"type\":\"BasicTickFormatter\"},{\"attributes\":{\"palette\":[\"#000000\",\"#252525\",\"#525252\",\"#737373\",\"#969696\",\"#bdbdbd\",\"#d9d9d9\",\"#f0f0f0\",\"#ffffff\"]},\"id\":\"1369\",\"type\":\"LinearColorMapper\"},{\"attributes\":{},\"id\":\"1417\",\"type\":\"AllLabels\"},{\"attributes\":{},\"id\":\"1363\",\"type\":\"Toolbar\"},{\"attributes\":{},\"id\":\"1418\",\"type\":\"BasicTickFormatter\"},{\"attributes\":{\"color_mapper\":{\"id\":\"1369\"},\"dh\":{\"value\":18},\"dw\":{\"value\":23},\"global_alpha\":{\"value\":0.1},\"image\":{\"field\":\"image\"},\"x\":{\"value\":0},\"y\":{\"value\":0}},\"id\":\"1368\",\"type\":\"Image\"},{\"attributes\":{\"data\":{\"image\":[{\"__ndarray__\":\"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\",\"dtype\":\"float32\",\"order\":\"little\",\"shape\":[18,23]}]},\"selected\":{\"id\":\"1421\"},\"selection_policy\":{\"id\":\"1420\"}},\"id\":\"1364\",\"type\":\"ColumnDataSource\"},{\"attributes\":{},\"id\":\"1420\",\"type\":\"UnionRenderers\"},{\"attributes\":{\"coordinates\":null,\"data_source\":{\"id\":\"1364\"},\"glyph\":{\"id\":\"1365\"},\"group\":null,\"hover_glyph\":null,\"muted_glyph\":{\"id\":\"1371\"},\"nonselection_glyph\":{\"id\":\"1368\"},\"view\":{\"id\":\"1375\"}},\"id\":\"1374\",\"type\":\"GlyphRenderer\"},{\"attributes\":{\"palette\":[\"#000000\",\"#252525\",\"#525252\",\"#737373\",\"#969696\",\"#bdbdbd\",\"#d9d9d9\",\"#f0f0f0\",\"#ffffff\"]},\"id\":\"1366\",\"type\":\"LinearColorMapper\"},{\"attributes\":{\"color_mapper\":{\"id\":\"1372\"},\"dh\":{\"value\":18},\"dw\":{\"value\":23},\"global_alpha\":{\"value\":0.2},\"image\":{\"field\":\"image\"},\"x\":{\"value\":0},\"y\":{\"value\":0}},\"id\":\"1371\",\"type\":\"Image\"},{\"attributes\":{},\"id\":\"1361\",\"type\":\"LinearScale\"},{\"attributes\":{\"ticks\":[0.5,1.5,2.5,3.5,4.5,5.5,6.5,7.5,8.5,9.5,10.5,11.5,12.5,13.5,14.5,15.5,16.5,17.5]},\"id\":\"1380\",\"type\":\"FixedTicker\"},{\"attributes\":{\"color_mapper\":{\"id\":\"1366\"},\"dh\":{\"value\":18},\"dw\":{\"value\":23},\"image\":{\"field\":\"image\"},\"x\":{\"value\":0},\"y\":{\"value\":0}},\"id\":\"1365\",\"type\":\"Image\"},{\"attributes\":{},\"id\":\"1419\",\"type\":\"AllLabels\"},{\"attributes\":{\"end\":23},\"id\":\"1355\",\"type\":\"Range1d\"},{\"attributes\":{\"axis_label\":\"translation tokens\",\"coordinates\":null,\"formatter\":{\"id\":\"1416\"},\"group\":null,\"major_label_overrides\":{\"0.5\":\"_EOS_\",\"1.5\":\".\",\"10.5\":\"in\",\"11.5\":\"apartment\",\"12.5\":\"this\",\"13.5\":\",\",\"14.5\":\"moscow\",\"15.5\":\"in\",\"16.5\":\"located\",\"17.5\":\"_BOS_\",\"2.5\":\"beach\",\"3.5\":\"nearest\",\"4.5\":\"the\",\"5.5\":\"from\",\"6.5\":\"metres\",\"7.5\":\"200\",\"8.5\":\",\",\"9.5\":\"paris\"},\"major_label_policy\":{\"id\":\"1417\"},\"ticker\":{\"id\":\"1380\"}},\"id\":\"1379\",\"type\":\"LinearAxis\"},{\"attributes\":{\"palette\":[\"#000000\",\"#252525\",\"#525252\",\"#737373\",\"#969696\",\"#bdbdbd\",\"#d9d9d9\",\"#f0f0f0\",\"#ffffff\"]},\"id\":\"1372\",\"type\":\"LinearColorMapper\"},{\"attributes\":{\"source\":{\"id\":\"1364\"}},\"id\":\"1375\",\"type\":\"CDSView\"},{\"attributes\":{},\"id\":\"1359\",\"type\":\"LinearScale\"},{\"attributes\":{\"end\":18},\"id\":\"1357\",\"type\":\"Range1d\"},{\"attributes\":{\"ticks\":[0.5,1.5,2.5,3.5,4.5,5.5,6.5,7.5,8.5,9.5,10.5,11.5,12.5,13.5,14.5,15.5,16.5,17.5,18.5,19.5,20.5,21.5,22.5]},\"id\":\"1377\",\"type\":\"FixedTicker\"}],\"root_ids\":[\"1354\"]},\"title\":\"Bokeh Application\",\"version\":\"2.4.3\"}};\n",
              "  const render_items = [{\"docid\":\"864322c3-8534-43e4-acec-8e8ecff2c007\",\"root_ids\":[\"1354\"],\"roots\":{\"1354\":\"c3f06545-de26-468a-8bcb-a3c4e3e7523c\"}}];\n",
              "  root.Bokeh.embed.embed_items_notebook(docs_json, render_items);\n",
              "  }\n",
              "  if (root.Bokeh !== undefined) {\n",
              "    embed_document(root);\n",
              "  } else {\n",
              "    let attempts = 0;\n",
              "    const timer = setInterval(function(root) {\n",
              "      if (root.Bokeh !== undefined) {\n",
              "        clearInterval(timer);\n",
              "        embed_document(root);\n",
              "      } else {\n",
              "        attempts++;\n",
              "        if (attempts > 100) {\n",
              "          clearInterval(timer);\n",
              "          console.log(\"Bokeh: ERROR: Unable to run BokehJS code because BokehJS library is missing\");\n",
              "        }\n",
              "      }\n",
              "    }, 10, root)\n",
              "  }\n",
              "})(window);"
            ],
            "application/vnd.bokehjs_exec.v0+json": ""
          },
          "metadata": {
            "application/vnd.bokehjs_exec.v0+json": {
              "id": "1354"
            }
          }
        }
      ]
    },
    {
      "cell_type": "markdown",
      "source": [
        "__Note 1:__ If the attention maps are not iterpretable, try starting encoder from zeros (instead of dec_start), forcing model to use attention.\n",
        "\n",
        "__Note 2:__ If you're studying this course as a YSDA student, please submit __attention screenshots__ alongside your notebook."
      ],
      "metadata": {
        "id": "mvCekQucMPSc"
      }
    },
    {
      "cell_type": "markdown",
      "source": [
        "## Goind deeper (2++ points each)\n",
        "\n",
        "We want you to find the best model for the task. Use everything you know.\n",
        "\n",
        "* different recurrent units: rnn/gru/lstm; deeper architectures\n",
        "* bidirectional encoder, different attention methods for decoder (additive, dot-product, multi-head)\n",
        "* word dropout, training schedules, anything you can imagine\n",
        "* replace greedy inference with beam search\n",
        "\n",
        "For a better grasp of seq2seq We recommend you to conduct at least one experiment from one of the bullet-points or your alternative ideas. As usual, describe what you tried and what results you obtained in a short report."
      ],
      "metadata": {
        "id": "pbIIngNVlrtt"
      }
    },
    {
      "cell_type": "markdown",
      "source": [
        "`[your report/log here or anywhere you please]`"
      ],
      "metadata": {
        "id": "2rzAj_xtlrtt"
      }
    },
    {
      "cell_type": "markdown",
      "source": [
        "## LSTM based attention model"
      ],
      "metadata": {
        "id": "FDxO5kLb964h"
      }
    },
    {
      "cell_type": "code",
      "source": [
        "from torch.nn.utils.rnn import pad_packed_sequence, pack_padded_sequence\n",
        "\n",
        "class LSTMAttentiveModel(BasicModel):\n",
        "    def __init__(self, inp_voc, out_voc,\n",
        "                 emb_size=64, hid_size=128, attn_size=128):\n",
        "        \"\"\" Translation model that uses attention. See instructions above. \"\"\"\n",
        "        nn.Module.__init__(self)  # initialize base class to track sub-layers, trainable variables, etc.\n",
        "        super().__init__(inp_voc, out_voc)\n",
        "        self.enc0 = nn.LSTM(emb_size, hid_size, batch_first=True)\n",
        "        self.dec_start_cell = nn.Linear(hid_size, hid_size)\n",
        "        self.dec0 = nn.LSTMCell(emb_size, hid_size)\n",
        "        self.attention = AttentionLayer('dec_attention', hid_size, hid_size, hid_size=attn_size)\n",
        "        self.dec_linear = nn.Linear(2 * hid_size, hid_size)\n",
        "        \n",
        "        \n",
        "\n",
        "    def encode(self, inp, **flags):\n",
        "        \"\"\"\n",
        "        Takes symbolic input sequence, computes initial state\n",
        "        :param inp: matrix of input tokens [batch, time]\n",
        "        :return: a list of initial decoder state tensors\n",
        "        \"\"\"\n",
        "        \n",
        "        # encode input sequence, create initial decoder states\n",
        "        inp_emb = self.emb_inp(inp)\n",
        "        batch_size = inp.shape[0]\n",
        "        enc_mask = model.inp_voc.compute_mask(inp)\n",
        "        lengths = (inp != self.inp_voc.eos_ix).to(torch.int64).sum(dim=1).clamp_max(inp.shape[1] - 1)\n",
        "        max_len = torch.max(lengths) + 1\n",
        "\n",
        "\n",
        "        enc_packed = pack_padded_sequence(inp_emb, lengths.cpu(), batch_first=True,\n",
        "                                                     enforce_sorted=False)\n",
        "        \n",
        "        enc_seq, (hidden_states, c) = self.enc0(enc_packed)\n",
        "        enc_seq, _ = pad_packed_sequence(enc_seq, batch_first=True, total_length=max_len)\n",
        "\n",
        " \n",
        "\n",
        "        last_state = enc_seq[torch.arange(len(enc_seq)), lengths]\n",
        "\n",
        "        dec_start = self.dec_start(last_state)\n",
        "        cell_last_state = self.dec_start_cell(c.reshape(last_state.shape))\n",
        "\n",
        "        \n",
        "        # apply attention layer from initial decoder hidden state\n",
        "        first_attn_result, first_attn_probas = self.attention(enc_seq, dec_start, enc_mask)\n",
        "        \n",
        "        # Build first state: include\n",
        "        # * initial states for decoder recurrent layers\n",
        "        # * encoder sequence and encoder attn mask (for attention)\n",
        "        # * make sure that last state item is attention probabilities tensor\n",
        "        \n",
        "        first_state = [dec_start, cell_last_state, \n",
        "                       first_attn_result, enc_seq, enc_mask, first_attn_probas]\n",
        "        return first_state\n",
        "   \n",
        "    def decode_step(self, prev_state, prev_tokens, **flags):\n",
        "        \"\"\"\n",
        "        Takes previous decoder state and tokens, returns new state and logits for next tokens\n",
        "        :param prev_state: a list of previous decoder state tensors\n",
        "        :param prev_tokens: previous output tokens, an int vector of [batch_size]\n",
        "        :return: a list of next decoder state tensors, a tensor of logits [batch, n_tokens]\n",
        "        \"\"\"\n",
        "        [prev_dec_state, prev_cell_state, prev_attn_result, enc_seq, enc_mask, prev_attn_probas] = prev_state\n",
        "\n",
        "\n",
        "        prev_plus_attn = self.dec_linear(torch.cat((prev_attn_result, prev_dec_state), dim = 1))\n",
        "        \n",
        "        out_emb = self.emb_out(prev_tokens)\n",
        "        \n",
        "        new_dec_state, new_cell_state = self.dec0(out_emb, (prev_plus_attn, prev_cell_state))\n",
        "        output_logits = self.logits(new_dec_state)\n",
        "        \n",
        "        new_attn_result, new_attn_probas = self.attention(enc_seq, new_dec_state, enc_mask)\n",
        "        \n",
        "        full_state = [new_dec_state, new_cell_state, new_attn_result, enc_seq, enc_mask, new_attn_probas]\n",
        "        return [full_state, output_logits]\n"
      ],
      "metadata": {
        "id": "MBBEUzF-luo-"
      },
      "execution_count": 20,
      "outputs": []
    },
    {
      "cell_type": "code",
      "source": [
        "# debugging area\n",
        "model = LSTMAttentiveModel(inp_voc, out_voc).to(device)\n",
        "\n",
        "dummy_inp_tokens = inp_voc.to_matrix(sorted(train_inp, key=len)[5:10]).to(device)\n",
        "dummy_out_tokens = out_voc.to_matrix(sorted(train_out, key=len)[5:10]).to(device)\n",
        "\n",
        "h0 = model.encode(dummy_inp_tokens)\n",
        "h1, logits1 = model.decode_step(h0, torch.arange(len(dummy_inp_tokens), device=device))\n",
        "\n",
        "\n",
        "logits_seq = model.decode(h0, dummy_out_tokens)\n",
        "assert logits_seq.shape == (dummy_out_tokens.shape[0], dummy_out_tokens.shape[1], len(out_voc))\n",
        "\n",
        "# # full forward\n",
        "logits_seq2 = model(dummy_inp_tokens, dummy_out_tokens)\n",
        "assert logits_seq2.shape == logits_seq.shape"
      ],
      "metadata": {
        "id": "BfthX6Frlulz"
      },
      "execution_count": 21,
      "outputs": []
    },
    {
      "cell_type": "code",
      "source": [
        "compute_bleu(model, dev_inp, dev_out)"
      ],
      "metadata": {
        "colab": {
          "base_uri": "https://localhost:8080/"
        },
        "id": "TiM6gCvUluib",
        "outputId": "271d10f4-b3f7-4ddd-8037-63f2a1b3c45b"
      },
      "execution_count": 22,
      "outputs": [
        {
          "output_type": "execute_result",
          "data": {
            "text/plain": [
              "0.002603643770999224"
            ]
          },
          "metadata": {},
          "execution_count": 22
        }
      ]
    },
    {
      "cell_type": "code",
      "source": [
        "model = LSTMAttentiveModel(inp_voc, out_voc).to(device)\n",
        "metrics = train_model(model)"
      ],
      "metadata": {
        "colab": {
          "base_uri": "https://localhost:8080/",
          "height": 426
        },
        "id": "2QX_DEaKlue-",
        "outputId": "005b757f-0b65-4680-eb52-34197a55021e"
      },
      "execution_count": 23,
      "outputs": [
        {
          "output_type": "display_data",
          "data": {
            "text/plain": [
              "<Figure size 1200x400 with 2 Axes>"
            ],
            "image/png": "[encoded data removed]"
          },
          "metadata": {}
        },
        {
          "output_type": "stream",
          "name": "stdout",
          "text": [
            "Mean loss=1.646\n"
          ]
        },
        {
          "output_type": "stream",
          "name": "stderr",
          "text": [
            "100%|██████████| 25000/25000 [39:25<00:00, 10.57it/s]\n"
          ]
        }
      ]
    },
    {
      "cell_type": "markdown",
      "source": [
        "### Final BLEU"
      ],
      "metadata": {
        "id": "nrF873z5APd2"
      }
    },
    {
      "cell_type": "code",
      "source": [
        "compute_bleu(model, dev_inp, dev_out)"
      ],
      "metadata": {
        "colab": {
          "base_uri": "https://localhost:8080/"
        },
        "id": "dts2aDPvluVG",
        "outputId": "0e47c3d7-6085-4aee-ed8d-0db3759625c1"
      },
      "execution_count": 24,
      "outputs": [
        {
          "output_type": "execute_result",
          "data": {
            "text/plain": [
              "22.352002214950986"
            ]
          },
          "metadata": {},
          "execution_count": 24
        }
      ]
    },
    {
      "cell_type": "code",
      "source": [
        "for inp_line, trans_line in zip(dev_inp[::500], model.translate_lines(dev_inp[::500])[0]):\n",
        "    print(inp_line)\n",
        "    print(trans_line)\n",
        "    print()"
      ],
      "metadata": {
        "colab": {
          "base_uri": "https://localhost:8080/"
        },
        "id": "Z82QaMVoASr-",
        "outputId": "ce11e834-b006-4225-8cf1-ccda4a1847c3"
      },
      "execution_count": 25,
      "outputs": [
        {
          "output_type": "stream",
          "name": "stdout",
          "text": [
            "в распоряжении гостей общая кухня и общая гостиная .\n",
            "you will find a shared kitchen and a shared room .\n",
            "\n",
            "кроме того , предоставляется прокат велосипедов , услуги трансфера и бесплатная парковка .\n",
            "bicycle rental is available , and guests can also rent free parking .\n",
            "\n",
            "расстояние до города ки@@ сси@@ м@@ ми составляет 26 км .\n",
            "mono@@ poli is 26 km away .\n",
            "\n",
            "апартаменты в пент@@ хаусе с общим открытым бассейном , садом , кондиционером и террасой для загара расположены в 5 минутах ходьбы от пляжа на курорте ка@@ бо - рой .\n",
            "located in a 5 - minute walk from the beach in the centre of the beach , this apartment features a quiet , furnished living room and a terrace .\n",
            "\n",
            "апартаменты mo@@ s@@ co@@ w point - loft red square находятся в москве , в 200 метрах от большого театра .\n",
            "located 200 metres from the city ’ s centre of the city , the cycladic - style apartment is located in the centre of kotor .\n",
            "\n",
            "в вашем распоряжении собственная ванная комната с душем и полотенцами .\n",
            "featuring a shower , private bathroom also comes with towels .\n",
            "\n"
          ]
        }
      ]
    },
    {
      "cell_type": "markdown",
      "source": [
        "## RNN based attention model"
      ],
      "metadata": {
        "id": "JTyTWBIs-Bdh"
      }
    },
    {
      "cell_type": "code",
      "source": [
        "class RNNAttentiveModel(BasicModel):\n",
        "    def __init__(self, inp_voc, out_voc,\n",
        "                 emb_size=64, hid_size=128, attn_size=128):\n",
        "        \"\"\" Translation model that uses attention. See instructions above. \"\"\"\n",
        "        nn.Module.__init__(self)  # initialize base class to track sub-layers, trainable variables, etc.\n",
        "        super().__init__(inp_voc, out_voc)\n",
        "        self.inp_voc, self.out_voc = inp_voc, out_voc\n",
        "        self.hid_size = hid_size\n",
        "        self.enc0 = nn.RNN(emb_size, hid_size, batch_first=True)\n",
        "        self.dec0 = nn.RNNCell(emb_size, hid_size)\n",
        "        self.attention = AttentionLayer('dec_attention', hid_size, hid_size, hid_size=attn_size)\n",
        "        self.dec_linear = nn.Linear(2 * hid_size, hid_size)\n",
        "        \n",
        "        \n",
        "\n",
        "    def encode(self, inp, **flags):\n",
        "        \"\"\"\n",
        "        Takes symbolic input sequence, computes initial state\n",
        "        :param inp: matrix of input tokens [batch, time]\n",
        "        :return: a list of initial decoder state tensors\n",
        "        \"\"\"\n",
        "        \n",
        "        # encode input sequence, create initial decoder states\n",
        "        inp_emb = self.emb_inp(inp)\n",
        "        batch_size = inp.shape[0]\n",
        "        enc_seq, [last_state_but_not_really] = self.enc0(inp_emb)\n",
        "        lengths = (inp != self.inp_voc.eos_ix).to(torch.int64).sum(dim=1).clamp_max(inp.shape[1] - 1)\n",
        "        last_state = enc_seq[torch.arange(len(enc_seq)), lengths]\n",
        "        dec_start = self.dec_start(last_state)\n",
        "        dec_start_zeroes = torch.zeros_like(dec_start)\n",
        "        \n",
        "        enc_mask = model.inp_voc.compute_mask(inp)\n",
        "        \n",
        "        # apply attention layer from initial decoder hidden state\n",
        "        first_attn_result, first_attn_probas = self.attention(enc_seq, dec_start_zeroes, enc_mask)\n",
        "        \n",
        "        # Build first state: include\n",
        "        # * initial states for decoder recurrent layers\n",
        "        # * encoder sequence and encoder attn mask (for attention)\n",
        "        # * make sure that last state item is attention probabilities tensor\n",
        "        \n",
        "        first_state = [dec_start, first_attn_result, enc_seq, enc_mask, first_attn_probas]\n",
        "        return first_state\n",
        "   \n",
        "    def decode_step(self, prev_state, prev_tokens, **flags):\n",
        "        \"\"\"\n",
        "        Takes previous decoder state and tokens, returns new state and logits for next tokens\n",
        "        :param prev_state: a list of previous decoder state tensors\n",
        "        :param prev_tokens: previous output tokens, an int vector of [batch_size]\n",
        "        :return: a list of next decoder state tensors, a tensor of logits [batch, n_tokens]\n",
        "        \"\"\"\n",
        "        [prev_dec_state, prev_attn_result, enc_seq, enc_mask, prev_attn_probas] = prev_state\n",
        "\n",
        "\n",
        "        prev_plus_attn = self.dec_linear(torch.cat((prev_attn_result, prev_dec_state), dim = 1))\n",
        "        \n",
        "        new_dec_state, output_logits = super().decode_step([prev_plus_attn], prev_tokens)\n",
        "        \n",
        "        new_attn_result, new_attn_probas = self.attention(enc_seq, new_dec_state[0], enc_mask)\n",
        "        \n",
        "        full_state = [new_dec_state[0], new_attn_result, enc_seq, enc_mask, new_attn_probas]\n",
        "        return [full_state, output_logits]\n"
      ],
      "metadata": {
        "id": "BAwhMmyq-BGC"
      },
      "execution_count": 26,
      "outputs": []
    },
    {
      "cell_type": "code",
      "source": [
        "# debugging area\n",
        "model = RNNAttentiveModel(inp_voc, out_voc).to(device)\n",
        "\n",
        "dummy_inp_tokens = inp_voc.to_matrix(sorted(train_inp, key=len)[5:10]).to(device)\n",
        "dummy_out_tokens = out_voc.to_matrix(sorted(train_out, key=len)[5:10]).to(device)\n",
        "\n",
        "h0 = model.encode(dummy_inp_tokens)\n",
        "h1, logits1 = model.decode_step(h0, torch.arange(len(dummy_inp_tokens), device=device))\n",
        "\n",
        "\n",
        "logits_seq = model.decode(h0, dummy_out_tokens)\n",
        "assert logits_seq.shape == (dummy_out_tokens.shape[0], dummy_out_tokens.shape[1], len(out_voc))\n",
        "\n",
        "# # full forward\n",
        "logits_seq2 = model(dummy_inp_tokens, dummy_out_tokens)\n",
        "assert logits_seq2.shape == logits_seq.shape"
      ],
      "metadata": {
        "id": "Kdzasi-c-BCa"
      },
      "execution_count": 27,
      "outputs": []
    },
    {
      "cell_type": "code",
      "source": [
        "compute_bleu(model, dev_inp, dev_out)"
      ],
      "metadata": {
        "colab": {
          "base_uri": "https://localhost:8080/"
        },
        "id": "BYi_LCv6-A_B",
        "outputId": "82b36121-2783-4be4-827f-805060930e5a"
      },
      "execution_count": 28,
      "outputs": [
        {
          "output_type": "execute_result",
          "data": {
            "text/plain": [
              "0.002163408567114131"
            ]
          },
          "metadata": {},
          "execution_count": 28
        }
      ]
    },
    {
      "cell_type": "code",
      "source": [
        "model = RNNAttentiveModel(inp_voc, out_voc).to(device)\n",
        "metrics = train_model(model)"
      ],
      "metadata": {
        "colab": {
          "base_uri": "https://localhost:8080/",
          "height": 426
        },
        "id": "dWK-1GsY-A1J",
        "outputId": "efae2341-c9e2-44ba-ad16-20b8b2e5b141"
      },
      "execution_count": 29,
      "outputs": [
        {
          "output_type": "display_data",
          "data": {
            "text/plain": [
              "<Figure size 1200x400 with 2 Axes>"
            ],
            "image/png": "[encoded data removed]"
          },
          "metadata": {}
        },
        {
          "output_type": "stream",
          "name": "stdout",
          "text": [
            "Mean loss=1.919\n"
          ]
        },
        {
          "output_type": "stream",
          "name": "stderr",
          "text": [
            "100%|██████████| 25000/25000 [38:52<00:00, 10.72it/s]\n"
          ]
        }
      ]
    },
    {
      "cell_type": "markdown",
      "source": [
        "### Final BLEU"
      ],
      "metadata": {
        "id": "87eYrfxkAiQl"
      }
    },
    {
      "cell_type": "code",
      "source": [
        "compute_bleu(model, dev_inp, dev_out)"
      ],
      "metadata": {
        "colab": {
          "base_uri": "https://localhost:8080/"
        },
        "id": "u7KkZb0NAdMp",
        "outputId": "e4979ca4-c757-4acd-f346-d1cf5f0d1701"
      },
      "execution_count": 30,
      "outputs": [
        {
          "output_type": "execute_result",
          "data": {
            "text/plain": [
              "19.409394990132853"
            ]
          },
          "metadata": {},
          "execution_count": 30
        }
      ]
    },
    {
      "cell_type": "code",
      "source": [
        "for inp_line, trans_line in zip(dev_inp[::500], model.translate_lines(dev_inp[::500])[0]):\n",
        "    print(inp_line)\n",
        "    print(trans_line)\n",
        "    print()"
      ],
      "metadata": {
        "colab": {
          "base_uri": "https://localhost:8080/"
        },
        "id": "X2S2UqRRAdHu",
        "outputId": "264e5a3b-9e50-4163-beab-0a4e81858357"
      },
      "execution_count": 31,
      "outputs": [
        {
          "output_type": "stream",
          "name": "stdout",
          "text": [
            "в распоряжении гостей общая кухня и общая гостиная .\n",
            "there is a shared kitchen and a shared kitchen .\n",
            "\n",
            "кроме того , предоставляется прокат велосипедов , услуги трансфера и бесплатная парковка .\n",
            "the property offers bike rental , free parking .\n",
            "\n",
            "расстояние до города ки@@ сси@@ м@@ ми составляет 26 км .\n",
            "the town of the city of the town of the town is 26 km away .\n",
            "\n",
            "апартаменты в пент@@ хаусе с общим открытым бассейном , садом , кондиционером и террасой для загара расположены в 5 минутах ходьбы от пляжа на курорте ка@@ бо - рой .\n",
            "a 5 - minute walk from the beach in the centre of the santa cruz .\n",
            "\n",
            "апартаменты mo@@ s@@ co@@ w point - loft red square находятся в москве , в 200 метрах от большого театра .\n",
            "the church of saint john is 200 metres from the property .\n",
            "\n",
            "в вашем распоряжении собственная ванная комната с душем и полотенцами .\n",
            "the private bathroom comes with a shower and towels .\n",
            "\n"
          ]
        }
      ]
    },
    {
      "cell_type": "markdown",
      "source": [
        "## Bidirectional encoder + GRU for both"
      ],
      "metadata": {
        "id": "dSQPIR0WYrTA"
      }
    },
    {
      "cell_type": "code",
      "source": [
        "class BidirEncAttentiveModel(BasicModel):\n",
        "    def __init__(self, inp_voc, out_voc,\n",
        "                 emb_size=64, hid_size=128, attn_size=128):\n",
        "        \"\"\" Translation model that uses attention. See instructions above. \"\"\"\n",
        "        nn.Module.__init__(self)  # initialize base class to track sub-layers, trainable variables, etc.\n",
        "        super().__init__(inp_voc, out_voc)\n",
        "        self.inp_voc, self.out_voc = inp_voc, out_voc\n",
        "        self.hid_size = hid_size\n",
        "        self.enc0 = nn.GRU(emb_size, hid_size, batch_first=True, bidirectional=True)\n",
        "        self.dec0 = nn.GRUCell(emb_size, 2 * hid_size)\n",
        "        self.dec_start = nn.Linear(2 * hid_size, 2 * hid_size)\n",
        "        self.attention = AttentionLayer('dec_attention', 2 * hid_size, 2 * hid_size, hid_size=attn_size)\n",
        "        self.dec_linear = nn.Linear(4 * hid_size, 2 * hid_size)\n",
        "        \n",
        "        self.logits = nn.Linear(2 * hid_size, len(out_voc))\n",
        "        \n",
        "        \n",
        "\n",
        "    def encode(self, inp, **flags):\n",
        "        \"\"\"\n",
        "        Takes symbolic input sequence, computes initial state\n",
        "        :param inp: matrix of input tokens [batch, time]\n",
        "        :return: a list of initial decoder state tensors\n",
        "        \"\"\"\n",
        "        \n",
        "        # encode input sequence, create initial decoder states\n",
        "        inp_emb = self.emb_inp(inp)\n",
        "        batch_size = inp.shape[0]\n",
        "        enc_seq, _ = self.enc0(inp_emb)\n",
        "        lengths = (inp != self.inp_voc.eos_ix).to(torch.int64).sum(dim=1).clamp_max(inp.shape[1] - 1)\n",
        "        last_state = enc_seq[torch.arange(len(enc_seq)), lengths]\n",
        "        dec_start = self.dec_start(last_state)\n",
        "        \n",
        "        enc_mask = model.inp_voc.compute_mask(inp)\n",
        "        \n",
        "        # apply attention layer from initial decoder hidden state\n",
        "        first_attn_result, first_attn_probas = self.attention(enc_seq, dec_start, enc_mask)\n",
        "        \n",
        "        # Build first state: include\n",
        "        # * initial states for decoder recurrent layers\n",
        "        # * encoder sequence and encoder attn mask (for attention)\n",
        "        # * make sure that last state item is attention probabilities tensor\n",
        "        \n",
        "        first_state = [dec_start, first_attn_result, enc_seq, enc_mask, first_attn_probas]\n",
        "        return first_state\n",
        "   \n",
        "    def decode_step(self, prev_state, prev_tokens, **flags):\n",
        "        \"\"\"\n",
        "        Takes previous decoder state and tokens, returns new state and logits for next tokens\n",
        "        :param prev_state: a list of previous decoder state tensors\n",
        "        :param prev_tokens: previous output tokens, an int vector of [batch_size]\n",
        "        :return: a list of next decoder state tensors, a tensor of logits [batch, n_tokens]\n",
        "        \"\"\"\n",
        "        [prev_dec_state, prev_attn_result, enc_seq, enc_mask, prev_attn_probas] = prev_state\n",
        "\n",
        "        prev_plus_attn = self.dec_linear(torch.cat((prev_attn_result, prev_dec_state), dim = 1))\n",
        "\n",
        "        \n",
        "        new_dec_state, output_logits = super().decode_step([prev_plus_attn], prev_tokens)\n",
        "        \n",
        "        new_attn_result, new_attn_probas = self.attention(enc_seq, new_dec_state[0], enc_mask)\n",
        "        \n",
        "        full_state = [new_dec_state[0], new_attn_result, enc_seq, enc_mask, new_attn_probas]\n",
        "        return [full_state, output_logits]"
      ],
      "metadata": {
        "id": "HLujQsrRYrHo"
      },
      "execution_count": 87,
      "outputs": []
    },
    {
      "cell_type": "code",
      "source": [
        "# debugging area\n",
        "model = BidirEncAttentiveModel(inp_voc, out_voc).to(device)\n",
        "\n",
        "dummy_inp_tokens = inp_voc.to_matrix(sorted(train_inp, key=len)[5:10]).to(device)\n",
        "dummy_out_tokens = out_voc.to_matrix(sorted(train_out, key=len)[5:10]).to(device)\n",
        "\n",
        "h0 = model.encode(dummy_inp_tokens)\n",
        "h1, logits1 = model.decode_step(h0, torch.arange(len(dummy_inp_tokens), device=device))\n",
        "\n",
        "\n",
        "logits_seq = model.decode(h0, dummy_out_tokens)\n",
        "assert logits_seq.shape == (dummy_out_tokens.shape[0], dummy_out_tokens.shape[1], len(out_voc))\n",
        "\n",
        "# # full forward\n",
        "logits_seq2 = model(dummy_inp_tokens, dummy_out_tokens)\n",
        "assert logits_seq2.shape == logits_seq.shape"
      ],
      "metadata": {
        "id": "yZEEoMPwYrCS"
      },
      "execution_count": 88,
      "outputs": []
    },
    {
      "cell_type": "code",
      "source": [
        "compute_bleu(model, dev_inp, dev_out)"
      ],
      "metadata": {
        "colab": {
          "base_uri": "https://localhost:8080/"
        },
        "id": "pwkCrtjmYq-v",
        "outputId": "4389e540-05bf-415b-b5ff-e3b6198c5d49"
      },
      "execution_count": 89,
      "outputs": [
        {
          "output_type": "execute_result",
          "data": {
            "text/plain": [
              "0.0016520282781050547"
            ]
          },
          "metadata": {},
          "execution_count": 89
        }
      ]
    },
    {
      "cell_type": "code",
      "source": [
        "model = BidirEncAttentiveModel(inp_voc, out_voc).to(device)\n",
        "metrics = train_model(model)"
      ],
      "metadata": {
        "colab": {
          "base_uri": "https://localhost:8080/",
          "height": 426
        },
        "id": "FqRDRA7PYq7f",
        "outputId": "a04b1a28-7d14-4b61-909a-b6cd1f03231c"
      },
      "execution_count": 90,
      "outputs": [
        {
          "output_type": "display_data",
          "data": {
            "text/plain": [
              "<Figure size 1200x400 with 2 Axes>"
            ],
            "image/png": "[encoded data removed]"
          },
          "metadata": {}
        },
        {
          "output_type": "stream",
          "name": "stdout",
          "text": [
            "Mean loss=1.064\n"
          ]
        },
        {
          "output_type": "stream",
          "name": "stderr",
          "text": [
            "\r100%|██████████| 25000/25000 [44:52<00:00,  9.29it/s]\n"
          ]
        }
      ]
    },
    {
      "cell_type": "code",
      "source": [
        "compute_bleu(model, dev_inp, dev_out)"
      ],
      "metadata": {
        "colab": {
          "base_uri": "https://localhost:8080/"
        },
        "id": "KfB8ytPSYq4-",
        "outputId": "8ca044cd-915f-4898-de15-3edc91236d06"
      },
      "execution_count": 91,
      "outputs": [
        {
          "output_type": "execute_result",
          "data": {
            "text/plain": [
              "24.8600597758939"
            ]
          },
          "metadata": {},
          "execution_count": 91
        }
      ]
    },
    {
      "cell_type": "code",
      "source": [
        "for inp_line, trans_line in zip(dev_inp[::500], model.translate_lines(dev_inp[::500])[0]):\n",
        "    print(inp_line)\n",
        "    print(trans_line)\n",
        "    print()"
      ],
      "metadata": {
        "colab": {
          "base_uri": "https://localhost:8080/"
        },
        "id": "AWgeMyqIYq1m",
        "outputId": "933dda7d-80b6-4ecf-af7b-1a22d8a695e8"
      },
      "execution_count": 78,
      "outputs": [
        {
          "output_type": "stream",
          "name": "stdout",
          "text": [
            "в распоряжении гостей общая кухня и общая гостиная .\n",
            "there is a shared kitchen and a common kitchen .\n",
            "\n",
            "кроме того , предоставляется прокат велосипедов , услуги трансфера и бесплатная парковка .\n",
            "bicycle rental and shuttle services are available for rent and bicycle rental .\n",
            "\n",
            "расстояние до города ки@@ сси@@ м@@ ми составляет 26 км .\n",
            "cal@@ r is about 45 km away .\n",
            "\n",
            "апартаменты в пент@@ хаусе с общим открытым бассейном , садом , кондиционером и террасой для загара расположены в 5 минутах ходьбы от пляжа на курорте ка@@ бо - рой .\n",
            "located 5 minutes ' walk from the beach in viña , this air - conditioned apartment features a garden and a sun terrace . it features a garden and a sun terrace . it features a garden and a sun terrace . it features a garden and a sun terrace . it features a garden and a sun terrace . it features a garden and a sun terrace . it features a garden and a sun terrace . it features a garden and a sun terrace . it features a garden and a sun terrace . it features a garden\n",
            "\n",
            "апартаменты mo@@ s@@ co@@ w point - loft red square находятся в москве , в 200 метрах от большого театра .\n",
            "apartament la@@ o - bahn hostel is located in moscow , 200 metres from the chateau .\n",
            "\n",
            "в вашем распоряжении собственная ванная комната с душем и полотенцами .\n",
            "featuring a shower , private bathroom also comes with towels .\n",
            "\n"
          ]
        }
      ]
    },
    {
      "cell_type": "code",
      "source": [],
      "metadata": {
        "id": "LtIKK8bhYqyP"
      },
      "execution_count": null,
      "outputs": []
    },
    {
      "cell_type": "markdown",
      "source": [
        "## Multihead Attention + Bidirectional Encoder + GRU"
      ],
      "metadata": {
        "id": "vAyCdqnY73oc"
      }
    },
    {
      "cell_type": "code",
      "source": [
        "class MultiHeadAttentiveModel(BasicModel):\n",
        "    def __init__(self, inp_voc, out_voc,\n",
        "                 emb_size=64, hid_size=128, attn_sizes=[128, 256, 256, 512]):\n",
        "        \"\"\" Translation model that uses attention. See instructions above. \"\"\"\n",
        "        nn.Module.__init__(self)  # initialize base class to track sub-layers, trainable variables, etc.\n",
        "        super().__init__(inp_voc, out_voc)\n",
        "        self.inp_voc, self.out_voc = inp_voc, out_voc\n",
        "        self.hid_size = hid_size\n",
        "        self.enc0 = nn.GRU(emb_size, hid_size, batch_first=True, bidirectional=True)\n",
        "        self.dec0 = nn.GRUCell(emb_size, 2 * hid_size)\n",
        "        self.dec_start = nn.Linear(2 * hid_size, 2 * hid_size)\n",
        "        self.attention_1 = AttentionLayer('dec_attention1', 2 * hid_size, 2 * hid_size, hid_size=attn_sizes[0])\n",
        "        self.attention_2 = AttentionLayer('dec_attention2', 2 * hid_size, 2 * hid_size, hid_size=attn_sizes[1])\n",
        "        self.attention_3 = AttentionLayer('dec_attention3', 2 * hid_size, 2 * hid_size, hid_size=attn_sizes[2])\n",
        "        self.attention_4 = AttentionLayer('dec_attention4', 2 * hid_size, 2 * hid_size, hid_size=attn_sizes[3])\n",
        "        self.attention_lin = nn.Linear(8 * hid_size, 2 * hid_size)\n",
        "        self.dec_linear = nn.Linear(4 * hid_size, 2 * hid_size)\n",
        "        \n",
        "        self.logits = nn.Linear(2 * hid_size, len(out_voc))\n",
        "        \n",
        "        \n",
        "\n",
        "    def encode(self, inp, **flags):\n",
        "        \"\"\"\n",
        "        Takes symbolic input sequence, computes initial state\n",
        "        :param inp: matrix of input tokens [batch, time]\n",
        "        :return: a list of initial decoder state tensors\n",
        "        \"\"\"\n",
        "        \n",
        "        # encode input sequence, create initial decoder states\n",
        "        inp_emb = self.emb_inp(inp)\n",
        "        batch_size = inp.shape[0]\n",
        "        enc_seq, _ = self.enc0(inp_emb)\n",
        "        lengths = (inp != self.inp_voc.eos_ix).to(torch.int64).sum(dim=1).clamp_max(inp.shape[1] - 1)\n",
        "        last_state = enc_seq[torch.arange(len(enc_seq)), lengths]\n",
        "        dec_start = self.dec_start(last_state)\n",
        "        \n",
        "        enc_mask = model.inp_voc.compute_mask(inp)\n",
        "        \n",
        "        # apply attention layer from initial decoder hidden state\n",
        "        first_attn_result_1, _ = self.attention_1(enc_seq, dec_start, enc_mask)\n",
        "        first_attn_result_2, _ = self.attention_2(enc_seq, dec_start, enc_mask)\n",
        "        first_attn_result_3, _ = self.attention_3(enc_seq, dec_start, enc_mask)\n",
        "        first_attn_result_4, _ = self.attention_4(enc_seq, dec_start, enc_mask)\n",
        "\n",
        "        attn_result =  self.attention_lin(torch.cat((first_attn_result_1, \n",
        "                                                     first_attn_result_2, \n",
        "                                                     first_attn_result_3, \n",
        "                                                     first_attn_result_4), dim=1))\n",
        "        \n",
        "        # Build first state: include\n",
        "        # * initial states for decoder recurrent layers\n",
        "        # * encoder sequence and encoder attn mask (for attention)\n",
        "        # * make sure that last state item is attention probabilities tensor\n",
        "        \n",
        "        first_state = [dec_start, attn_result, enc_seq, enc_mask]\n",
        "        return first_state\n",
        "   \n",
        "    def decode_step(self, prev_state, prev_tokens, **flags):\n",
        "        \"\"\"\n",
        "        Takes previous decoder state and tokens, returns new state and logits for next tokens\n",
        "        :param prev_state: a list of previous decoder state tensors\n",
        "        :param prev_tokens: previous output tokens, an int vector of [batch_size]\n",
        "        :return: a list of next decoder state tensors, a tensor of logits [batch, n_tokens]\n",
        "        \"\"\"\n",
        "        [prev_dec_state, prev_attn_result, enc_seq, enc_mask] = prev_state\n",
        "\n",
        "        prev_plus_attn = self.dec_linear(\n",
        "            torch.cat((prev_attn_result, prev_dec_state), dim = 1))\n",
        "\n",
        "        \n",
        "        new_dec_state, output_logits = super().decode_step([prev_plus_attn], prev_tokens)\n",
        "        \n",
        "        new_attn_result_1, _ = self.attention_1(enc_seq, new_dec_state[0], enc_mask)\n",
        "        new_attn_result_2, _ = self.attention_2(enc_seq, new_dec_state[0], enc_mask)\n",
        "        new_attn_result_3, _ = self.attention_3(enc_seq, new_dec_state[0], enc_mask)\n",
        "        new_attn_result_4, _ = self.attention_4(enc_seq, new_dec_state[0], enc_mask)\n",
        "\n",
        "        attn_result =  self.attention_lin(torch.cat((new_attn_result_1, \n",
        "                                                     new_attn_result_2, \n",
        "                                                     new_attn_result_3, \n",
        "                                                     new_attn_result_4), dim=1))\n",
        "        \n",
        "        full_state = [new_dec_state[0], attn_result, enc_seq, enc_mask]\n",
        "        return [full_state, output_logits]"
      ],
      "metadata": {
        "id": "kgP9yf6CAc-A"
      },
      "execution_count": 100,
      "outputs": []
    },
    {
      "cell_type": "code",
      "source": [
        "# debugging area\n",
        "model = MultiHeadAttentiveModel(inp_voc, out_voc).to(device)\n",
        "\n",
        "dummy_inp_tokens = inp_voc.to_matrix(sorted(train_inp, key=len)[5:10]).to(device)\n",
        "dummy_out_tokens = out_voc.to_matrix(sorted(train_out, key=len)[5:10]).to(device)\n",
        "\n",
        "h0 = model.encode(dummy_inp_tokens)\n",
        "h1, logits1 = model.decode_step(h0, torch.arange(len(dummy_inp_tokens), device=device))\n",
        "\n",
        "\n",
        "logits_seq = model.decode(h0, dummy_out_tokens)\n",
        "assert logits_seq.shape == (dummy_out_tokens.shape[0], dummy_out_tokens.shape[1], len(out_voc))\n",
        "\n",
        "# # full forward\n",
        "logits_seq2 = model(dummy_inp_tokens, dummy_out_tokens)\n",
        "assert logits_seq2.shape == logits_seq.shape"
      ],
      "metadata": {
        "id": "cF83KUFA8znk"
      },
      "execution_count": 101,
      "outputs": []
    },
    {
      "cell_type": "code",
      "source": [
        "compute_bleu(model, dev_inp, dev_out)"
      ],
      "metadata": {
        "colab": {
          "base_uri": "https://localhost:8080/"
        },
        "id": "y4JdcY4H8z6W",
        "outputId": "80a56a07-4420-44ca-fd87-66d1367aaf70"
      },
      "execution_count": 102,
      "outputs": [
        {
          "output_type": "execute_result",
          "data": {
            "text/plain": [
              "0.001675865787003573"
            ]
          },
          "metadata": {},
          "execution_count": 102
        }
      ]
    },
    {
      "cell_type": "code",
      "source": [
        "model = MultiHeadAttentiveModel(inp_voc, out_voc).to(device)\n",
        "metrics = train_model(model)"
      ],
      "metadata": {
        "colab": {
          "base_uri": "https://localhost:8080/",
          "height": 426
        },
        "id": "klKvmFAu80II",
        "outputId": "2ee5ea33-d3ba-4743-ca14-d5175bf37c10"
      },
      "execution_count": 103,
      "outputs": [
        {
          "output_type": "display_data",
          "data": {
            "text/plain": [
              "<Figure size 1200x400 with 2 Axes>"
            ],
            "image/png": "[encoded data removed]"
          },
          "metadata": {}
        },
        {
          "output_type": "stream",
          "name": "stdout",
          "text": [
            "Mean loss=1.083\n"
          ]
        },
        {
          "output_type": "stream",
          "name": "stderr",
          "text": [
            "100%|██████████| 25000/25000 [2:09:15<00:00,  3.22it/s]\n"
          ]
        }
      ]
    },
    {
      "cell_type": "code",
      "source": [
        "compute_bleu(model, dev_inp, dev_out)"
      ],
      "metadata": {
        "colab": {
          "base_uri": "https://localhost:8080/"
        },
        "id": "G02dEPf280ZY",
        "outputId": "c17c5e03-b2d1-405e-ec3d-e84c11656bdf"
      },
      "execution_count": 104,
      "outputs": [
        {
          "output_type": "execute_result",
          "data": {
            "text/plain": [
              "25.054259779275554"
            ]
          },
          "metadata": {},
          "execution_count": 104
        }
      ]
    },
    {
      "cell_type": "code",
      "source": [
        "for inp_line, trans_line in zip(dev_inp[::500], model.translate_lines(dev_inp[::500])[0]):\n",
        "    print(inp_line)\n",
        "    print(trans_line)\n",
        "    print()"
      ],
      "metadata": {
        "colab": {
          "base_uri": "https://localhost:8080/"
        },
        "id": "WnVE3DyW80o_",
        "outputId": "4567c6e9-9aa9-47b3-8635-d7afda037197"
      },
      "execution_count": 105,
      "outputs": [
        {
          "output_type": "stream",
          "name": "stdout",
          "text": [
            "в распоряжении гостей общая кухня и общая гостиная .\n",
            "guests can use a shared kitchen at the property you will find a shared lounge and shared lounge .\n",
            "\n",
            "кроме того , предоставляется прокат велосипедов , услуги трансфера и бесплатная парковка .\n",
            "bicycle rental and shuttle service are available .\n",
            "\n",
            "расстояние до города ки@@ сси@@ м@@ ми составляет 26 км .\n",
            "kissimmee is 26 km from the property .\n",
            "\n",
            "апартаменты в пент@@ хаусе с общим открытым бассейном , садом , кондиционером и террасой для загара расположены в 5 минутах ходьбы от пляжа на курорте ка@@ бо - рой .\n",
            "offering a shared outdoor pool , a tennis court and a terrace , this air - conditioned apartment features a shared outdoor pool , a terrace and a terrace , the air - conditioned apartment features a shared outdoor pool .\n",
            "\n",
            "апартаменты mo@@ s@@ co@@ w point - loft red square находятся в москве , в 200 метрах от большого театра .\n",
            "mo@@ ni@@ s apartment is located in moscow , 200 metres from mos@@ cov@@ ina .\n",
            "\n",
            "в вашем распоряжении собственная ванная комната с душем и полотенцами .\n",
            "featuring a shower , private bathrooms also come with towels .\n",
            "\n"
          ]
        }
      ]
    },
    {
      "cell_type": "code",
      "source": [],
      "metadata": {
        "id": "3j-PzeAw81Bj"
      },
      "execution_count": null,
      "outputs": []
    }
  ]
}